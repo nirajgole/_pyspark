{
 "cells": [
  {
   "cell_type": "markdown",
   "metadata": {},
   "source": [
    "### JSON Schema\n"
   ]
  },
  {
   "cell_type": "code",
   "execution_count": 1,
   "metadata": {},
   "outputs": [],
   "source": [
    "import findspark as fs\n",
    "fs.init()"
   ]
  },
  {
   "cell_type": "code",
   "execution_count": 2,
   "metadata": {},
   "outputs": [],
   "source": [
    "from pyspark.sql import SparkSession\n",
    "spark = SparkSession.builder.appName(\"Schemas\").master(\"local[2]\").getOrCreate()"
   ]
  },
  {
   "cell_type": "code",
   "execution_count": 3,
   "metadata": {},
   "outputs": [],
   "source": [
    "from pyspark.sql.types import StructType,StructField,StringType,ShortType,ArrayType,IntegerType\n",
    "jsonSchema = StructType(\n",
    "    [StructField('name',StringType()),\n",
    "     StructField('age',ShortType()),\n",
    "     StructField('hobbies',ArrayType(StringType())),\n",
    "     StructField('address',\n",
    "                 StructType(\n",
    "                      [StructField('home no',ShortType()),\n",
    "                      StructField('zip_code',IntegerType()),\n",
    "                     StructField('city',StringType())\n",
    "                      ]))\n",
    "     ])"
   ]
  },
  {
   "cell_type": "code",
   "execution_count": 4,
   "metadata": {},
   "outputs": [
    {
     "name": "stdout",
     "output_type": "stream",
     "text": [
      "+-------+----+--------------------+------------------+\n",
      "|   name| age|             hobbies|           address|\n",
      "+-------+----+--------------------+------------------+\n",
      "|Michael|null|                null|              null|\n",
      "|   Andy|  30|[Trek, Football, ...|              null|\n",
      "| Justin|  19|                null|{12, 411000, Pune}|\n",
      "+-------+----+--------------------+------------------+\n",
      "\n"
     ]
    }
   ],
   "source": [
    "df=spark.read\\\n",
    "    .schema(jsonSchema)\\\n",
    "    .json('./data/people.json')\n",
    "df.show()"
   ]
  },
  {
   "cell_type": "code",
   "execution_count": 5,
   "metadata": {},
   "outputs": [
    {
     "name": "stdout",
     "output_type": "stream",
     "text": [
      "root\n",
      " |-- name: string (nullable = true)\n",
      " |-- age: short (nullable = true)\n",
      " |-- hobbies: array (nullable = true)\n",
      " |    |-- element: string (containsNull = true)\n",
      " |-- address: struct (nullable = true)\n",
      " |    |-- home no: short (nullable = true)\n",
      " |    |-- zip_code: integer (nullable = true)\n",
      " |    |-- city: string (nullable = true)\n",
      "\n"
     ]
    }
   ],
   "source": [
    "df.printSchema()"
   ]
  }
 ],
 "metadata": {
  "kernelspec": {
   "display_name": "Python 3",
   "language": "python",
   "name": "python3"
  },
  "language_info": {
   "codemirror_mode": {
    "name": "ipython",
    "version": 3
   },
   "file_extension": ".py",
   "mimetype": "text/x-python",
   "name": "python",
   "nbconvert_exporter": "python",
   "pygments_lexer": "ipython3",
   "version": "3.11.3"
  },
  "orig_nbformat": 4
 },
 "nbformat": 4,
 "nbformat_minor": 2
}
