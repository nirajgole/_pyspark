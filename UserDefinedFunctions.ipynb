{
 "cells": [
  {
   "cell_type": "code",
   "execution_count": null,
   "id": "6ea0af93-35a9-46ca-927d-3458352905ba",
   "metadata": {},
   "outputs": [],
   "source": [
    "import findspark\n",
    "findspark.init()"
   ]
  },
  {
   "cell_type": "code",
   "execution_count": null,
   "id": "830bf7a9-421b-42a4-a222-d44de592b3d4",
   "metadata": {},
   "outputs": [],
   "source": [
    "from pyspark.sql import SparkSession"
   ]
  },
  {
   "cell_type": "code",
   "execution_count": null,
   "id": "acbef33a-731c-4550-bc40-8e553d915d0c",
   "metadata": {},
   "outputs": [],
   "source": [
    "spark = SparkSession.builder\\\n",
    "                   .appName(\"DF Operations\")\\\n",
    "                   .master(\"local[2]\")\\\n",
    "                   .getOrCreate()"
   ]
  },
  {
   "cell_type": "code",
   "execution_count": null,
   "id": "9840af77-320a-4b3c-a218-d5ef49b36bfe",
   "metadata": {},
   "outputs": [],
   "source": [
    "from pyspark.sql.types import StructType,StructField,StringType,IntegerType,FloatType,DateType,TimestampType,ArrayType"
   ]
  },
  {
   "cell_type": "code",
   "execution_count": null,
   "id": "52a41535-5e92-4d1c-b8e0-ce9fc63df3a8",
   "metadata": {},
   "outputs": [],
   "source": [
    "custSchema = StructType([\n",
    "                        StructField(\"cid\",IntegerType()),\n",
    "                        StructField(\"fname\",StringType()),\n",
    "                        StructField(\"lname\",StringType()),\n",
    "                        StructField(\"age\",IntegerType()),\n",
    "                        StructField(\"desig\",StringType()) \n",
    "                      ])"
   ]
  },
  {
   "cell_type": "code",
   "execution_count": null,
   "id": "fe4fa28f-6c31-4cb9-a497-817241c7e929",
   "metadata": {},
   "outputs": [],
   "source": [
    "custDF = spark.read\\\n",
    "          .option(\"header\",True)\\\n",
    "          .schema(custSchema)\\\n",
    "          .csv(\"d:\\\\data\\\\custs.txt\")\n",
    "custDF.show()"
   ]
  },
  {
   "cell_type": "code",
   "execution_count": null,
   "id": "096af9c4-ca93-44b5-8f16-60ebd5c63aa1",
   "metadata": {},
   "outputs": [],
   "source": [
    "def myconcat(fname,sep,lname):\n",
    "    return(fname+sep+lname)"
   ]
  },
  {
   "cell_type": "code",
   "execution_count": null,
   "id": "6bbcd8da-071c-49ea-8ab7-bcbc390d77c5",
   "metadata": {},
   "outputs": [],
   "source": [
    "myconcat(\"Shrikant\",\"-\",\"Gawande\")"
   ]
  },
  {
   "cell_type": "code",
   "execution_count": null,
   "id": "5acf51ac-cc15-48b2-ab39-8b760f2ebd50",
   "metadata": {},
   "outputs": [],
   "source": [
    "custDF.show(3)"
   ]
  },
  {
   "cell_type": "code",
   "execution_count": null,
   "id": "0519a08a-31da-46a1-b4d1-2c74d9d68a1d",
   "metadata": {},
   "outputs": [],
   "source": [
    "from pyspark.sql.functions import col,lit"
   ]
  },
  {
   "cell_type": "code",
   "execution_count": null,
   "id": "9801635e-a86d-4dfe-b275-a82da86bc418",
   "metadata": {},
   "outputs": [],
   "source": [
    "from pyspark.sql.functions import udf"
   ]
  },
  {
   "cell_type": "code",
   "execution_count": null,
   "id": "0607014d-08aa-45b0-b374-5685c6bcba66",
   "metadata": {},
   "outputs": [],
   "source": [
    "myconcat_udf = udf(myconcat,returnType=StringType())"
   ]
  },
  {
   "cell_type": "code",
   "execution_count": null,
   "id": "65c09cf1-e7e0-4a58-b160-8b4a3c8f3863",
   "metadata": {},
   "outputs": [],
   "source": [
    "custDF.withColumn(\"fullname\",myconcat_udf(col(\"fname\"),lit(\"-\"),col(\"lname\"))).show()"
   ]
  },
  {
   "cell_type": "code",
   "execution_count": 18,
   "id": "380f6db5-8748-46ef-bad9-fa38ef11c32c",
   "metadata": {},
   "outputs": [],
   "source": [
    "custDF.createOrReplaceTempView(\"cust_Table\")"
   ]
  },
  {
   "cell_type": "code",
   "execution_count": 19,
   "id": "4f18229b-23a5-424a-9c74-0da81704ca5b",
   "metadata": {},
   "outputs": [
    {
     "name": "stdout",
     "output_type": "stream",
     "text": [
      "+--------------------+---+\n",
      "|               desig|cnt|\n",
      "+--------------------+---+\n",
      "|          Politician|227|\n",
      "|Computer support ...|222|\n",
      "|        Photographer|222|\n",
      "|        Loan officer|221|\n",
      "|           Librarian|218|\n",
      "|         Firefighter|217|\n",
      "|Computer software...|216|\n",
      "|          Pharmacist|213|\n",
      "|Human resources a...|212|\n",
      "|       Social worker|212|\n",
      "+--------------------+---+\n",
      "\n"
     ]
    }
   ],
   "source": [
    "spark.sql(\"select desig , count(*) as cnt from \\\n",
    "          cust_table group by desig order by cnt desc limit 10\").show()"
   ]
  },
  {
   "cell_type": "code",
   "execution_count": 20,
   "id": "a0c50386-bd90-402b-8998-019032335d23",
   "metadata": {},
   "outputs": [
    {
     "data": {
      "text/plain": [
       "<function __main__.myconcat(fname, sep, lname)>"
      ]
     },
     "execution_count": 20,
     "metadata": {},
     "output_type": "execute_result"
    }
   ],
   "source": [
    "spark.udf.register(\"myconcat_SQL\",myconcat,returnType=StringType())"
   ]
  },
  {
   "cell_type": "code",
   "execution_count": 22,
   "id": "bde355a9-91cd-40c0-97f8-0f3f56cba28a",
   "metadata": {},
   "outputs": [
    {
     "name": "stdout",
     "output_type": "stream",
     "text": [
      "+--------+----------+-----------------------------+\n",
      "|   fname|     lname|myconcat_SQL(fname, -, lname)|\n",
      "+--------+----------+-----------------------------+\n",
      "|Kristina|     Chung|               Kristina-Chung|\n",
      "|   Paige|      Chen|                   Paige-Chen|\n",
      "|  Sherri|    Melton|                Sherri-Melton|\n",
      "|Gretchen|      Hill|                Gretchen-Hill|\n",
      "|   Karen|   Puckett|                Karen-Puckett|\n",
      "| Patrick|      Song|                 Patrick-Song|\n",
      "|   Elsie|  Hamilton|               Elsie-Hamilton|\n",
      "|   Hazel|    Bender|                 Hazel-Bender|\n",
      "| Malcolm|    Wagner|               Malcolm-Wagner|\n",
      "| Dolores|McLaughlin|           Dolores-McLaughlin|\n",
      "| Francis|  McNamara|             Francis-McNamara|\n",
      "|   Sandy|    Raynor|                 Sandy-Raynor|\n",
      "|  Marion|      Moon|                  Marion-Moon|\n",
      "|    Beth|   Woodard|                 Beth-Woodard|\n",
      "|   Julia|     Desai|                  Julia-Desai|\n",
      "|  Jerome|   Wallace|               Jerome-Wallace|\n",
      "|    Neal|  Lawrence|                Neal-Lawrence|\n",
      "|    Jean|   Griffin|                 Jean-Griffin|\n",
      "|Kristine| Dougherty|           Kristine-Dougherty|\n",
      "| Crystal|    Powers|               Crystal-Powers|\n",
      "+--------+----------+-----------------------------+\n",
      "only showing top 20 rows\n",
      "\n"
     ]
    }
   ],
   "source": [
    "spark.sql(\"select fname,lname,myconcat_SQL(fname,'-',lname) from cust_Table\").show()"
   ]
  },
  {
   "cell_type": "code",
   "execution_count": 25,
   "id": "1b9edb49-97df-4d14-9305-2ddc54c06222",
   "metadata": {},
   "outputs": [
    {
     "name": "stdout",
     "output_type": "stream",
     "text": [
      "Function(name='myconcat_SQL', description=None, className=None, isTemporary=True)\n"
     ]
    }
   ],
   "source": [
    "for each in spark.catalog.listFunctions():\n",
    "    if each.name == \"myconcat_SQL\":\n",
    "        print(each)"
   ]
  },
  {
   "cell_type": "code",
   "execution_count": null,
   "id": "818b7a91-5fba-47b9-b7e2-12c13a248070",
   "metadata": {},
   "outputs": [],
   "source": []
  }
 ],
 "metadata": {
  "kernelspec": {
   "display_name": "Python 3 (ipykernel)",
   "language": "python",
   "name": "python3"
  },
  "language_info": {
   "codemirror_mode": {
    "name": "ipython",
    "version": 3
   },
   "file_extension": ".py",
   "mimetype": "text/x-python",
   "name": "python",
   "nbconvert_exporter": "python",
   "pygments_lexer": "ipython3",
   "version": "3.7.10"
  }
 },
 "nbformat": 4,
 "nbformat_minor": 5
}
