{
  "nbformat": 4,
  "nbformat_minor": 0,
  "metadata": {
    "colab": {
      "name": "PySpark Module 4 Demos.ipynb",
      "provenance": []
    },
    "kernelspec": {
      "name": "python3",
      "display_name": "Python 3"
    }
  },
  "cells": [
    {
      "cell_type": "markdown",
      "metadata": {
        "id": "aabbCDTelG93",
        "colab_type": "text"
      },
      "source": [
        "**Checking Java Version**"
      ]
    },
    {
      "cell_type": "code",
      "metadata": {
        "id": "b3Lj6TLLSyYx",
        "colab_type": "code",
        "outputId": "04057946-7930-4c7a-9f03-c53ccec29401",
        "colab": {
          "base_uri": "https://localhost:8080/",
          "height": 68
        }
      },
      "source": [
        "!java -version"
      ],
      "execution_count": 0,
      "outputs": [
        {
          "output_type": "stream",
          "text": [
            "openjdk version \"1.8.0_222\"\n",
            "OpenJDK Runtime Environment (build 1.8.0_222-8u222-b10-1ubuntu1~18.04.1-b10)\n",
            "OpenJDK 64-Bit Server VM (build 25.222-b10, mixed mode)\n"
          ],
          "name": "stdout"
        }
      ]
    },
    {
      "cell_type": "markdown",
      "metadata": {
        "id": "eIL_wYujlOaO",
        "colab_type": "text"
      },
      "source": [
        "**Setting Java 8 environment**"
      ]
    },
    {
      "cell_type": "code",
      "metadata": {
        "id": "8lHHaXP7S4G8",
        "colab_type": "code",
        "outputId": "5e84ab8c-4244-492f-b8d0-1de7c8e72fd6",
        "colab": {
          "base_uri": "https://localhost:8080/",
          "height": 170
        }
      },
      "source": [
        "!sudo update-alternatives --config java"
      ],
      "execution_count": 0,
      "outputs": [
        {
          "output_type": "stream",
          "text": [
            "There are 2 choices for the alternative java (providing /usr/bin/java).\n",
            "\n",
            "  Selection    Path                                            Priority   Status\n",
            "------------------------------------------------------------\n",
            "  0            /usr/lib/jvm/java-11-openjdk-amd64/bin/java      1111      auto mode\n",
            "  1            /usr/lib/jvm/java-11-openjdk-amd64/bin/java      1111      manual mode\n",
            "* 2            /usr/lib/jvm/java-8-openjdk-amd64/jre/bin/java   1081      manual mode\n",
            "\n",
            "Press <enter> to keep the current choice[*], or type selection number: 2\n"
          ],
          "name": "stdout"
        }
      ]
    },
    {
      "cell_type": "markdown",
      "metadata": {
        "id": "vf59bXuXlT7C",
        "colab_type": "text"
      },
      "source": [
        "***Downloading Spark***"
      ]
    },
    {
      "cell_type": "code",
      "metadata": {
        "id": "KGlzL9h0TMvg",
        "colab_type": "code",
        "colab": {}
      },
      "source": [
        "!wget -q http://apachemirror.wuchna.com/spark/spark-2.4.4/spark-2.4.4-bin-hadoop2.7.tgz"
      ],
      "execution_count": 0,
      "outputs": []
    },
    {
      "cell_type": "markdown",
      "metadata": {
        "id": "gxMtZEbLlZX6",
        "colab_type": "text"
      },
      "source": [
        "**Extracting Spark Files**"
      ]
    },
    {
      "cell_type": "code",
      "metadata": {
        "id": "61HTx1I6TuBT",
        "colab_type": "code",
        "colab": {}
      },
      "source": [
        "!tar xf spark-2.4.4-bin-hadoop2.7.tgz"
      ],
      "execution_count": 0,
      "outputs": []
    },
    {
      "cell_type": "markdown",
      "metadata": {
        "id": "3ZfyeAYqlsX3",
        "colab_type": "text"
      },
      "source": [
        "**Installing FindSpark**"
      ]
    },
    {
      "cell_type": "code",
      "metadata": {
        "id": "hG1l--IqT19f",
        "colab_type": "code",
        "colab": {}
      },
      "source": [
        "!pip install -q findspark"
      ],
      "execution_count": 0,
      "outputs": []
    },
    {
      "cell_type": "markdown",
      "metadata": {
        "id": "0eZmpH4vlycw",
        "colab_type": "text"
      },
      "source": [
        "**Setting up Home environment**"
      ]
    },
    {
      "cell_type": "code",
      "metadata": {
        "id": "HUTNytpfT55R",
        "colab_type": "code",
        "colab": {}
      },
      "source": [
        "import os\n",
        "os.environ[\"JAVA_HOME\"] = \"/usr/lib/jvm/java-8-openjdk-amd64\"\n",
        "os.environ[\"SPARK_HOME\"] = \"/content/spark-2.4.4-bin-hadoop2.7\""
      ],
      "execution_count": 0,
      "outputs": []
    },
    {
      "cell_type": "markdown",
      "metadata": {
        "id": "a4SMHqrql8OB",
        "colab_type": "text"
      },
      "source": [
        "**Creating Spark Session**"
      ]
    },
    {
      "cell_type": "code",
      "metadata": {
        "id": "DqaFEAPUUIWB",
        "colab_type": "code",
        "colab": {}
      },
      "source": [
        "import findspark\n",
        "findspark.init()\n",
        "from pyspark.sql import SparkSession\n",
        "spark = SparkSession.builder.master(\"local[*]\").getOrCreate()"
      ],
      "execution_count": 0,
      "outputs": []
    },
    {
      "cell_type": "markdown",
      "metadata": {
        "id": "Kxo_psEnmAcx",
        "colab_type": "text"
      },
      "source": [
        "**Stopping the session**"
      ]
    },
    {
      "cell_type": "code",
      "metadata": {
        "id": "Zp3XTWDWW4Vg",
        "colab_type": "code",
        "colab": {}
      },
      "source": [
        "spark.stop()"
      ],
      "execution_count": 0,
      "outputs": []
    },
    {
      "cell_type": "markdown",
      "metadata": {
        "id": "G3XiBXUtmFVQ",
        "colab_type": "text"
      },
      "source": [
        "**Installing Pyspark**"
      ]
    },
    {
      "cell_type": "code",
      "metadata": {
        "id": "t47RbfoUUlwd",
        "colab_type": "code",
        "outputId": "feea616e-4fe4-4c18-9a27-b1942af89cca",
        "colab": {
          "base_uri": "https://localhost:8080/",
          "height": 51
        }
      },
      "source": [
        "!pip install pyspark"
      ],
      "execution_count": 0,
      "outputs": [
        {
          "output_type": "stream",
          "text": [
            "Requirement already satisfied: pyspark in /usr/local/lib/python3.6/dist-packages (2.4.4)\n",
            "Requirement already satisfied: py4j==0.10.7 in /usr/local/lib/python3.6/dist-packages (from pyspark) (0.10.7)\n"
          ],
          "name": "stdout"
        }
      ]
    },
    {
      "cell_type": "markdown",
      "metadata": {
        "id": "4yQLyJHnnVUr",
        "colab_type": "text"
      },
      "source": [
        "# First PySpark Job"
      ]
    },
    {
      "cell_type": "markdown",
      "metadata": {
        "id": "t1aDgzwJmMEK",
        "colab_type": "text"
      },
      "source": [
        "**Importing Pyspark**"
      ]
    },
    {
      "cell_type": "code",
      "metadata": {
        "id": "r7yhv4QTVohQ",
        "colab_type": "code",
        "colab": {}
      },
      "source": [
        "import pyspark"
      ],
      "execution_count": 0,
      "outputs": []
    },
    {
      "cell_type": "markdown",
      "metadata": {
        "id": "9QfqBA1XmR1K",
        "colab_type": "text"
      },
      "source": [
        "**Creating a Spark Context**"
      ]
    },
    {
      "cell_type": "code",
      "metadata": {
        "id": "FVfR_YipUjf1",
        "colab_type": "code",
        "colab": {}
      },
      "source": [
        "from pyspark import SparkConf\n",
        "from pyspark import SparkContext\n",
        "conf = SparkConf()\n",
        "conf.setMaster('local')\n",
        "conf.setAppName('spark-basic')\n",
        "sc = SparkContext(conf=conf)"
      ],
      "execution_count": 0,
      "outputs": []
    },
    {
      "cell_type": "markdown",
      "metadata": {
        "id": "xLJW1-rqmZm4",
        "colab_type": "text"
      },
      "source": [
        "**Function to calculate mod**"
      ]
    },
    {
      "cell_type": "code",
      "metadata": {
        "id": "BsNAa_wymsu3",
        "colab_type": "code",
        "colab": {}
      },
      "source": [
        "def mod(x):\n",
        "    import numpy as np\n",
        "    return (x, np.mod(x, 2))"
      ],
      "execution_count": 0,
      "outputs": []
    },
    {
      "cell_type": "markdown",
      "metadata": {
        "id": "VaKscOUCnKfX",
        "colab_type": "text"
      },
      "source": [
        "**Creating an RDD**"
      ]
    },
    {
      "cell_type": "code",
      "metadata": {
        "id": "ojCk6ki8mthn",
        "colab_type": "code",
        "outputId": "1e17aa09-53a5-4940-c3fb-964d110b1356",
        "colab": {
          "base_uri": "https://localhost:8080/",
          "height": 34
        }
      },
      "source": [
        "rdd = sc.parallelize(range(1000)).map(mod).take(10)\n",
        "print(rdd)"
      ],
      "execution_count": 0,
      "outputs": [
        {
          "output_type": "stream",
          "text": [
            "[(0, 0), (1, 1), (2, 0), (3, 1), (4, 0), (5, 1), (6, 0), (7, 1), (8, 0), (9, 1)]\n"
          ],
          "name": "stdout"
        }
      ]
    },
    {
      "cell_type": "markdown",
      "metadata": {
        "id": "ffpSHVSqoTJG",
        "colab_type": "text"
      },
      "source": [
        "**Creating an RDD using List**"
      ]
    },
    {
      "cell_type": "code",
      "metadata": {
        "id": "Vny_r0XyoTtX",
        "colab_type": "code",
        "colab": {}
      },
      "source": [
        "values = [1, 2, 3, 4, 5]\n",
        "rdd = sc.parallelize(values)"
      ],
      "execution_count": 0,
      "outputs": []
    },
    {
      "cell_type": "markdown",
      "metadata": {
        "id": "VFiZeKPTojTA",
        "colab_type": "text"
      },
      "source": [
        "**Printing all the 5 elements of RDD**"
      ]
    },
    {
      "cell_type": "code",
      "metadata": {
        "id": "oj2fMbO1ojcP",
        "colab_type": "code",
        "outputId": "8e4fb02c-836c-4319-ad49-dc54670b5614",
        "colab": {
          "base_uri": "https://localhost:8080/",
          "height": 34
        }
      },
      "source": [
        "rdd.take(5)"
      ],
      "execution_count": 0,
      "outputs": [
        {
          "output_type": "execute_result",
          "data": {
            "text/plain": [
              "[1, 2, 3, 4, 5]"
            ]
          },
          "metadata": {
            "tags": []
          },
          "execution_count": 28
        }
      ]
    },
    {
      "cell_type": "markdown",
      "metadata": {
        "id": "O8iceRzJpHEf",
        "colab_type": "text"
      },
      "source": [
        "**Uploading Files to Colab**"
      ]
    },
    {
      "cell_type": "code",
      "metadata": {
        "id": "SjvkzvVQpHQP",
        "colab_type": "code",
        "outputId": "4a9be6aa-f7ea-472d-c0cd-1b7330e96c17",
        "colab": {
          "resources": {
            "http://localhost:8080/nbextensions/google.colab/files.js": {
              "data": "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",
              "ok": true,
              "headers": [
                [
                  "content-type",
                  "application/javascript"
                ]
              ],
              "status": 200,
              "status_text": ""
            }
          },
          "base_uri": "https://localhost:8080/",
          "height": 74
        }
      },
      "source": [
        "from google.colab import files\n",
        "uploaded = files.upload()"
      ],
      "execution_count": 0,
      "outputs": [
        {
          "output_type": "display_data",
          "data": {
            "text/html": [
              "\n",
              "     <input type=\"file\" id=\"files-1aa953ca-9d33-4af5-b703-74b41504887c\" name=\"files[]\" multiple disabled />\n",
              "     <output id=\"result-1aa953ca-9d33-4af5-b703-74b41504887c\">\n",
              "      Upload widget is only available when the cell has been executed in the\n",
              "      current browser session. Please rerun this cell to enable.\n",
              "      </output>\n",
              "      <script src=\"/nbextensions/google.colab/files.js\"></script> "
            ],
            "text/plain": [
              "<IPython.core.display.HTML object>"
            ]
          },
          "metadata": {
            "tags": []
          }
        },
        {
          "output_type": "stream",
          "text": [
            "Saving Spark.txt to Spark.txt\n"
          ],
          "name": "stdout"
        }
      ]
    },
    {
      "cell_type": "markdown",
      "metadata": {
        "id": "efk3X18npX8C",
        "colab_type": "text"
      },
      "source": [
        "**Loading a text file to Spark**"
      ]
    },
    {
      "cell_type": "code",
      "metadata": {
        "id": "Msf2fMBIpYCY",
        "colab_type": "code",
        "colab": {}
      },
      "source": [
        "rdd = sc.textFile(\"Spark.txt\")"
      ],
      "execution_count": 0,
      "outputs": []
    },
    {
      "cell_type": "markdown",
      "metadata": {
        "id": "bzwZVFhWpgWf",
        "colab_type": "text"
      },
      "source": [
        "**Print the rdd data**"
      ]
    },
    {
      "cell_type": "code",
      "metadata": {
        "id": "NRNsJ_Mjpgjn",
        "colab_type": "code",
        "outputId": "06292f07-582e-4630-ecdc-0a626e1dad40",
        "colab": {
          "base_uri": "https://localhost:8080/",
          "height": 34
        }
      },
      "source": [
        "rdd.collect()"
      ],
      "execution_count": 0,
      "outputs": [
        {
          "output_type": "execute_result",
          "data": {
            "text/plain": [
              "['Apache Spark with Python is PySpark']"
            ]
          },
          "metadata": {
            "tags": []
          },
          "execution_count": 31
        }
      ]
    },
    {
      "cell_type": "markdown",
      "metadata": {
        "id": "C9Iatskrp5Jw",
        "colab_type": "text"
      },
      "source": [
        "**RDD Persistence**"
      ]
    },
    {
      "cell_type": "code",
      "metadata": {
        "id": "357Jbh7mp5RG",
        "colab_type": "code",
        "outputId": "dcd1a44e-eec4-40a8-aa83-18ada57f5b7d",
        "colab": {
          "base_uri": "https://localhost:8080/",
          "height": 34
        }
      },
      "source": [
        "aba = sc.parallelize(range(1,10000,2))\n",
        "aba.persist()"
      ],
      "execution_count": 0,
      "outputs": [
        {
          "output_type": "execute_result",
          "data": {
            "text/plain": [
              "PythonRDD[7] at RDD at PythonRDD.scala:53"
            ]
          },
          "metadata": {
            "tags": []
          },
          "execution_count": 32
        }
      ]
    },
    {
      "cell_type": "markdown",
      "metadata": {
        "id": "mHcG2CoaqEiS",
        "colab_type": "text"
      },
      "source": [
        "**RDD Caching**"
      ]
    },
    {
      "cell_type": "code",
      "metadata": {
        "id": "GrWq-IkGqEu_",
        "colab_type": "code",
        "outputId": "3e3a2659-b3d1-4648-afeb-8180c65ae765",
        "colab": {
          "base_uri": "https://localhost:8080/",
          "height": 34
        }
      },
      "source": [
        "textFile = sc.textFile(\"Spark.txt\")\n",
        "textFile.cache()"
      ],
      "execution_count": 0,
      "outputs": [
        {
          "output_type": "execute_result",
          "data": {
            "text/plain": [
              "Spark.txt MapPartitionsRDD[9] at textFile at NativeMethodAccessorImpl.java:0"
            ]
          },
          "metadata": {
            "tags": []
          },
          "execution_count": 33
        }
      ]
    },
    {
      "cell_type": "markdown",
      "metadata": {
        "id": "i8DLq1zJrB45",
        "colab_type": "text"
      },
      "source": [
        "**Map**"
      ]
    },
    {
      "cell_type": "code",
      "metadata": {
        "id": "RA6UpUBwULjd",
        "colab_type": "code",
        "outputId": "5e84b703-e5dc-4dcf-b00a-b4519ae20118",
        "colab": {
          "base_uri": "https://localhost:8080/",
          "height": 34
        }
      },
      "source": [
        "x = sc.parallelize([\"spark\", \"rdd\", \"example\",  \"sample\", \"example\"])\n",
        "y = x.map(lambda x:(x, 1))\n",
        "y.collect()"
      ],
      "execution_count": 0,
      "outputs": [
        {
          "output_type": "execute_result",
          "data": {
            "text/plain": [
              "[('spark', 1), ('rdd', 1), ('example', 1), ('sample', 1), ('example', 1)]"
            ]
          },
          "metadata": {
            "tags": []
          },
          "execution_count": 34
        }
      ]
    },
    {
      "cell_type": "markdown",
      "metadata": {
        "id": "HeGtRS04rHbE",
        "colab_type": "text"
      },
      "source": [
        "**FlatMap**"
      ]
    },
    {
      "cell_type": "code",
      "metadata": {
        "id": "qdpdIg1SYNQv",
        "colab_type": "code",
        "outputId": "05c3794c-50e1-4abc-eaa4-bf5cee2bc87c",
        "colab": {
          "base_uri": "https://localhost:8080/",
          "height": 34
        }
      },
      "source": [
        "rdd = sc.parallelize([2, 3, 4])\n",
        "sorted(rdd.flatMap(lambda x: range(1, x)).collect())"
      ],
      "execution_count": 0,
      "outputs": [
        {
          "output_type": "execute_result",
          "data": {
            "text/plain": [
              "[1, 1, 1, 2, 2, 3]"
            ]
          },
          "metadata": {
            "tags": []
          },
          "execution_count": 35
        }
      ]
    },
    {
      "cell_type": "markdown",
      "metadata": {
        "id": "C1ypuSX_rR3m",
        "colab_type": "text"
      },
      "source": [
        "**Filter**"
      ]
    },
    {
      "cell_type": "code",
      "metadata": {
        "id": "Boh8Bd26Z5j7",
        "colab_type": "code",
        "outputId": "cdd2e942-e4c6-4edb-df44-281701ab79d1",
        "colab": {
          "base_uri": "https://localhost:8080/",
          "height": 34
        }
      },
      "source": [
        "rdd = sc.parallelize([1, 2, 3, 4, 5, 6])\n",
        "rdd.filter(lambda x: x % 2 == 0).collect()"
      ],
      "execution_count": 0,
      "outputs": [
        {
          "output_type": "execute_result",
          "data": {
            "text/plain": [
              "[2, 4, 6]"
            ]
          },
          "metadata": {
            "tags": []
          },
          "execution_count": 37
        }
      ]
    },
    {
      "cell_type": "markdown",
      "metadata": {
        "id": "kzzNRblQrgXX",
        "colab_type": "text"
      },
      "source": [
        "**Sample**"
      ]
    },
    {
      "cell_type": "code",
      "metadata": {
        "id": "pUtu87OaZ5qY",
        "colab_type": "code",
        "outputId": "eca49c14-78b5-47cf-f2ef-747650d55854",
        "colab": {
          "base_uri": "https://localhost:8080/",
          "height": 34
        }
      },
      "source": [
        "parallel = sc.parallelize(range(9))\n",
        "parallel.sample(True,.2).count()"
      ],
      "execution_count": 0,
      "outputs": [
        {
          "output_type": "execute_result",
          "data": {
            "text/plain": [
              "1"
            ]
          },
          "metadata": {
            "tags": []
          },
          "execution_count": 38
        }
      ]
    },
    {
      "cell_type": "markdown",
      "metadata": {
        "id": "_bsZCW5Rcvf9",
        "colab_type": "text"
      },
      "source": [
        "**Sample**"
      ]
    },
    {
      "cell_type": "code",
      "metadata": {
        "id": "1EBw7Qd_cjuk",
        "colab_type": "code",
        "outputId": "6137b4b7-2ad8-4940-8b6d-d1d085d0598c",
        "colab": {
          "base_uri": "https://localhost:8080/",
          "height": 34
        }
      },
      "source": [
        "parallel.sample(False,1).collect()"
      ],
      "execution_count": 0,
      "outputs": [
        {
          "output_type": "execute_result",
          "data": {
            "text/plain": [
              "[0, 1, 2, 3, 4, 5, 6, 7, 8]"
            ]
          },
          "metadata": {
            "tags": []
          },
          "execution_count": 39
        }
      ]
    },
    {
      "cell_type": "markdown",
      "metadata": {
        "id": "g2jWTVsosAoO",
        "colab_type": "text"
      },
      "source": [
        "**Union**"
      ]
    },
    {
      "cell_type": "code",
      "metadata": {
        "id": "IIAaw0BGcmR_",
        "colab_type": "code",
        "outputId": "12b62c40-a4c2-4994-922f-75d137166fa1",
        "colab": {
          "base_uri": "https://localhost:8080/",
          "height": 34
        }
      },
      "source": [
        "parallel = sc.parallelize(range(1,9))\n",
        "par = sc.parallelize(range(5,15))\n",
        "parallel.union(par).collect()"
      ],
      "execution_count": 0,
      "outputs": [
        {
          "output_type": "execute_result",
          "data": {
            "text/plain": [
              "[1, 2, 3, 4, 5, 6, 7, 8, 5, 6, 7, 8, 9, 10, 11, 12, 13, 14]"
            ]
          },
          "metadata": {
            "tags": []
          },
          "execution_count": 40
        }
      ]
    },
    {
      "cell_type": "markdown",
      "metadata": {
        "id": "-3YeIoK-sHrZ",
        "colab_type": "text"
      },
      "source": [
        "**Intersection**"
      ]
    },
    {
      "cell_type": "code",
      "metadata": {
        "id": "6MUk0eTFeBxX",
        "colab_type": "code",
        "outputId": "91a676f1-4c40-4d3f-f644-128cf01b7419",
        "colab": {
          "base_uri": "https://localhost:8080/",
          "height": 34
        }
      },
      "source": [
        "parallel = sc.parallelize(range(1,9))\n",
        "par = sc.parallelize(range(5,15))\n",
        "parallel.intersection(par).collect()"
      ],
      "execution_count": 0,
      "outputs": [
        {
          "output_type": "execute_result",
          "data": {
            "text/plain": [
              "[6, 8, 5, 7]"
            ]
          },
          "metadata": {
            "tags": []
          },
          "execution_count": 41
        }
      ]
    },
    {
      "cell_type": "markdown",
      "metadata": {
        "id": "-F8TBPjFsPGv",
        "colab_type": "text"
      },
      "source": [
        "**Distinct**"
      ]
    },
    {
      "cell_type": "code",
      "metadata": {
        "id": "QMPDLdMfeOtg",
        "colab_type": "code",
        "outputId": "58ff5473-0207-4bc5-b24e-430668e2bea6",
        "colab": {
          "base_uri": "https://localhost:8080/",
          "height": 34
        }
      },
      "source": [
        "parallel = sc.parallelize(range(1,9))\n",
        "par = sc.parallelize(range(5,15))\n",
        "parallel.union(par).distinct().collect()"
      ],
      "execution_count": 0,
      "outputs": [
        {
          "output_type": "execute_result",
          "data": {
            "text/plain": [
              "[2, 4, 6, 8, 10, 12, 14, 1, 3, 5, 7, 9, 11, 13]"
            ]
          },
          "metadata": {
            "tags": []
          },
          "execution_count": 42
        }
      ]
    },
    {
      "cell_type": "markdown",
      "metadata": {
        "id": "KfR7ygErsU_v",
        "colab_type": "text"
      },
      "source": [
        "**SortBy**"
      ]
    },
    {
      "cell_type": "code",
      "metadata": {
        "id": "TAyWJFJeeOzh",
        "colab_type": "code",
        "outputId": "3085ec9f-1d9f-4bea-b812-877905c68d12",
        "colab": {
          "base_uri": "https://localhost:8080/",
          "height": 34
        }
      },
      "source": [
        "y = sc.parallelize([5, 7, 1, 3, 2, 1, 10])\n",
        "y.sortBy(lambda c: c, True).collect()"
      ],
      "execution_count": 0,
      "outputs": [
        {
          "output_type": "execute_result",
          "data": {
            "text/plain": [
              "[1, 1, 2, 3, 5, 7, 10]"
            ]
          },
          "metadata": {
            "tags": []
          },
          "execution_count": 44
        }
      ]
    },
    {
      "cell_type": "markdown",
      "metadata": {
        "id": "st3hsxQzsb5G",
        "colab_type": "text"
      },
      "source": [
        "**SortBy**"
      ]
    },
    {
      "cell_type": "code",
      "metadata": {
        "id": "VBAgn2nQeO5e",
        "colab_type": "code",
        "outputId": "9ef97f65-4f6f-4214-a9ee-421c6c0bfa04",
        "colab": {
          "base_uri": "https://localhost:8080/",
          "height": 34
        }
      },
      "source": [
        "z = sc.parallelize([(\"H\", 10), (\"A\", 26), (\"Z\", 1), (\"L\", 5)])\n",
        "z.sortBy(lambda c: c, False).collect()"
      ],
      "execution_count": 0,
      "outputs": [
        {
          "output_type": "execute_result",
          "data": {
            "text/plain": [
              "[('Z', 1), ('L', 5), ('H', 10), ('A', 26)]"
            ]
          },
          "metadata": {
            "tags": []
          },
          "execution_count": 47
        }
      ]
    },
    {
      "cell_type": "markdown",
      "metadata": {
        "id": "8hhaNbG1sgr3",
        "colab_type": "text"
      },
      "source": [
        "**MapPartitions**"
      ]
    },
    {
      "cell_type": "code",
      "metadata": {
        "id": "UjWSsNCJeO88",
        "colab_type": "code",
        "outputId": "59abf2fe-c1a7-4701-a8d9-f3129b0f7b4c",
        "colab": {
          "base_uri": "https://localhost:8080/",
          "height": 34
        }
      },
      "source": [
        "rdd = sc.parallelize([1, 2, 3, 4], 2)\n",
        "def f(iterator): yield sum(iterator)\n",
        "rdd.mapPartitions(f).collect()"
      ],
      "execution_count": 0,
      "outputs": [
        {
          "output_type": "execute_result",
          "data": {
            "text/plain": [
              "[3, 7]"
            ]
          },
          "metadata": {
            "tags": []
          },
          "execution_count": 48
        }
      ]
    },
    {
      "cell_type": "markdown",
      "metadata": {
        "id": "bHh_mtDJsrGP",
        "colab_type": "text"
      },
      "source": [
        "**MapPartitions - WithIndex**"
      ]
    },
    {
      "cell_type": "code",
      "metadata": {
        "id": "oRFd_BCReO3B",
        "colab_type": "code",
        "outputId": "4ae666d3-fa5e-42c6-874a-46e2866634a5",
        "colab": {
          "base_uri": "https://localhost:8080/",
          "height": 34
        }
      },
      "source": [
        "rdd = sc.parallelize([1, 2, 3, 4], 4)\n",
        "def f(splitIndex, iterator): yield splitIndex\n",
        "rdd.mapPartitionsWithIndex(f).sum()"
      ],
      "execution_count": 0,
      "outputs": [
        {
          "output_type": "execute_result",
          "data": {
            "text/plain": [
              "6"
            ]
          },
          "metadata": {
            "tags": []
          },
          "execution_count": 49
        }
      ]
    },
    {
      "cell_type": "markdown",
      "metadata": {
        "id": "kjwiz2oSs1Ru",
        "colab_type": "text"
      },
      "source": [
        "**GroupBy**"
      ]
    },
    {
      "cell_type": "code",
      "metadata": {
        "id": "Z7aMNjjAeOxI",
        "colab_type": "code",
        "outputId": "9116d62c-607a-4b26-a1e4-08e7cc02fc27",
        "colab": {
          "base_uri": "https://localhost:8080/",
          "height": 34
        }
      },
      "source": [
        "rdd = sc.parallelize([1, 1, 2, 3, 5, 8])\n",
        "result = rdd.groupBy(lambda x: x % 2).collect()\n",
        "sorted([(x, sorted(y)) for (x, y) in result])"
      ],
      "execution_count": 0,
      "outputs": [
        {
          "output_type": "execute_result",
          "data": {
            "text/plain": [
              "[(0, [2, 8]), (1, [1, 1, 3, 5])]"
            ]
          },
          "metadata": {
            "tags": []
          },
          "execution_count": 50
        }
      ]
    },
    {
      "cell_type": "markdown",
      "metadata": {
        "id": "UEvq3648s8aC",
        "colab_type": "text"
      },
      "source": [
        "**KeyBy**"
      ]
    },
    {
      "cell_type": "code",
      "metadata": {
        "id": "gr4gQBDYmtEz",
        "colab_type": "code",
        "outputId": "75f18b48-9fc4-479f-a5a7-1ee521e0cf46",
        "colab": {
          "base_uri": "https://localhost:8080/",
          "height": 102
        }
      },
      "source": [
        "x = sc.parallelize(range(0,3)).keyBy(lambda x: x*x)\n",
        "y = sc.parallelize(zip(range(0,5), range(0,5)))\n",
        "[(x, list(map(list, y))) for x, y in sorted(x.cogroup(y).collect())]"
      ],
      "execution_count": 0,
      "outputs": [
        {
          "output_type": "execute_result",
          "data": {
            "text/plain": [
              "[(0, [[0], [0]]),\n",
              " (1, [[1], [1]]),\n",
              " (2, [[], [2]]),\n",
              " (3, [[], [3]]),\n",
              " (4, [[2], [4]])]"
            ]
          },
          "metadata": {
            "tags": []
          },
          "execution_count": 51
        }
      ]
    },
    {
      "cell_type": "markdown",
      "metadata": {
        "id": "AJkk3z0JtCKn",
        "colab_type": "text"
      },
      "source": [
        "**Zip**"
      ]
    },
    {
      "cell_type": "code",
      "metadata": {
        "id": "ZjfG4WOUm75-",
        "colab_type": "code",
        "outputId": "cd8ac895-6611-4d01-dabe-98536ead59a5",
        "colab": {
          "base_uri": "https://localhost:8080/",
          "height": 34
        }
      },
      "source": [
        "x = sc.parallelize(range(0,5))\n",
        "y = sc.parallelize(range(1000, 1005))\n",
        "x.zip(y).collect()"
      ],
      "execution_count": 0,
      "outputs": [
        {
          "output_type": "execute_result",
          "data": {
            "text/plain": [
              "[(0, 1000), (1, 1001), (2, 1002), (3, 1003), (4, 1004)]"
            ]
          },
          "metadata": {
            "tags": []
          },
          "execution_count": 52
        }
      ]
    },
    {
      "cell_type": "markdown",
      "metadata": {
        "id": "jg6ntoZHtJ6B",
        "colab_type": "text"
      },
      "source": [
        "**Zip - WithIndex**"
      ]
    },
    {
      "cell_type": "code",
      "metadata": {
        "id": "dxBqVMuxzoNk",
        "colab_type": "code",
        "outputId": "25e0abe9-63d7-4def-fad5-0b868c26329e",
        "colab": {
          "base_uri": "https://localhost:8080/",
          "height": 34
        }
      },
      "source": [
        "sc.parallelize([\"a\", \"b\", \"c\", \"d\"], 3).zipWithIndex().collect()"
      ],
      "execution_count": 0,
      "outputs": [
        {
          "output_type": "execute_result",
          "data": {
            "text/plain": [
              "[('a', 0), ('b', 1), ('c', 2), ('d', 3)]"
            ]
          },
          "metadata": {
            "tags": []
          },
          "execution_count": 53
        }
      ]
    },
    {
      "cell_type": "markdown",
      "metadata": {
        "id": "gXL-J06QtRXm",
        "colab_type": "text"
      },
      "source": [
        "**Repartition**"
      ]
    },
    {
      "cell_type": "code",
      "metadata": {
        "id": "133AwSCM0zqp",
        "colab_type": "code",
        "outputId": "9a73f1d9-80f6-4474-ef43-e1f3e94c98d8",
        "colab": {
          "base_uri": "https://localhost:8080/",
          "height": 34
        }
      },
      "source": [
        "rdd = sc.parallelize([1,2,3,4,5,6,7], 4)\n",
        "sorted(rdd.glom().collect())"
      ],
      "execution_count": 0,
      "outputs": [
        {
          "output_type": "execute_result",
          "data": {
            "text/plain": [
              "[[1], [2, 3], [4, 5], [6, 7]]"
            ]
          },
          "metadata": {
            "tags": []
          },
          "execution_count": 54
        }
      ]
    },
    {
      "cell_type": "code",
      "metadata": {
        "id": "Uf87x1_V1XTD",
        "colab_type": "code",
        "outputId": "cfd60a0a-e323-40ce-86ed-ed9a7f1448d5",
        "colab": {
          "base_uri": "https://localhost:8080/",
          "height": 34
        }
      },
      "source": [
        "len(rdd.repartition(2).glom().collect())"
      ],
      "execution_count": 0,
      "outputs": [
        {
          "output_type": "execute_result",
          "data": {
            "text/plain": [
              "2"
            ]
          },
          "metadata": {
            "tags": []
          },
          "execution_count": 55
        }
      ]
    },
    {
      "cell_type": "markdown",
      "metadata": {
        "id": "1zuIxa7Wte9m",
        "colab_type": "text"
      },
      "source": [
        "**Coalesce**"
      ]
    },
    {
      "cell_type": "code",
      "metadata": {
        "id": "IHwhvUe71XZD",
        "colab_type": "code",
        "outputId": "de188e55-a97b-4d50-84a2-e13f25f3026b",
        "colab": {
          "base_uri": "https://localhost:8080/",
          "height": 34
        }
      },
      "source": [
        "sc.parallelize([1, 2, 3, 4, 5], 3).glom().collect()"
      ],
      "execution_count": 0,
      "outputs": [
        {
          "output_type": "execute_result",
          "data": {
            "text/plain": [
              "[[1], [2, 3], [4, 5]]"
            ]
          },
          "metadata": {
            "tags": []
          },
          "execution_count": 56
        }
      ]
    },
    {
      "cell_type": "code",
      "metadata": {
        "id": "f1_9XK651Xbs",
        "colab_type": "code",
        "outputId": "8428fbc5-b7cd-43dc-b373-7e8b609f5d88",
        "colab": {
          "base_uri": "https://localhost:8080/",
          "height": 34
        }
      },
      "source": [
        "sc.parallelize([1, 2, 3, 4, 5], 3).coalesce(2).glom().collect()"
      ],
      "execution_count": 0,
      "outputs": [
        {
          "output_type": "execute_result",
          "data": {
            "text/plain": [
              "[[1], [2, 3, 4, 5]]"
            ]
          },
          "metadata": {
            "tags": []
          },
          "execution_count": 57
        }
      ]
    },
    {
      "cell_type": "markdown",
      "metadata": {
        "id": "G_JIusPJttPy",
        "colab_type": "text"
      },
      "source": [
        "**Reduce**"
      ]
    },
    {
      "cell_type": "code",
      "metadata": {
        "id": "sKvSQzLM1Xhw",
        "colab_type": "code",
        "outputId": "c830553f-fda7-4c23-fe56-5560e0b7b8f0",
        "colab": {
          "base_uri": "https://localhost:8080/",
          "height": 34
        }
      },
      "source": [
        "from operator import add\n",
        "sc.parallelize([1, 2, 3, 4, 5]).reduce(add)"
      ],
      "execution_count": 0,
      "outputs": [
        {
          "output_type": "execute_result",
          "data": {
            "text/plain": [
              "15"
            ]
          },
          "metadata": {
            "tags": []
          },
          "execution_count": 58
        }
      ]
    },
    {
      "cell_type": "code",
      "metadata": {
        "id": "j2c1kJgg6toT",
        "colab_type": "code",
        "outputId": "f16a7dff-c89e-430e-e0ea-e0f4d43c5bbb",
        "colab": {
          "base_uri": "https://localhost:8080/",
          "height": 34
        }
      },
      "source": [
        "sc.parallelize((2 for _ in range(10))).map(lambda x: 1).cache().reduce(add)"
      ],
      "execution_count": 0,
      "outputs": [
        {
          "output_type": "execute_result",
          "data": {
            "text/plain": [
              "10"
            ]
          },
          "metadata": {
            "tags": []
          },
          "execution_count": 59
        }
      ]
    },
    {
      "cell_type": "markdown",
      "metadata": {
        "id": "NAYW0kVtt0zP",
        "colab_type": "text"
      },
      "source": [
        "**First**"
      ]
    },
    {
      "cell_type": "code",
      "metadata": {
        "id": "wNMtXMro6txZ",
        "colab_type": "code",
        "outputId": "8d089213-c888-4023-f671-477b1c1a8ad8",
        "colab": {
          "base_uri": "https://localhost:8080/",
          "height": 34
        }
      },
      "source": [
        "sc.parallelize([1, 2, 3, 4]).first()"
      ],
      "execution_count": 0,
      "outputs": [
        {
          "output_type": "execute_result",
          "data": {
            "text/plain": [
              "1"
            ]
          },
          "metadata": {
            "tags": []
          },
          "execution_count": 61
        }
      ]
    },
    {
      "cell_type": "markdown",
      "metadata": {
        "id": "vXwTEmBNt5G2",
        "colab_type": "text"
      },
      "source": [
        "**TakeOrdered**"
      ]
    },
    {
      "cell_type": "code",
      "metadata": {
        "id": "2xPONGoU6t1o",
        "colab_type": "code",
        "outputId": "5c920abb-aacd-4ab3-f5a8-2355120cd458",
        "colab": {
          "base_uri": "https://localhost:8080/",
          "height": 34
        }
      },
      "source": [
        "nums = sc.parallelize([1,5,3,9,4,0,2])\n",
        "nums.takeOrdered(5)"
      ],
      "execution_count": 0,
      "outputs": [
        {
          "output_type": "execute_result",
          "data": {
            "text/plain": [
              "[0, 1, 2, 3, 4]"
            ]
          },
          "metadata": {
            "tags": []
          },
          "execution_count": 62
        }
      ]
    },
    {
      "cell_type": "markdown",
      "metadata": {
        "id": "b_tYE0vft_Ah",
        "colab_type": "text"
      },
      "source": [
        "**Take**"
      ]
    },
    {
      "cell_type": "code",
      "metadata": {
        "id": "a06dpPPf8qPH",
        "colab_type": "code",
        "outputId": "0339b456-497c-433a-fe3e-9d864eecc037",
        "colab": {
          "base_uri": "https://localhost:8080/",
          "height": 34
        }
      },
      "source": [
        "nums = sc.parallelize([1,5,3,9,4,0,2])\n",
        "nums.take(5)"
      ],
      "execution_count": 0,
      "outputs": [
        {
          "output_type": "execute_result",
          "data": {
            "text/plain": [
              "[1, 5, 3, 9, 4]"
            ]
          },
          "metadata": {
            "tags": []
          },
          "execution_count": 63
        }
      ]
    },
    {
      "cell_type": "markdown",
      "metadata": {
        "id": "s1j5GKIuuD_f",
        "colab_type": "text"
      },
      "source": [
        "**Count**"
      ]
    },
    {
      "cell_type": "code",
      "metadata": {
        "id": "dQxi9W4s9JRG",
        "colab_type": "code",
        "outputId": "223b3201-d223-4d19-dc82-2a47bdea28bb",
        "colab": {
          "base_uri": "https://localhost:8080/",
          "height": 34
        }
      },
      "source": [
        "nums = sc.parallelize([1,5,3,9,4,0,2,4])\n",
        "nums.count()"
      ],
      "execution_count": 0,
      "outputs": [
        {
          "output_type": "execute_result",
          "data": {
            "text/plain": [
              "8"
            ]
          },
          "metadata": {
            "tags": []
          },
          "execution_count": 65
        }
      ]
    },
    {
      "cell_type": "markdown",
      "metadata": {
        "id": "vjm4TOmXuIJG",
        "colab_type": "text"
      },
      "source": [
        "**Collect**"
      ]
    },
    {
      "cell_type": "code",
      "metadata": {
        "id": "KGm84WiJ9p8u",
        "colab_type": "code",
        "outputId": "8aae74b3-b87c-47d8-dd4a-290d359e7f40",
        "colab": {
          "base_uri": "https://localhost:8080/",
          "height": 34
        }
      },
      "source": [
        "c = sc.parallelize([\"Gnu\", \"Cat\", \"Rat\", \"Dog\", \"Gnu\", \"Rat\"], 2)\n",
        "c.collect()"
      ],
      "execution_count": 0,
      "outputs": [
        {
          "output_type": "execute_result",
          "data": {
            "text/plain": [
              "['Gnu', 'Cat', 'Rat', 'Dog', 'Gnu', 'Rat']"
            ]
          },
          "metadata": {
            "tags": []
          },
          "execution_count": 66
        }
      ]
    },
    {
      "cell_type": "code",
      "metadata": {
        "id": "BvVKrtdb-VvB",
        "colab_type": "code",
        "outputId": "ca18e255-7f09-4469-e3de-d2e384f46794",
        "colab": {
          "base_uri": "https://localhost:8080/",
          "height": 34
        }
      },
      "source": [
        "c = sc.parallelize([\"Gnu\", \"Cat\", \"Rat\", \"Dog\", \"Gnu\", \"Rat\"], 2)\n",
        "c.distinct().collect()"
      ],
      "execution_count": 0,
      "outputs": [
        {
          "output_type": "execute_result",
          "data": {
            "text/plain": [
              "['Cat', 'Rat', 'Gnu', 'Dog']"
            ]
          },
          "metadata": {
            "tags": []
          },
          "execution_count": 67
        }
      ]
    },
    {
      "cell_type": "markdown",
      "metadata": {
        "id": "d3PdtEWDuNcq",
        "colab_type": "text"
      },
      "source": [
        ""
      ]
    },
    {
      "cell_type": "code",
      "metadata": {
        "id": "QV_k5oVo-VyQ",
        "colab_type": "code",
        "outputId": "cf592104-b08f-4b5e-8f06-ba74e6efaa16",
        "colab": {
          "base_uri": "https://localhost:8080/",
          "height": 34
        }
      },
      "source": [
        "alphanumerics = sc.parallelize([(1,\"a\"),(2,\"b\"),(3,\"c\")])\n",
        "alphanumerics.collectAsMap()"
      ],
      "execution_count": 0,
      "outputs": [
        {
          "output_type": "execute_result",
          "data": {
            "text/plain": [
              "{1: 'a', 2: 'b', 3: 'c'}"
            ]
          },
          "metadata": {
            "tags": []
          },
          "execution_count": 51
        }
      ]
    },
    {
      "cell_type": "markdown",
      "metadata": {
        "id": "5eLYjrcauYsu",
        "colab_type": "text"
      },
      "source": [
        "**SaveAsTextfile**"
      ]
    },
    {
      "cell_type": "code",
      "metadata": {
        "id": "Ryfna99q-V1Z",
        "colab_type": "code",
        "colab": {}
      },
      "source": [
        "a = sc.parallelize(range(1,10000), 3)\n",
        "a.saveAsTextFile(\"/usr/bin/mydata_a1\")"
      ],
      "execution_count": 0,
      "outputs": []
    },
    {
      "cell_type": "code",
      "metadata": {
        "id": "0PuKgIRE-V4q",
        "colab_type": "code",
        "colab": {}
      },
      "source": [
        "x = sc.parallelize([1,2,3,4,5,6,6,7,9,8,10,21], 3)\n",
        "x.saveAsTextFile(\"/usr/bin/sample1.txt\")"
      ],
      "execution_count": 0,
      "outputs": []
    },
    {
      "cell_type": "markdown",
      "metadata": {
        "id": "yaW50nRZuh0X",
        "colab_type": "text"
      },
      "source": [
        "**Foreach**"
      ]
    },
    {
      "cell_type": "code",
      "metadata": {
        "id": "cgfnEsb_-V7q",
        "colab_type": "code",
        "colab": {}
      },
      "source": [
        "def f(x): print(x)\n",
        "sc.parallelize([1,2,3,4,5]).foreach(f)  "
      ],
      "execution_count": 0,
      "outputs": []
    },
    {
      "cell_type": "markdown",
      "metadata": {
        "id": "C0YQtfvMuoh2",
        "colab_type": "text"
      },
      "source": [
        "**Foreach - Partition**"
      ]
    },
    {
      "cell_type": "code",
      "metadata": {
        "id": "ruP1JW0-DHF5",
        "colab_type": "code",
        "colab": {}
      },
      "source": [
        "def f(iterator):\n",
        "  for x in iterator:\n",
        "    print(x)\n",
        "sc.parallelize([1, 2, 3, 4, 5]).foreachPartition(f)"
      ],
      "execution_count": 0,
      "outputs": []
    },
    {
      "cell_type": "markdown",
      "metadata": {
        "id": "COMyaOJ8uvB-",
        "colab_type": "text"
      },
      "source": [
        "**Mathematical Actions**"
      ]
    },
    {
      "cell_type": "code",
      "metadata": {
        "id": "jvpPIG1XJ47i",
        "colab_type": "code",
        "colab": {}
      },
      "source": [
        "numbers = sc.parallelize(range(1,100))"
      ],
      "execution_count": 0,
      "outputs": []
    },
    {
      "cell_type": "code",
      "metadata": {
        "id": "orlQdpAPKglG",
        "colab_type": "code",
        "outputId": "ad4fb25b-4c38-474f-818c-e159cd82a311",
        "colab": {
          "base_uri": "https://localhost:8080/",
          "height": 34
        }
      },
      "source": [
        "numbers.sum()"
      ],
      "execution_count": 0,
      "outputs": [
        {
          "output_type": "execute_result",
          "data": {
            "text/plain": [
              "4950"
            ]
          },
          "metadata": {
            "tags": []
          },
          "execution_count": 74
        }
      ]
    },
    {
      "cell_type": "code",
      "metadata": {
        "id": "neMtlNsLKgoG",
        "colab_type": "code",
        "outputId": "19757283-35fd-4393-d305-255d0fb08fc2",
        "colab": {
          "base_uri": "https://localhost:8080/",
          "height": 34
        }
      },
      "source": [
        "numbers.min()"
      ],
      "execution_count": 0,
      "outputs": [
        {
          "output_type": "execute_result",
          "data": {
            "text/plain": [
              "1"
            ]
          },
          "metadata": {
            "tags": []
          },
          "execution_count": 75
        }
      ]
    },
    {
      "cell_type": "code",
      "metadata": {
        "id": "Mr1FdY33KgrF",
        "colab_type": "code",
        "outputId": "e6c821c2-dc98-4076-92c9-77e8874c48a9",
        "colab": {
          "base_uri": "https://localhost:8080/",
          "height": 34
        }
      },
      "source": [
        "numbers.variance()"
      ],
      "execution_count": 0,
      "outputs": [
        {
          "output_type": "execute_result",
          "data": {
            "text/plain": [
              "816.6666666666666"
            ]
          },
          "metadata": {
            "tags": []
          },
          "execution_count": 77
        }
      ]
    },
    {
      "cell_type": "code",
      "metadata": {
        "id": "TOjdpMoiKgt8",
        "colab_type": "code",
        "outputId": "b6165768-1ef8-457e-ad20-aba95dc78297",
        "colab": {
          "base_uri": "https://localhost:8080/",
          "height": 34
        }
      },
      "source": [
        "numbers.max()"
      ],
      "execution_count": 0,
      "outputs": [
        {
          "output_type": "execute_result",
          "data": {
            "text/plain": [
              "99"
            ]
          },
          "metadata": {
            "tags": []
          },
          "execution_count": 78
        }
      ]
    },
    {
      "cell_type": "code",
      "metadata": {
        "id": "UOzATfpJKgw6",
        "colab_type": "code",
        "outputId": "25267ae2-0e4f-4dff-960a-f9b8cced54a5",
        "colab": {
          "base_uri": "https://localhost:8080/",
          "height": 34
        }
      },
      "source": [
        "numbers.mean()"
      ],
      "execution_count": 0,
      "outputs": [
        {
          "output_type": "execute_result",
          "data": {
            "text/plain": [
              "50.0"
            ]
          },
          "metadata": {
            "tags": []
          },
          "execution_count": 79
        }
      ]
    },
    {
      "cell_type": "code",
      "metadata": {
        "id": "dadfjRqiKgzs",
        "colab_type": "code",
        "outputId": "74148125-6f5b-4795-b0df-8567681af17b",
        "colab": {
          "base_uri": "https://localhost:8080/",
          "height": 34
        }
      },
      "source": [
        "numbers.stdev()"
      ],
      "execution_count": 0,
      "outputs": [
        {
          "output_type": "execute_result",
          "data": {
            "text/plain": [
              "28.577380332470412"
            ]
          },
          "metadata": {
            "tags": []
          },
          "execution_count": 80
        }
      ]
    },
    {
      "cell_type": "markdown",
      "metadata": {
        "id": "Nyi9_Y9Su5K0",
        "colab_type": "text"
      },
      "source": [
        "**CountByValue**"
      ]
    },
    {
      "cell_type": "code",
      "metadata": {
        "id": "s7bhmrxZKg2s",
        "colab_type": "code",
        "outputId": "61f4ed04-55be-4a5e-cf0d-a289fcb7b94b",
        "colab": {
          "base_uri": "https://localhost:8080/",
          "height": 34
        }
      },
      "source": [
        "a = sc.parallelize([1,2,3,4,5,6,7,8,2,4,2,3,3,3,1,1,1])\n",
        "a.countByValue()"
      ],
      "execution_count": 0,
      "outputs": [
        {
          "output_type": "execute_result",
          "data": {
            "text/plain": [
              "defaultdict(int, {1: 4, 2: 3, 3: 4, 4: 2, 5: 1, 6: 1, 7: 1, 8: 1})"
            ]
          },
          "metadata": {
            "tags": []
          },
          "execution_count": 81
        }
      ]
    },
    {
      "cell_type": "markdown",
      "metadata": {
        "id": "HRq8fRf_vBjP",
        "colab_type": "text"
      },
      "source": [
        "**toDebugString**"
      ]
    },
    {
      "cell_type": "code",
      "metadata": {
        "id": "7Z68rnsbKg51",
        "colab_type": "code",
        "outputId": "9f425ffb-367d-49f2-c0b8-70ff706d9806",
        "colab": {
          "base_uri": "https://localhost:8080/",
          "height": 54
        }
      },
      "source": [
        "a = sc.parallelize(range(1,19),3)\n",
        "b = sc.parallelize(range(1,13),3)\n",
        "c = a.subtract(b)\n",
        "c.toDebugString()"
      ],
      "execution_count": 0,
      "outputs": [
        {
          "output_type": "execute_result",
          "data": {
            "text/plain": [
              "b'(6) PythonRDD[156] at RDD at PythonRDD.scala:53 []\\n |  MapPartitionsRDD[155] at mapPartitions at PythonRDD.scala:133 []\\n |  ShuffledRDD[154] at partitionBy at NativeMethodAccessorImpl.java:0 []\\n +-(6) PairwiseRDD[153] at subtract at <ipython-input-82-e1f9a4054d92>:3 []\\n    |  PythonRDD[152] at subtract at <ipython-input-82-e1f9a4054d92>:3 []\\n    |  UnionRDD[151] at union at NativeMethodAccessorImpl.java:0 []\\n    |  PythonRDD[149] at RDD at PythonRDD.scala:53 []\\n    |  ParallelCollectionRDD[147] at parallelize at PythonRDD.scala:195 []\\n    |  PythonRDD[150] at RDD at PythonRDD.scala:53 []\\n    |  ParallelCollectionRDD[148] at parallelize at PythonRDD.scala:195 []'"
            ]
          },
          "metadata": {
            "tags": []
          },
          "execution_count": 82
        }
      ]
    },
    {
      "cell_type": "markdown",
      "metadata": {
        "id": "TV-BEEQC09z1",
        "colab_type": "text"
      },
      "source": [
        "**Creating Pair RDDs**"
      ]
    },
    {
      "cell_type": "code",
      "metadata": {
        "id": "oSRaEJrg09-V",
        "colab_type": "code",
        "outputId": "781a7d99-54b7-4474-b344-df6a8bf8fbbe",
        "colab": {
          "base_uri": "https://localhost:8080/",
          "height": 34
        }
      },
      "source": [
        "rdd = sc.parallelize([(\"a1\", \"b1\", \"c1\", \"d1\", \"e1\"), (\"a2\", \"b2\", \"c2\", \"d2\", \"e2\")])\n",
        "result = rdd.map(lambda x: (x[0], list(x[1:])))\n",
        "result.collect()"
      ],
      "execution_count": 0,
      "outputs": [
        {
          "output_type": "execute_result",
          "data": {
            "text/plain": [
              "[('a1', ['b1', 'c1', 'd1', 'e1']), ('a2', ['b2', 'c2', 'd2', 'e2'])]"
            ]
          },
          "metadata": {
            "tags": []
          },
          "execution_count": 83
        }
      ]
    },
    {
      "cell_type": "markdown",
      "metadata": {
        "id": "G-iU_1eT12x8",
        "colab_type": "text"
      },
      "source": [
        "**WordCount using RDD concepts**"
      ]
    },
    {
      "cell_type": "code",
      "metadata": {
        "id": "ShjnA8gyKg9K",
        "colab_type": "code",
        "colab": {}
      },
      "source": [
        "rdd =sc.textFile(\"Spark.txt\")"
      ],
      "execution_count": 0,
      "outputs": []
    },
    {
      "cell_type": "code",
      "metadata": {
        "id": "SQGRiDf9bHKY",
        "colab_type": "code",
        "colab": {}
      },
      "source": [
        "nonempty_lines = rdd.filter(lambda x: len(x) > 0)"
      ],
      "execution_count": 0,
      "outputs": []
    },
    {
      "cell_type": "code",
      "metadata": {
        "id": "R9KXKm8qbHNv",
        "colab_type": "code",
        "colab": {}
      },
      "source": [
        "words = nonempty_lines.flatMap(lambda x: x.split(' '))"
      ],
      "execution_count": 0,
      "outputs": []
    },
    {
      "cell_type": "code",
      "metadata": {
        "id": "hL6vGIigbHRA",
        "colab_type": "code",
        "colab": {}
      },
      "source": [
        "wordcount = words.map(lambda x:(x,1)).reduceByKey(lambda x,y: x+y).map(lambda x: (x[1], x[0])).sortByKey(False)"
      ],
      "execution_count": 0,
      "outputs": []
    },
    {
      "cell_type": "code",
      "metadata": {
        "id": "OThqEqgGbHVv",
        "colab_type": "code",
        "outputId": "448dc85e-4e6a-4b07-a6b1-74b78c7da2a9",
        "colab": {
          "base_uri": "https://localhost:8080/",
          "height": 119
        }
      },
      "source": [
        "for word in wordcount.collect():\n",
        "   print(word)"
      ],
      "execution_count": 0,
      "outputs": [
        {
          "output_type": "stream",
          "text": [
            "(3, 'PySpark')\n",
            "(1, 'Apache')\n",
            "(1, 'Spark')\n",
            "(1, 'with')\n",
            "(1, 'Python')\n",
            "(1, 'is')\n"
          ],
          "name": "stdout"
        }
      ]
    },
    {
      "cell_type": "code",
      "metadata": {
        "id": "In2bZwnUbHZY",
        "colab_type": "code",
        "colab": {}
      },
      "source": [
        "wordcount.saveAsTextFile(\"/content/Wordcount\")"
      ],
      "execution_count": 0,
      "outputs": []
    },
    {
      "cell_type": "markdown",
      "metadata": {
        "id": "ZeADBqb758eb",
        "colab_type": "text"
      },
      "source": [
        "**Passing Functions to Spark**"
      ]
    },
    {
      "cell_type": "code",
      "metadata": {
        "id": "lEZjrMccRQYQ",
        "colab_type": "code",
        "outputId": "6e7608fb-bfb8-4bcb-8604-ebb0aedfad0c",
        "colab": {
          "base_uri": "https://localhost:8080/",
          "height": 34
        }
      },
      "source": [
        "rdd = sc.parallelize([1,2,3,4,5])\n",
        "rdd.map(lambda x: x+2).collect()"
      ],
      "execution_count": 0,
      "outputs": [
        {
          "output_type": "execute_result",
          "data": {
            "text/plain": [
              "[3, 4, 5, 6, 7]"
            ]
          },
          "metadata": {
            "tags": []
          },
          "execution_count": 95
        }
      ]
    },
    {
      "cell_type": "code",
      "metadata": {
        "id": "E0e7BxFDRQbZ",
        "colab_type": "code",
        "outputId": "e361508b-5776-4465-aa6c-552827a23ab0",
        "colab": {
          "base_uri": "https://localhost:8080/",
          "height": 34
        }
      },
      "source": [
        "lambda x: x+2"
      ],
      "execution_count": 0,
      "outputs": [
        {
          "output_type": "execute_result",
          "data": {
            "text/plain": [
              "<function __main__.<lambda>>"
            ]
          },
          "metadata": {
            "tags": []
          },
          "execution_count": 96
        }
      ]
    }
  ]
}