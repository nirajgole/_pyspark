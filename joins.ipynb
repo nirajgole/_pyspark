{
 "cells": [
  {
   "cell_type": "code",
   "execution_count": null,
   "id": "76ee506b-4b95-4061-a05b-60100a7e62e3",
   "metadata": {},
   "outputs": [],
   "source": [
    "import findspark\n",
    "findspark.init()"
   ]
  },
  {
   "cell_type": "code",
   "execution_count": null,
   "id": "b509f1af-8abd-4070-94a9-99228e8d914b",
   "metadata": {},
   "outputs": [],
   "source": [
    "from pyspark.sql import SparkSession"
   ]
  },
  {
   "cell_type": "code",
   "execution_count": null,
   "id": "4eec3b27-5b7c-4505-8284-aac24f235c71",
   "metadata": {},
   "outputs": [],
   "source": [
    "# For every application, there is only one Instance of SparlSession/SparkContext\n",
    "spark = SparkSession.builder\\\n",
    "                   .appName(\"DF Operations\")\\\n",
    "                   .master(\"local[2]\")\\\n",
    "                   .getOrCreate()"
   ]
  },
  {
   "cell_type": "code",
   "execution_count": null,
   "id": "d821d95d-83ef-45f3-8184-71a007db973a",
   "metadata": {},
   "outputs": [],
   "source": [
    "spark"
   ]
  },
  {
   "cell_type": "code",
   "execution_count": null,
   "id": "d46da793-13a7-4175-ac6f-0813f2b9ea18",
   "metadata": {},
   "outputs": [],
   "source": [
    "spark.conf.set(\"spark.sql.shuffle.partitions\",3) "
   ]
  },
  {
   "cell_type": "code",
   "execution_count": null,
   "id": "711bc834-98ad-4262-8d2c-fca4959e9eb7",
   "metadata": {},
   "outputs": [],
   "source": [
    "emp=[(1,'Sagar',2019,10,'M',3000),\n",
    "    (2,'Rekha',2019,20,'F',3000),\n",
    "    (3,'Dev',2019,10,'M',3000),\n",
    "    (4,'Suhas',2019,40,'M',3000),\n",
    "    (5,'Aviman',2019,50,'M',3000)\n",
    "   ]\n"
   ]
  },
  {
   "cell_type": "code",
   "execution_count": null,
   "id": "4f948478-3169-49df-80ce-42fe68380507",
   "metadata": {},
   "outputs": [],
   "source": [
    "from pyspark.sql.types import *"
   ]
  },
  {
   "cell_type": "code",
   "execution_count": null,
   "id": "94f41920-1858-4328-a0df-185a166747f9",
   "metadata": {},
   "outputs": [],
   "source": [
    "empSchema=StructType([\n",
    "    StructField('e_id',IntegerType()),\n",
    "    StructField('e_name',StringType()),\n",
    "    StructField('join_date',IntegerType()),\n",
    "    StructField('dept',IntegerType()),\n",
    "    StructField('e_gender',StringType()),\n",
    "    StructField('e_sal',IntegerType()),\n",
    "])\n"
   ]
  },
  {
   "cell_type": "code",
   "execution_count": null,
   "id": "ca990eb4-b5df-4817-b36f-08bae6af5961",
   "metadata": {},
   "outputs": [],
   "source": [
    "empDF = spark.createDataFrame(emp,empSchema)"
   ]
  },
  {
   "cell_type": "code",
   "execution_count": null,
   "id": "01129f8e-a81e-4847-b604-04d0c95b9c13",
   "metadata": {},
   "outputs": [],
   "source": [
    "empDF.show()"
   ]
  },
  {
   "cell_type": "code",
   "execution_count": null,
   "id": "279617c4-beac-464c-8cf0-232f2ad9aee3",
   "metadata": {},
   "outputs": [],
   "source": [
    "empDF.printSchema()"
   ]
  },
  {
   "cell_type": "code",
   "execution_count": null,
   "id": "fb212171-b7be-4d1a-9a2c-c9c349a134cc",
   "metadata": {},
   "outputs": [],
   "source": [
    "dept = [\n",
    "    (\"finance\", 10),\n",
    "    (\"marketing\", 20),\n",
    "    (\"sales\", 30),\n",
    "    (\"IT\", 40)\n",
    "]\n"
   ]
  },
  {
   "cell_type": "code",
   "execution_count": null,
   "id": "b3073f6f-be6b-4d47-837d-7068e541d371",
   "metadata": {},
   "outputs": [],
   "source": [
    "deptSchema = StructType([\n",
    "    StructField(\"dept_name\", StringType()),\n",
    "    StructField(\"dept_id\", IntegerType())\n",
    "])\n"
   ]
  },
  {
   "cell_type": "code",
   "execution_count": null,
   "id": "117eeafe-96b1-46dd-b108-3d02cc558cbf",
   "metadata": {},
   "outputs": [],
   "source": [
    "deptDF = spark.createDataFrame(dept, deptSchema)\n",
    "deptDF.show()\n"
   ]
  },
  {
   "cell_type": "markdown",
   "id": "a2b78d10-f45c-482c-95e8-4f2f251d2d97",
   "metadata": {},
   "source": [
    "## Inner Join\n",
    "Syntax\n",
    "Df1.join(DF2,HOW(which col),TYPE_OF_JOIN)"
   ]
  },
  {
   "cell_type": "code",
   "execution_count": null,
   "id": "7a29e959-498b-43c1-8c40-b4ed4d8af788",
   "metadata": {},
   "outputs": [],
   "source": [
    "innerJoinDF = empDF.join(deptDF,empDF.dept==deptDF.dept_id,\"inner\")"
   ]
  },
  {
   "cell_type": "code",
   "execution_count": null,
   "id": "60fc6465-5b11-45c2-af3a-16741f9ce31c",
   "metadata": {},
   "outputs": [],
   "source": [
    "innerJoinDF.show()"
   ]
  },
  {
   "cell_type": "markdown",
   "id": "1ad54c1f-0677-48f8-b80a-8ae54a40cfaa",
   "metadata": {},
   "source": [
    "### Left Join "
   ]
  },
  {
   "cell_type": "code",
   "execution_count": null,
   "id": "3e359966-602d-4b6b-9abe-d79090d59562",
   "metadata": {},
   "outputs": [],
   "source": [
    "leftJoinDF = empDF.join(deptDF,empDF.dept==deptDF.dept_id,\"left\")\n",
    "leftJoinDF.show()"
   ]
  },
  {
   "cell_type": "markdown",
   "id": "89b3cf70-0981-4cd9-8339-600e0ab6bcb8",
   "metadata": {},
   "source": [
    "### Right Join"
   ]
  },
  {
   "cell_type": "code",
   "execution_count": null,
   "id": "0f6ab2a0-28ef-4092-b71a-352b9ea1a923",
   "metadata": {},
   "outputs": [],
   "source": [
    "rightJoinDF = empDF.join(deptDF,empDF.dept==deptDF.dept_id,\"rightOuter\")\n",
    "rightJoinDF.show()"
   ]
  },
  {
   "cell_type": "code",
   "execution_count": null,
   "id": "063d6dfd-5209-470c-aac8-34a8f8219d60",
   "metadata": {},
   "outputs": [],
   "source": [
    "fullOuterJoinDF = empDF.join(deptDF,empDF.dept==deptDF.dept_id,\"outer\")\n",
    "fullOuterJoinDF.show()"
   ]
  },
  {
   "cell_type": "markdown",
   "id": "18117fd3-1b7e-43de-9180-8f8fbcdfd391",
   "metadata": {},
   "source": [
    "### Left Semi Join"
   ]
  },
  {
   "cell_type": "code",
   "execution_count": null,
   "id": "365246da-7258-4895-847e-b54e09d33709",
   "metadata": {},
   "outputs": [],
   "source": [
    "leftSemiJoinDF = empDF.join(deptDF,empDF.dept==deptDF.dept_id,\"leftsemi\")\n",
    "leftSemiJoinDF.show()"
   ]
  },
  {
   "cell_type": "markdown",
   "id": "68630238-0ed9-4949-81a5-3947288f821a",
   "metadata": {},
   "source": [
    "### Left Anti Join"
   ]
  },
  {
   "cell_type": "code",
   "execution_count": null,
   "id": "139f5840-d70b-4a70-8fde-ea80aa5c6864",
   "metadata": {},
   "outputs": [],
   "source": [
    "leftAntiJoinDF = empDF.join(deptDF,empDF.dept==deptDF.dept_id,\"leftAnti\")\n",
    "leftAntiJoinDF.show()"
   ]
  },
  {
   "cell_type": "code",
   "execution_count": null,
   "id": "8de446ba-2db8-44cb-9bfa-12470625954a",
   "metadata": {},
   "outputs": [],
   "source": [
    "from pyspark.sql.types import StructType,StructField,StringType,IntegerType,FloatType,DateType,TimestampType,ArrayType"
   ]
  },
  {
   "cell_type": "code",
   "execution_count": null,
   "id": "79ed7872-d5ca-4717-94a8-b22348731442",
   "metadata": {},
   "outputs": [],
   "source": [
    "custSchema = StructType([\n",
    "                        StructField(\"cid\",IntegerType()),\n",
    "                        StructField(\"fname\",StringType()),\n",
    "                        StructField(\"lname\",StringType()),\n",
    "                        StructField(\"age\",IntegerType()),\n",
    "                        StructField(\"desig\",StringType()) \n",
    "                      ])"
   ]
  },
  {
   "cell_type": "code",
   "execution_count": null,
   "id": "a3f01f2b-0a09-4788-94ac-f7d7883264c7",
   "metadata": {},
   "outputs": [],
   "source": [
    "custDF = spark.read\\\n",
    "          .option(\"header\",True)\\\n",
    "          .schema(custSchema)\\\n",
    "          .csv(\"d:\\\\data\\\\custs.txt\")\n",
    "custDF.show()"
   ]
  },
  {
   "cell_type": "code",
   "execution_count": null,
   "id": "cfa073fc-66e2-4764-9fc2-5cd87ad98f09",
   "metadata": {},
   "outputs": [],
   "source": [
    "txnSchema = StructType([\n",
    "                        StructField(\"txn_id\",IntegerType()),\n",
    "                        StructField(\"txn_date\",DateType()),\n",
    "                        StructField(\"cid\",StringType()),\n",
    "                        StructField(\"amount\",FloatType()),\n",
    "                        StructField(\"prod_cat\",StringType()), \n",
    "                        StructField(\"prod\",StringType()),\n",
    "                        StructField(\"city\",StringType()),\n",
    "                        StructField(\"state\",StringType()),\n",
    "                        StructField(\"mode\",StringType())\n",
    "                      ])"
   ]
  },
  {
   "cell_type": "code",
   "execution_count": null,
   "id": "96ef029e-da13-4282-abe3-714ca20ecf08",
   "metadata": {},
   "outputs": [],
   "source": [
    "txnDF = spark.read\\\n",
    "          .option(\"header\",True)\\\n",
    "          .schema(txnSchema)\\\n",
    "          .option(\"mode\",\"PERMISSIVE\")\\\n",
    "          .option(\"dateFormat\",\"M-dd-y\")\\\n",
    "          .csv(\"d:\\\\data\\\\txn_with_header.txt\")\n",
    "\n",
    "txnDF.show(2,truncate=False)"
   ]
  },
  {
   "cell_type": "code",
   "execution_count": null,
   "id": "73879c21-84c1-4bf6-a0ed-be912645f37f",
   "metadata": {},
   "outputs": [],
   "source": [
    "joined = txnDF.join(custDF,txnDF.cid==custDF.cid,\"inner\") \n",
    "# //BroadcastHashJoin"
   ]
  },
  {
   "cell_type": "code",
   "execution_count": null,
   "id": "d87ccdd7-a2b6-4bc0-bedd-64bdf4be33ea",
   "metadata": {},
   "outputs": [],
   "source": [
    "joined.show()"
   ]
  },
  {
   "cell_type": "code",
   "execution_count": null,
   "id": "ff7fcab5-b0d5-4dd5-a428-4513975367d2",
   "metadata": {},
   "outputs": [],
   "source": [
    "spark.conf.set(\"spark.sql.autoBroadcastJoinThreshold\",-1)"
   ]
  },
  {
   "cell_type": "code",
   "execution_count": null,
   "id": "69c96972-cf72-419d-b9d2-c2b41066973d",
   "metadata": {},
   "outputs": [],
   "source": [
    "joined = txnDF.join(custDF,txnDF.cid==custDF.cid,\"inner\") "
   ]
  },
  {
   "cell_type": "code",
   "execution_count": null,
   "id": "1ae83bd7-5723-4ef2-a197-40afadbcd668",
   "metadata": {},
   "outputs": [],
   "source": [
    "joined.show()"
   ]
  },
  {
   "cell_type": "code",
   "execution_count": null,
   "id": "163530af-3f90-47ec-aaeb-44abe66e7873",
   "metadata": {},
   "outputs": [],
   "source": []
  }
 ],
 "metadata": {
  "kernelspec": {
   "display_name": "Python 3 (ipykernel)",
   "language": "python",
   "name": "python3"
  },
  "language_info": {
   "codemirror_mode": {
    "name": "ipython",
    "version": 3
   },
   "file_extension": ".py",
   "mimetype": "text/x-python",
   "name": "python",
   "nbconvert_exporter": "python",
   "pygments_lexer": "ipython3",
   "version": "3.7.10"
  }
 },
 "nbformat": 4,
 "nbformat_minor": 5
}
