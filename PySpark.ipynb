{
  "nbformat": 4,
  "nbformat_minor": 0,
  "metadata": {
    "colab": {
      "provenance": []
    },
    "kernelspec": {
      "name": "python3",
      "display_name": "Python 3"
    },
    "language_info": {
      "name": "python"
    }
  },
  "cells": [
    {
      "cell_type": "code",
      "execution_count": 1,
      "metadata": {
        "colab": {
          "base_uri": "https://localhost:8080/"
        },
        "id": "cGiN0H6M71vV",
        "outputId": "0b1ae89b-58dd-420f-8e36-a129aa998e3a"
      },
      "outputs": [
        {
          "output_type": "stream",
          "name": "stdout",
          "text": [
            "Collecting pyspark\n",
            "  Downloading pyspark-3.5.1.tar.gz (317.0 MB)\n",
            "\u001b[2K     \u001b[90m━━━━━━━━━━━━━━━━━━━━━━━━━━━━━━━━━━━━━━━━\u001b[0m \u001b[32m317.0/317.0 MB\u001b[0m \u001b[31m3.9 MB/s\u001b[0m eta \u001b[36m0:00:00\u001b[0m\n",
            "\u001b[?25h  Preparing metadata (setup.py) ... \u001b[?25l\u001b[?25hdone\n",
            "Requirement already satisfied: py4j==0.10.9.7 in /usr/local/lib/python3.10/dist-packages (from pyspark) (0.10.9.7)\n",
            "Building wheels for collected packages: pyspark\n",
            "  Building wheel for pyspark (setup.py) ... \u001b[?25l\u001b[?25hdone\n",
            "  Created wheel for pyspark: filename=pyspark-3.5.1-py2.py3-none-any.whl size=317488493 sha256=8d850ddded477014fde310dac4f387d32d5fcfe6cf0ec03369ea261b716764e8\n",
            "  Stored in directory: /root/.cache/pip/wheels/80/1d/60/2c256ed38dddce2fdd93be545214a63e02fbd8d74fb0b7f3a6\n",
            "Successfully built pyspark\n",
            "Installing collected packages: pyspark\n",
            "Successfully installed pyspark-3.5.1\n"
          ]
        }
      ],
      "source": [
        "# importing all the neccessary packages\n",
        "!pip install pyspark"
      ]
    },
    {
      "cell_type": "code",
      "source": [
        "# importing the SparkSession\n",
        "from pyspark.sql import SparkSession\n",
        "\n",
        "# Starting the SparkSession\n",
        "spark = SparkSession.builder.master(\"local[*]\").appName(\"PySpark\").getOrCreate()\n",
        "\n",
        "spark"
      ],
      "metadata": {
        "colab": {
          "base_uri": "https://localhost:8080/",
          "height": 219
        },
        "id": "C9QZZ4DL8QyT",
        "outputId": "87bf6f3a-6130-47cb-e7b0-90776d1ff5ad"
      },
      "execution_count": 2,
      "outputs": [
        {
          "output_type": "execute_result",
          "data": {
            "text/plain": [
              "<pyspark.sql.session.SparkSession at 0x7cec3f882d40>"
            ],
            "text/html": [
              "\n",
              "            <div>\n",
              "                <p><b>SparkSession - in-memory</b></p>\n",
              "                \n",
              "        <div>\n",
              "            <p><b>SparkContext</b></p>\n",
              "\n",
              "            <p><a href=\"http://97b66ea39301:4040\">Spark UI</a></p>\n",
              "\n",
              "            <dl>\n",
              "              <dt>Version</dt>\n",
              "                <dd><code>v3.5.1</code></dd>\n",
              "              <dt>Master</dt>\n",
              "                <dd><code>local[*]</code></dd>\n",
              "              <dt>AppName</dt>\n",
              "                <dd><code>PySpark</code></dd>\n",
              "            </dl>\n",
              "        </div>\n",
              "        \n",
              "            </div>\n",
              "        "
            ]
          },
          "metadata": {},
          "execution_count": 2
        }
      ]
    },
    {
      "cell_type": "markdown",
      "source": [
        "**Question 01**"
      ],
      "metadata": {
        "id": "t_4TXuZ29UCe"
      }
    },
    {
      "cell_type": "code",
      "source": [
        "# Load the csv file\n",
        "\n",
        "LoanData = spark.read.csv(\"/content/Loan.csv\", inferSchema = True, header = True)\n",
        "\n",
        "LoanData.printSchema()"
      ],
      "metadata": {
        "colab": {
          "base_uri": "https://localhost:8080/"
        },
        "id": "pT-YlKAP86JW",
        "outputId": "2da031f3-f3b2-47ff-9003-2cee2fe067dc"
      },
      "execution_count": 8,
      "outputs": [
        {
          "output_type": "stream",
          "name": "stdout",
          "text": [
            "root\n",
            " |-- Customer_ID: string (nullable = true)\n",
            " |-- Age: integer (nullable = true)\n",
            " |-- Gender: string (nullable = true)\n",
            " |-- Occupation: string (nullable = true)\n",
            " |-- Marital Status: string (nullable = true)\n",
            " |-- Family Size: integer (nullable = true)\n",
            " |-- Income: integer (nullable = true)\n",
            " |-- Expenditure: integer (nullable = true)\n",
            " |-- Use Frequency: integer (nullable = true)\n",
            " |-- Loan Category: string (nullable = true)\n",
            " |-- Loan Amount: string (nullable = true)\n",
            " |-- Overdue: integer (nullable = true)\n",
            " |--  Debt Record: string (nullable = true)\n",
            " |--  Returned Cheque: integer (nullable = true)\n",
            " |--  Dishonour of Bill: integer (nullable = true)\n",
            "\n"
          ]
        }
      ]
    },
    {
      "cell_type": "code",
      "source": [
        "# Number of loans in each category\n",
        "\n",
        "LoanData.groupBy(\"Loan Category\").count().orderBy(\"Count\", ascending = False).show()"
      ],
      "metadata": {
        "colab": {
          "base_uri": "https://localhost:8080/"
        },
        "id": "zWGVeD_t9sU-",
        "outputId": "8bc2eab4-0682-4a29-bf65-7a4beba825a3"
      },
      "execution_count": 6,
      "outputs": [
        {
          "output_type": "stream",
          "name": "stdout",
          "text": [
            "+------------------+-----+\n",
            "|     Loan Category|count|\n",
            "+------------------+-----+\n",
            "|         GOLD LOAN|   77|\n",
            "|           HOUSING|   67|\n",
            "|        AUTOMOBILE|   60|\n",
            "|        TRAVELLING|   53|\n",
            "|       RESTAURANTS|   41|\n",
            "|COMPUTER SOFTWARES|   35|\n",
            "|          SHOPPING|   35|\n",
            "|          BUSINESS|   24|\n",
            "|  EDUCATIONAL LOAN|   20|\n",
            "|        RESTAURANT|   20|\n",
            "|           DINNING|   14|\n",
            "|       ELECTRONICS|   14|\n",
            "|   HOME APPLIANCES|   14|\n",
            "|       AGRICULTURE|   12|\n",
            "|       BOOK STORES|    7|\n",
            "|          BUILDING|    7|\n",
            "+------------------+-----+\n",
            "\n"
          ]
        }
      ]
    },
    {
      "cell_type": "code",
      "source": [
        "# Number of people who have taken more than 1 lakh loan\n",
        "\n",
        "LoanData.filter(LoanData[\"Loan Amount\"] > \"1,00,000\" ).count()"
      ],
      "metadata": {
        "colab": {
          "base_uri": "https://localhost:8080/"
        },
        "id": "aGt4Msw4-_4L",
        "outputId": "fbc1bd9b-f695-4f70-ae91-c02981a0dbd1"
      },
      "execution_count": 11,
      "outputs": [
        {
          "output_type": "execute_result",
          "data": {
            "text/plain": [
              "279"
            ]
          },
          "metadata": {},
          "execution_count": 11
        }
      ]
    },
    {
      "cell_type": "code",
      "source": [
        "#  Number of people with income greater than 60000 rupees\n",
        "\n",
        "LoanData.filter(LoanData[\"Income\"] > 60000).count()"
      ],
      "metadata": {
        "colab": {
          "base_uri": "https://localhost:8080/"
        },
        "id": "rTIPtWt-ABRv",
        "outputId": "5fd3f8f3-d153-4319-a9ee-0524787e321c"
      },
      "execution_count": 10,
      "outputs": [
        {
          "output_type": "execute_result",
          "data": {
            "text/plain": [
              "198"
            ]
          },
          "metadata": {},
          "execution_count": 10
        }
      ]
    },
    {
      "cell_type": "code",
      "source": [
        "# Number of people with 2 or more returned cheques and income less than 50000\n",
        "\n",
        "LoanData.filter((LoanData[\" Returned Cheque\"] >= 2) & (LoanData[\"Income\"] < 50000)).count()"
      ],
      "metadata": {
        "colab": {
          "base_uri": "https://localhost:8080/"
        },
        "id": "y8Z8DlNzAmri",
        "outputId": "57243c86-0820-4201-eaae-6abe09191469"
      },
      "execution_count": 13,
      "outputs": [
        {
          "output_type": "execute_result",
          "data": {
            "text/plain": [
              "137"
            ]
          },
          "metadata": {},
          "execution_count": 13
        }
      ]
    },
    {
      "cell_type": "markdown",
      "source": [],
      "metadata": {
        "id": "QVvR8LuB9Szi"
      }
    },
    {
      "cell_type": "code",
      "source": [
        "# Number of people with 2 or more returned cheques and are single\n",
        "\n",
        "LoanData.filter((LoanData[\" Returned Cheque\"] >= 2) & (LoanData[\"Marital Status\"] == \"SINGLE\")).count()"
      ],
      "metadata": {
        "colab": {
          "base_uri": "https://localhost:8080/"
        },
        "id": "t1I0YydpBhuK",
        "outputId": "efa4c948-aab9-4401-91a6-b86b3ca9f29c"
      },
      "execution_count": 14,
      "outputs": [
        {
          "output_type": "execute_result",
          "data": {
            "text/plain": [
              "111"
            ]
          },
          "metadata": {},
          "execution_count": 14
        }
      ]
    },
    {
      "cell_type": "code",
      "source": [
        "# Number of people with expenditure over 50000 a month\n",
        "\n",
        "LoanData.filter(LoanData[\"Expenditure\"] > 50000).count()"
      ],
      "metadata": {
        "colab": {
          "base_uri": "https://localhost:8080/"
        },
        "id": "DkRHWR7TBv8r",
        "outputId": "cdcba9c9-0366-4981-9ebb-5e86b8df73f1"
      },
      "execution_count": 18,
      "outputs": [
        {
          "output_type": "execute_result",
          "data": {
            "text/plain": [
              "6"
            ]
          },
          "metadata": {},
          "execution_count": 18
        }
      ]
    },
    {
      "cell_type": "markdown",
      "source": [
        "**Question 02**"
      ],
      "metadata": {
        "id": "fae-YC2wDGDp"
      }
    },
    {
      "cell_type": "code",
      "source": [
        "# Load the Credit_Card.csv Dataset\n",
        "\n",
        "CCData = spark.read.csv(\"/content/Credit_Card.csv\", inferSchema = True , header = True)\n",
        "\n",
        "CCData.printSchema()"
      ],
      "metadata": {
        "colab": {
          "base_uri": "https://localhost:8080/"
        },
        "id": "SBYzmsJqCHqf",
        "outputId": "cc1b5263-715b-42cf-c61c-bcd37af7a4a9"
      },
      "execution_count": 20,
      "outputs": [
        {
          "output_type": "stream",
          "name": "stdout",
          "text": [
            "root\n",
            " |-- RowNumber: integer (nullable = true)\n",
            " |-- CustomerId: integer (nullable = true)\n",
            " |-- Surname: string (nullable = true)\n",
            " |-- CreditScore: integer (nullable = true)\n",
            " |-- Geography: string (nullable = true)\n",
            " |-- Gender: string (nullable = true)\n",
            " |-- Age: integer (nullable = true)\n",
            " |-- Tenure: integer (nullable = true)\n",
            " |-- Balance: double (nullable = true)\n",
            " |-- NumOfProducts: integer (nullable = true)\n",
            " |-- IsActiveMember: integer (nullable = true)\n",
            " |-- EstimatedSalary: double (nullable = true)\n",
            " |-- Exited: integer (nullable = true)\n",
            "\n"
          ]
        }
      ]
    },
    {
      "cell_type": "code",
      "source": [
        "# Number of members who are eligible for credit cards. [NOTE: People having credit score greater than 700 are eligible\n",
        "\n",
        "CCData.filter(CCData[\"CreditScore\"] > 700).count()"
      ],
      "metadata": {
        "colab": {
          "base_uri": "https://localhost:8080/"
        },
        "id": "eh8no196Dej5",
        "outputId": "33f056b1-c752-43a7-e2a0-fb3f7de2646f"
      },
      "execution_count": 21,
      "outputs": [
        {
          "output_type": "execute_result",
          "data": {
            "text/plain": [
              "3116"
            ]
          },
          "metadata": {},
          "execution_count": 21
        }
      ]
    },
    {
      "cell_type": "code",
      "source": [
        "# Number of members who are eligible and active in the bank\n",
        "\n",
        "CCData.filter((CCData[\"CreditScore\"] > 700) & (CCData[\"IsActiveMember\"] == 1)).count()"
      ],
      "metadata": {
        "colab": {
          "base_uri": "https://localhost:8080/"
        },
        "id": "3RGtBNS6Dl2s",
        "outputId": "8595f5ea-9d68-4210-d76d-d8b312eaffb6"
      },
      "execution_count": 22,
      "outputs": [
        {
          "output_type": "execute_result",
          "data": {
            "text/plain": [
              "1637"
            ]
          },
          "metadata": {},
          "execution_count": 22
        }
      ]
    },
    {
      "cell_type": "code",
      "source": [
        "# Number of credit card users in Spain\n",
        "\n",
        "CCData.filter(CCData[\"Geography\"] == \"Spain\").count()"
      ],
      "metadata": {
        "colab": {
          "base_uri": "https://localhost:8080/"
        },
        "id": "kcTcPxTUDl_J",
        "outputId": "d7238afe-042a-4034-9907-f7280e8284d7"
      },
      "execution_count": 24,
      "outputs": [
        {
          "output_type": "execute_result",
          "data": {
            "text/plain": [
              "2477"
            ]
          },
          "metadata": {},
          "execution_count": 24
        }
      ]
    },
    {
      "cell_type": "markdown",
      "source": [
        "**Question 03**"
      ],
      "metadata": {
        "id": "p-Rj-MKQD0Fc"
      }
    },
    {
      "cell_type": "code",
      "source": [
        "# Load the Transaction.csv Dataset\n",
        "\n",
        "TrnxData = spark.read.csv(\"/content/Transaction.csv\", inferSchema = True, header = True)\n",
        "\n",
        "TrnxData.printSchema()"
      ],
      "metadata": {
        "colab": {
          "base_uri": "https://localhost:8080/"
        },
        "id": "gr5gjyzOD34_",
        "outputId": "b2e4b476-38e0-4232-b112-a81be1575c51"
      },
      "execution_count": 26,
      "outputs": [
        {
          "output_type": "stream",
          "name": "stdout",
          "text": [
            "root\n",
            " |-- Account No: string (nullable = true)\n",
            " |-- TRANSACTION DETAILS: string (nullable = true)\n",
            " |-- VALUE DATE: string (nullable = true)\n",
            " |--  WITHDRAWAL AMT : double (nullable = true)\n",
            " |--  DEPOSIT AMT : double (nullable = true)\n",
            " |-- BALANCE AMT: double (nullable = true)\n",
            "\n"
          ]
        }
      ]
    },
    {
      "cell_type": "code",
      "source": [
        "# Count of transaction on every account\n",
        "\n",
        "TrnxData.groupBy(\"Account No\").count().show()"
      ],
      "metadata": {
        "colab": {
          "base_uri": "https://localhost:8080/"
        },
        "id": "1ClyzWcID4Vi",
        "outputId": "b7bf1651-eaa9-4ab5-b266-e15dfaefa7b5"
      },
      "execution_count": 28,
      "outputs": [
        {
          "output_type": "stream",
          "name": "stdout",
          "text": [
            "+-------------+-----+\n",
            "|   Account No|count|\n",
            "+-------------+-----+\n",
            "|409000438611'| 4588|\n",
            "|     1196711'|10536|\n",
            "|     1196428'|48779|\n",
            "|409000493210'| 6014|\n",
            "|409000611074'| 1093|\n",
            "|409000425051'|  802|\n",
            "|409000405747'|   51|\n",
            "|409000362497'|29840|\n",
            "|409000493201'| 1044|\n",
            "|409000438620'|13454|\n",
            "+-------------+-----+\n",
            "\n"
          ]
        }
      ]
    },
    {
      "cell_type": "code",
      "source": [
        "# Maximum withdrawal amount of each account\n",
        "\n",
        "TrnxData.groupBy(\"Account No\").max(\" WITHDRAWAL AMT \").show()"
      ],
      "metadata": {
        "colab": {
          "base_uri": "https://localhost:8080/"
        },
        "id": "ocIJh1O0LeAf",
        "outputId": "644be772-0b75-4540-89b8-b71de53ca00c"
      },
      "execution_count": 29,
      "outputs": [
        {
          "output_type": "stream",
          "name": "stdout",
          "text": [
            "+-------------+---------------------+\n",
            "|   Account No|max( WITHDRAWAL AMT )|\n",
            "+-------------+---------------------+\n",
            "|409000438611'|                2.4E8|\n",
            "|     1196711'|        4.594475464E8|\n",
            "|     1196428'|                1.5E8|\n",
            "|409000493210'|                1.5E7|\n",
            "|409000611074'|             912000.0|\n",
            "|409000425051'|               3.54E8|\n",
            "|409000405747'|                1.7E8|\n",
            "|409000362497'|        1.413662392E8|\n",
            "|409000493201'|            2500000.0|\n",
            "|409000438620'|                4.0E8|\n",
            "+-------------+---------------------+\n",
            "\n"
          ]
        }
      ]
    },
    {
      "cell_type": "code",
      "source": [
        "# Minimum withdrawal amount of each account\n",
        "\n",
        "TrnxData.groupBy(\"Account No\").min(\" WITHDRAWAL AMT \").show()"
      ],
      "metadata": {
        "colab": {
          "base_uri": "https://localhost:8080/"
        },
        "id": "P7oNiro-L2lV",
        "outputId": "842bd1f8-1c62-4bd1-95e6-a2ac14bfbc14"
      },
      "execution_count": 30,
      "outputs": [
        {
          "output_type": "stream",
          "name": "stdout",
          "text": [
            "+-------------+---------------------+\n",
            "|   Account No|min( WITHDRAWAL AMT )|\n",
            "+-------------+---------------------+\n",
            "|409000438611'|                  0.2|\n",
            "|     1196711'|                 0.25|\n",
            "|     1196428'|                 0.25|\n",
            "|409000493210'|                 0.01|\n",
            "|409000611074'|                120.0|\n",
            "|409000425051'|                 1.25|\n",
            "|409000405747'|                 21.0|\n",
            "|409000362497'|                 0.97|\n",
            "|409000493201'|                  2.1|\n",
            "|409000438620'|                 0.34|\n",
            "+-------------+---------------------+\n",
            "\n"
          ]
        }
      ]
    },
    {
      "cell_type": "code",
      "source": [
        "# Maximum deposit amount of each account\n",
        "\n",
        "TrnxData.groupBy(\"Account No\").max(\" DEPOSIT AMT \").show()"
      ],
      "metadata": {
        "colab": {
          "base_uri": "https://localhost:8080/"
        },
        "id": "HCCebnedMKii",
        "outputId": "8a8369cc-1236-4c13-d76b-8dfb1fd0edc5"
      },
      "execution_count": 31,
      "outputs": [
        {
          "output_type": "stream",
          "name": "stdout",
          "text": [
            "+-------------+------------------+\n",
            "|   Account No|max( DEPOSIT AMT )|\n",
            "+-------------+------------------+\n",
            "|409000438611'|          1.7025E8|\n",
            "|     1196711'|             5.0E8|\n",
            "|     1196428'|     2.119594422E8|\n",
            "|409000493210'|             1.5E7|\n",
            "|409000611074'|         3000000.0|\n",
            "|409000425051'|             1.5E7|\n",
            "|409000405747'|           2.021E8|\n",
            "|409000362497'|             2.0E8|\n",
            "|409000493201'|         1000000.0|\n",
            "|409000438620'|           5.448E8|\n",
            "+-------------+------------------+\n",
            "\n"
          ]
        }
      ]
    },
    {
      "cell_type": "code",
      "source": [
        "# Minimum deposit amount of each account\n",
        "\n",
        "TrnxData.groupBy(\"Account No\").min(\" DEPOSIT AMT \").show()"
      ],
      "metadata": {
        "colab": {
          "base_uri": "https://localhost:8080/"
        },
        "id": "izJdy-SoMQsD",
        "outputId": "e7871f1d-644d-46a6-b3ab-e77d93a2a287"
      },
      "execution_count": 32,
      "outputs": [
        {
          "output_type": "stream",
          "name": "stdout",
          "text": [
            "+-------------+------------------+\n",
            "|   Account No|min( DEPOSIT AMT )|\n",
            "+-------------+------------------+\n",
            "|409000438611'|              0.03|\n",
            "|     1196711'|              1.01|\n",
            "|     1196428'|               1.0|\n",
            "|409000493210'|              0.01|\n",
            "|409000611074'|            1320.0|\n",
            "|409000425051'|               1.0|\n",
            "|409000405747'|             500.0|\n",
            "|409000362497'|              0.03|\n",
            "|409000493201'|               0.9|\n",
            "|409000438620'|              0.07|\n",
            "+-------------+------------------+\n",
            "\n"
          ]
        }
      ]
    },
    {
      "cell_type": "code",
      "source": [
        "# Sum of balance in every bank account\n",
        "\n",
        "TrnxData.groupBy(\"Account No\").sum(\"BALANCE AMT\").show()"
      ],
      "metadata": {
        "colab": {
          "base_uri": "https://localhost:8080/"
        },
        "id": "OTnxsDBzMd7T",
        "outputId": "8cc8e78c-c282-41b9-8630-77afe56bf58b"
      },
      "execution_count": 33,
      "outputs": [
        {
          "output_type": "stream",
          "name": "stdout",
          "text": [
            "+-------------+--------------------+\n",
            "|   Account No|    sum(BALANCE AMT)|\n",
            "+-------------+--------------------+\n",
            "|409000438611'|-2.49486577068339...|\n",
            "|     1196711'|-1.60476498101275E13|\n",
            "|     1196428'| -8.1418498130721E13|\n",
            "|409000493210'|-3.27584952132095...|\n",
            "|409000611074'|       1.615533622E9|\n",
            "|409000425051'|-3.77211841164998...|\n",
            "|409000405747'|-2.43108047067000...|\n",
            "|409000362497'| -5.2860004792808E13|\n",
            "|409000493201'|1.0420831829499985E9|\n",
            "|409000438620'|-7.12291867951358...|\n",
            "+-------------+--------------------+\n",
            "\n"
          ]
        }
      ]
    },
    {
      "cell_type": "code",
      "source": [
        "# Number of transaction on each date\n",
        "\n",
        "TrnxData.groupBy(\"VALUE DATE\").count().orderBy(\"count\", ascending = False).show()"
      ],
      "metadata": {
        "colab": {
          "base_uri": "https://localhost:8080/"
        },
        "id": "1Cjt3D5IMw9b",
        "outputId": "3a5378ab-6b44-42e5-fc9e-1923cc4b9392"
      },
      "execution_count": 36,
      "outputs": [
        {
          "output_type": "stream",
          "name": "stdout",
          "text": [
            "+----------+-----+\n",
            "|VALUE DATE|count|\n",
            "+----------+-----+\n",
            "| 27-Jul-17|  567|\n",
            "| 13-Aug-18|  463|\n",
            "|  8-Nov-17|  402|\n",
            "|  7-Oct-17|  382|\n",
            "| 10-Jul-18|  374|\n",
            "| 12-Dec-17|  367|\n",
            "| 12-Sep-18|  365|\n",
            "|  9-Aug-18|  360|\n",
            "| 19-Sep-17|  358|\n",
            "| 16-Mar-17|  353|\n",
            "| 10-Sep-18|  344|\n",
            "| 14-Jul-17|  333|\n",
            "|  7-Mar-18|  319|\n",
            "| 11-Oct-18|  303|\n",
            "| 22-Aug-17|  301|\n",
            "|  9-Jan-18|  299|\n",
            "|  9-Oct-18|  297|\n",
            "| 20-Apr-18|  296|\n",
            "|  9-Jul-18|  292|\n",
            "|  7-Apr-18|  291|\n",
            "+----------+-----+\n",
            "only showing top 20 rows\n",
            "\n"
          ]
        }
      ]
    },
    {
      "cell_type": "code",
      "source": [
        "# List of customers with withdrawal amount more than 1 Lakh\n",
        "\n",
        "TrnxData.select(\"Account No\",\"TRANSACTION DETAILS\", \" WITHDRAWAL AMT \").filter(TrnxData[\" WITHDRAWAL AMT \"] > 100000).show(truncate = False)"
      ],
      "metadata": {
        "colab": {
          "base_uri": "https://localhost:8080/"
        },
        "id": "rJ_GfcbfM_b5",
        "outputId": "7a4254dd-befb-4923-e78d-7a7e553bb6c8"
      },
      "execution_count": 41,
      "outputs": [
        {
          "output_type": "stream",
          "name": "stdout",
          "text": [
            "+-------------+--------------------------------+----------------+\n",
            "|Account No   |TRANSACTION DETAILS             | WITHDRAWAL AMT |\n",
            "+-------------+--------------------------------+----------------+\n",
            "|409000611074'|INDO GIBL Indiaforensic STL01071|133900.0        |\n",
            "|409000611074'|INDO GIBL Indiaforensic STL04071|195800.0        |\n",
            "|409000611074'|INDO GIBL Indiaforensic STL10071|143800.0        |\n",
            "|409000611074'|INDO GIBL Indiaforensic STL11071|331650.0        |\n",
            "|409000611074'|INDO GIBL Indiaforensic STL12071|129000.0        |\n",
            "|409000611074'|INDO GIBL Indiaforensic STL13071|230013.0        |\n",
            "|409000611074'|INDO GIBL Indiaforensic STL14071|367900.0        |\n",
            "|409000611074'|INDO GIBL Indiaforensic STL15071|108000.0        |\n",
            "|409000611074'|INDO GIBL Indiaforensic STL17071|141000.0        |\n",
            "|409000611074'|INDO GIBL Indiaforensic STL22071|206000.0        |\n",
            "|409000611074'|INDO GIBL Indiaforensic STL02081|242300.0        |\n",
            "|409000611074'|INDO GIBL Indiaforensic STL04081|113250.0        |\n",
            "|409000611074'|INDO GIBL Indiaforensic STL07081|206900.0        |\n",
            "|409000611074'|INDO GIBL Indiaforensic STL08081|276000.0        |\n",
            "|409000611074'|INDO GIBL Indiaforensic STL09081|171000.0        |\n",
            "|409000611074'|INDO GIBL Indiaforensic STL11081|189800.0        |\n",
            "|409000611074'|INDO GIBL Indiaforensic STL14081|271323.0        |\n",
            "|409000611074'|INDO GIBL Indiaforensic STL16081|200600.0        |\n",
            "|409000611074'|INDO GIBL Indiaforensic STL17081|176900.0        |\n",
            "|409000611074'|INDO GIBL Indiaforensic STL18081|150050.0        |\n",
            "+-------------+--------------------------------+----------------+\n",
            "only showing top 20 rows\n",
            "\n"
          ]
        }
      ]
    },
    {
      "cell_type": "code",
      "source": [],
      "metadata": {
        "id": "kGnd9JLxNn_9"
      },
      "execution_count": null,
      "outputs": []
    }
  ]
}