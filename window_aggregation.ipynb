{
 "cells": [
  {
   "cell_type": "markdown",
   "metadata": {},
   "source": [
    "### Window Aggregation\n"
   ]
  },
  {
   "cell_type": "code",
   "execution_count": 1,
   "metadata": {},
   "outputs": [
    {
     "data": {
      "text/plain": [
       "'C:\\\\Program Files\\\\spark\\\\spark-3.4.1-bin-hadoop3'"
      ]
     },
     "execution_count": 1,
     "metadata": {},
     "output_type": "execute_result"
    }
   ],
   "source": [
    "import findspark\n",
    "findspark.init()\n",
    "findspark.find()"
   ]
  },
  {
   "cell_type": "code",
   "execution_count": 2,
   "metadata": {},
   "outputs": [
    {
     "data": {
      "text/html": [
       "\n",
       "            <div>\n",
       "                <p><b>SparkSession - in-memory</b></p>\n",
       "                \n",
       "        <div>\n",
       "            <p><b>SparkContext</b></p>\n",
       "\n",
       "            <p><a href=\"http://N7:4040\">Spark UI</a></p>\n",
       "\n",
       "            <dl>\n",
       "              <dt>Version</dt>\n",
       "                <dd><code>v3.4.1</code></dd>\n",
       "              <dt>Master</dt>\n",
       "                <dd><code>local[2]</code></dd>\n",
       "              <dt>AppName</dt>\n",
       "                <dd><code>Window Aggregation</code></dd>\n",
       "            </dl>\n",
       "        </div>\n",
       "        \n",
       "            </div>\n",
       "        "
      ],
      "text/plain": [
       "<pyspark.sql.session.SparkSession at 0x19ed0d1ae10>"
      ]
     },
     "execution_count": 2,
     "metadata": {},
     "output_type": "execute_result"
    }
   ],
   "source": [
    "import pyspark\n",
    "from pyspark.sql import SparkSession\n",
    "spark=SparkSession.builder.appName('Window Aggregation').master('local[2]').getOrCreate()\n",
    "spark"
   ]
  },
  {
   "cell_type": "code",
   "execution_count": 3,
   "metadata": {},
   "outputs": [],
   "source": [
    "from pyspark.sql.types import StructField,StructType,StringType,IntegerType,DateType,FloatType\n",
    "\n",
    "schema=StructType([\n",
    "    StructField('txn_id',IntegerType()),\n",
    "    StructField('txn_dt',DateType()),\n",
    "    StructField('cid',IntegerType()),\n",
    "    StructField('amt',FloatType()),\n",
    "    StructField('prod_cat',StringType()),\n",
    "    StructField('prod',StringType()),\n",
    "    StructField('city',StringType()),\n",
    "    StructField('state',StringType()),\n",
    "    StructField('mode',StringType())\n",
    "])"
   ]
  },
  {
   "cell_type": "code",
   "execution_count": 4,
   "metadata": {},
   "outputs": [],
   "source": [
    "txn_df=spark.read\\\n",
    "    .option('mode','permissive')\\\n",
    "        .option('header',True)\\\n",
    "        .schema(schema)\\\n",
    "        .option('dateFormat','M-d-y')\\\n",
    "        .csv('../data/txns_with_header.csv')"
   ]
  },
  {
   "cell_type": "code",
   "execution_count": 5,
   "metadata": {},
   "outputs": [
    {
     "name": "stdout",
     "output_type": "stream",
     "text": [
      "+------+----------+-------+------+------------------+--------------------------+-----------+----------+------+\n",
      "|txn_id|txn_dt    |cid    |amt   |prod_cat          |prod                      |city       |state     |mode  |\n",
      "+------+----------+-------+------+------------------+--------------------------+-----------+----------+------+\n",
      "|0     |2011-06-26|4007024|null  |Exercise & Fitness|Cardio Machine Accessories|Clarksville|Tennessee |credit|\n",
      "|1     |2011-05-26|4006742|198.44|Exercise & Fitness|Weightlifting Gloves      |Long Beach |California|credit|\n",
      "+------+----------+-------+------+------------------+--------------------------+-----------+----------+------+\n",
      "only showing top 2 rows\n",
      "\n"
     ]
    }
   ],
   "source": [
    "txn_df.show(2,truncate=False)"
   ]
  },
  {
   "cell_type": "code",
   "execution_count": 6,
   "metadata": {},
   "outputs": [
    {
     "name": "stdout",
     "output_type": "stream",
     "text": [
      "root\n",
      " |-- txn_id: integer (nullable = true)\n",
      " |-- txn_dt: date (nullable = true)\n",
      " |-- cid: integer (nullable = true)\n",
      " |-- amt: float (nullable = true)\n",
      " |-- prod_cat: string (nullable = true)\n",
      " |-- prod: string (nullable = true)\n",
      " |-- city: string (nullable = true)\n",
      " |-- state: string (nullable = true)\n",
      " |-- mode: string (nullable = true)\n",
      "\n"
     ]
    }
   ],
   "source": [
    "txn_df.printSchema()"
   ]
  },
  {
   "cell_type": "code",
   "execution_count": 7,
   "metadata": {},
   "outputs": [
    {
     "name": "stdout",
     "output_type": "stream",
     "text": [
      "+--------------------+----------------+------------------+\n",
      "|               state|            city|         totalSale|\n",
      "+--------------------+----------------+------------------+\n",
      "|             Alabama|      Birmingham|20612.269999027252|\n",
      "|             Alabama|      Huntsville| 46623.00000619888|\n",
      "|             Alabama|      Montgomery| 48780.06999254227|\n",
      "|             Arizona|         Gilbert|40408.460063934326|\n",
      "|             Arizona|         Phoenix| 45919.95989751816|\n",
      "|             Arizona|      Scottsdale|44962.910140514374|\n",
      "|          California|         Anaheim| 45263.18995189667|\n",
      "|          California|        Berkeley| 43734.15998840332|\n",
      "|          California|         Fremont| 47498.90001678467|\n",
      "|          California|          Irvine| 48039.33996915817|\n",
      "|          California|      Long Beach|52686.700026512146|\n",
      "|          California|     Los Angeles| 45167.45998287201|\n",
      "|          California|         Oakland| 49764.80998420715|\n",
      "|          California|          Orange|  47215.3500289917|\n",
      "|          California|        Pasadena| 47061.14999485016|\n",
      "|          California|      Sacramento| 47730.65005207062|\n",
      "|          California|       San Diego|43126.509929180145|\n",
      "|          California|   San Francisco|  45340.9500246048|\n",
      "|          California|        San Jose|47603.340029239655|\n",
      "|          California|       Santa Ana|48209.359882354736|\n",
      "|          California|       Sunnyvale|43904.359862327576|\n",
      "|            Colorado|      Centennial|49655.789992809296|\n",
      "|            Colorado|Colorado Springs|43837.919912815094|\n",
      "|            Colorado|        Denver  | 43078.20990419388|\n",
      "|            Colorado|     Westminster|41727.780029296875|\n",
      "|         Connecticut|        Hartford| 45003.74998283386|\n",
      "|         Connecticut|        Stamford|   46079.949883461|\n",
      "|District of Columbia|      Washington| 49720.36013650894|\n",
      "|             Florida|   Coral Springs| 46034.88995361328|\n",
      "|             Florida|   Jacksonville |  43952.1199464798|\n",
      "|             Florida|           Miami| 45817.05005025864|\n",
      "|             Florida|         Orlando| 46645.29992008209|\n",
      "|             Florida|  St. Petersburg| 45927.27996492386|\n",
      "|             Florida|           Tampa|46482.310064315796|\n",
      "|             Georgia|         Atlanta|43645.639988422394|\n",
      "|             Georgia|        Columbus| 45791.36992406845|\n",
      "|              Hawaii|      Honolulu  | 42950.01008939743|\n",
      "|               Idaho|           Boise|  45031.1400475502|\n",
      "|            Illinois|         Chicago| 46556.61994886398|\n",
      "|            Illinois|        Rockford| 44292.32993555069|\n",
      "|            Illinois|     Springfield| 43173.57992887497|\n",
      "|             Indiana|   Indianapolis |   44615.710044384|\n",
      "|                Iowa|      Des Moines| 46807.73005390167|\n",
      "|              Kansas|     Kansas City| 49157.60998916626|\n",
      "|              Kansas|   Overland Park| 43555.73992109299|\n",
      "|            Kentucky|       Lexington|42718.189923763275|\n",
      "|            Kentucky|      Louisville| 47562.85988283157|\n",
      "|           Louisiana|     New Orleans|48836.109909534454|\n",
      "|            Maryland|       Baltimore|44926.589975357056|\n",
      "|       Massachusetts|          Boston|  50532.3499879837|\n",
      "+--------------------+----------------+------------------+\n",
      "only showing top 50 rows\n",
      "\n"
     ]
    }
   ],
   "source": [
    "from pyspark.sql.functions import sum as fsum\n",
    "txn_state_city_sum = txn_df.groupby(\"state\",\"city\").agg(fsum(\"amt\").alias(\"totalSale\")).orderBy(\"state\",\"city\")\n",
    "txn_state_city_sum.show(50)"
   ]
  },
  {
   "cell_type": "code",
   "execution_count": 8,
   "metadata": {},
   "outputs": [],
   "source": [
    "from pyspark.sql import Window\n",
    "running_total_window=Window.partitionBy('state').orderBy(\"city\").rowsBetween(Window.unboundedPreceding,Window.currentRow)"
   ]
  },
  {
   "cell_type": "code",
   "execution_count": 9,
   "metadata": {},
   "outputs": [
    {
     "name": "stdout",
     "output_type": "stream",
     "text": [
      "+----------+-------------+------------------+------------------+\n",
      "|     state|         city|         totalSale|      RunningTotal|\n",
      "+----------+-------------+------------------+------------------+\n",
      "|   Alabama|   Birmingham|20612.269999027252|20612.269999027252|\n",
      "|   Alabama|   Huntsville| 46623.00000619888| 67235.27000522614|\n",
      "|   Alabama|   Montgomery| 48780.06999254227| 116015.3399977684|\n",
      "|   Arizona|      Gilbert|40408.460063934326|40408.460063934326|\n",
      "|   Arizona|      Phoenix| 45919.95989751816| 86328.41996145248|\n",
      "|   Arizona|   Scottsdale|44962.910140514374|131291.33010196686|\n",
      "|California|      Anaheim| 45263.18995189667| 45263.18995189667|\n",
      "|California|     Berkeley| 43734.15998840332| 88997.34994029999|\n",
      "|California|      Fremont| 47498.90001678467|136496.24995708466|\n",
      "|California|       Irvine| 48039.33996915817|184535.58992624283|\n",
      "|California|   Long Beach|52686.700026512146|237222.28995275497|\n",
      "|California|  Los Angeles| 45167.45998287201|  282389.749935627|\n",
      "|California|      Oakland| 49764.80998420715|332154.55991983414|\n",
      "|California|       Orange|  47215.3500289917|379369.90994882584|\n",
      "|California|     Pasadena| 47061.14999485016|  426431.059943676|\n",
      "|California|   Sacramento| 47730.65005207062| 474161.7099957466|\n",
      "|California|    San Diego|43126.509929180145|517288.21992492676|\n",
      "|California|San Francisco|  45340.9500246048| 562629.1699495316|\n",
      "|California|     San Jose|47603.340029239655| 610232.5099787712|\n",
      "|California|    Santa Ana|48209.359882354736|  658441.869861126|\n",
      "+----------+-------------+------------------+------------------+\n",
      "only showing top 20 rows\n",
      "\n"
     ]
    }
   ],
   "source": [
    "txn_state_city_sum.withColumn('RunningTotal',fsum('totalSale').over(running_total_window)).show()"
   ]
  },
  {
   "cell_type": "code",
   "execution_count": 10,
   "metadata": {},
   "outputs": [],
   "source": [
    "txn_state_city_sum.write\\\n",
    "    .mode('overwrite')\\\n",
    "    .format('parquet')\\\n",
    "    .save('../data/txn_state_city_sum')"
   ]
  },
  {
   "cell_type": "code",
   "execution_count": 11,
   "metadata": {},
   "outputs": [],
   "source": [
    "# this will overwrite previously created parquet file\n",
    "txn_state_city_sum.write\\\n",
    "    .mode('overwrite')\\\n",
    "    .format('json')\\\n",
    "    .save('../data/txn_state_city_sum')"
   ]
  }
 ],
 "metadata": {
  "kernelspec": {
   "display_name": "Python 3",
   "language": "python",
   "name": "python3"
  },
  "language_info": {
   "codemirror_mode": {
    "name": "ipython",
    "version": 3
   },
   "file_extension": ".py",
   "mimetype": "text/x-python",
   "name": "python",
   "nbconvert_exporter": "python",
   "pygments_lexer": "ipython3",
   "version": "3.11.3"
  },
  "orig_nbformat": 4
 },
 "nbformat": 4,
 "nbformat_minor": 2
}
