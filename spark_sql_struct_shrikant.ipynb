{
 "cells": [
  {
   "cell_type": "markdown",
   "metadata": {},
   "source": [
    "### StructField\n"
   ]
  },
  {
   "cell_type": "code",
   "execution_count": 1,
   "metadata": {},
   "outputs": [],
   "source": [
    "import findspark as fs\n",
    "fs.init()"
   ]
  },
  {
   "cell_type": "code",
   "execution_count": 2,
   "metadata": {},
   "outputs": [],
   "source": [
    "from pyspark.sql import SparkSession\n",
    "spark = SparkSession.builder.appName(\"StructType\").master(\"local[2]\").getOrCreate()"
   ]
  },
  {
   "cell_type": "markdown",
   "metadata": {},
   "source": [
    "#### Defining custom schema\n"
   ]
  },
  {
   "cell_type": "code",
   "execution_count": 3,
   "metadata": {},
   "outputs": [],
   "source": [
    "from pyspark.sql.types import StructType,StructField,StringType,IntegerType,DateType,FloatType\n",
    "# txn_id,txn_dt,cid,amt,prod_cat,prod,city,state,mode\n",
    "txnSchema = StructType(\n",
    "    [StructField('txn_id',StringType()),\n",
    "    StructField('txn_dt',DateType()),\n",
    "    StructField('cid',IntegerType()),\n",
    "    StructField('amt',FloatType()),\n",
    "    StructField('prod_cat',StringType()),\n",
    "    StructField('prod',StringType()),\n",
    "    StructField('city',StringType()),\n",
    "    StructField('state',StringType()),\n",
    "    StructField('mode',StringType())]\n",
    "    )"
   ]
  },
  {
   "cell_type": "code",
   "execution_count": 9,
   "metadata": {},
   "outputs": [
    {
     "name": "stdout",
     "output_type": "stream",
     "text": [
      "+--------+----------+-------+------+--------------------+--------------------+--------------+--------------+------+\n",
      "|  txn_id|    txn_dt|    cid|   amt|            prod_cat|                prod|          city|         state|  mode|\n",
      "+--------+----------+-------+------+--------------------+--------------------+--------------+--------------+------+\n",
      "|00000000|2011-06-26|4007024|  null|  Exercise & Fitness|Cardio Machine Ac...|   Clarksville|     Tennessee|credit|\n",
      "|00000001|2011-05-26|4006742|198.44|  Exercise & Fitness|Weightlifting Gloves|    Long Beach|    California|credit|\n",
      "|00000002|2011-06-01|4009775|  5.58|  Exercise & Fitness|Weightlifting Mac...|       Anaheim|    California|credit|\n",
      "|00000003|2011-06-05|4002199|198.19|          Gymnastics|    Gymnastics Rings|     Milwaukee|     Wisconsin|credit|\n",
      "|00000004|2011-12-17|4002613| 98.81|         Team Sports|        Field Hockey|   Nashville  |     Tennessee|credit|\n",
      "|00000005|2011-02-14|4007591|193.63|  Outdoor Recreation|Camping & Backpac...|       Chicago|      Illinois|credit|\n",
      "|00000006|2011-10-28|4002190| 27.89|             Puzzles|      Jigsaw Puzzles|    Charleston|South Carolina|credit|\n",
      "|00000007|2011-07-14|4002964| 96.01|Outdoor Play Equi...|           Sandboxes|      Columbus|          Ohio|credit|\n",
      "|00000008|2011-01-17|4007361| 10.44|       Winter Sports|        Snowmobiling|    Des Moines|          Iowa|credit|\n",
      "|00000009|2011-05-17|4004798|152.46|             Jumping|      Bungee Jumping|St. Petersburg|       Florida|credit|\n",
      "|00000010|2011-05-29|4004646|180.28|  Outdoor Recreation|             Archery|          Reno|        Nevada|credit|\n",
      "|00000011|2011-06-18|4008071|121.39|Outdoor Play Equi...|          Swing Sets|      Columbus|          Ohio|credit|\n",
      "|00000012|2011-02-08|4002473| 41.52|        Indoor Games|             Bowling| San Francisco|    California|credit|\n",
      "|00000013|2011-03-13|4003268| 107.8|         Team Sports|        Field Hockey|    Honolulu  |        Hawaii|credit|\n",
      "|00000014|2011-02-25|4004613| 36.81|          Gymnastics|     Vaulting Horses|   Los Angeles|    California|credit|\n",
      "|00000015|2011-10-20|4003179|137.64|       Combat Sports|             Fencing|    Honolulu  |        Hawaii|credit|\n",
      "|00000016|2011-05-28|4009135| 35.56|  Exercise & Fitness|    Free Weight Bars|      Columbia|South Carolina|credit|\n",
      "|00000017|2011-10-18|4006679| 75.55|        Water Sports|Scuba Diving & Sn...|         Omaha|      Nebraska|credit|\n",
      "|00000018|2011-11-18|4002444| 88.65|         Team Sports|            Baseball|Salt Lake City|          Utah|credit|\n",
      "|00000019|2011-08-28|4008871| 51.81|        Water Sports|        Life Jackets|        Newark|    New Jersey|credit|\n",
      "+--------+----------+-------+------+--------------------+--------------------+--------------+--------------+------+\n",
      "only showing top 20 rows\n",
      "\n"
     ]
    }
   ],
   "source": [
    "df=spark.read\\\n",
    ".option(\"header\",True)\\\n",
    ".schema(txnSchema)\\\n",
    ".option(\"dateFormat\",\"M-d-y\")\\\n",
    ".csv('./data/txns_with_header.csv')\n",
    "\n",
    "df.show()"
   ]
  }
 ],
 "metadata": {
  "kernelspec": {
   "display_name": "Python 3",
   "language": "python",
   "name": "python3"
  },
  "language_info": {
   "codemirror_mode": {
    "name": "ipython",
    "version": 3
   },
   "file_extension": ".py",
   "mimetype": "text/x-python",
   "name": "python",
   "nbconvert_exporter": "python",
   "pygments_lexer": "ipython3",
   "version": "3.11.3"
  },
  "orig_nbformat": 4
 },
 "nbformat": 4,
 "nbformat_minor": 2
}
