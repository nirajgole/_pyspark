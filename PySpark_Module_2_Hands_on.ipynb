{
  "cells": [
    {
      "cell_type": "markdown",
      "metadata": {
        "colab_type": "text",
        "id": "QfkdRaSf2iv5"
      },
      "source": [
        "**Your first print statement!**"
      ]
    },
    {
      "cell_type": "code",
      "execution_count": null,
      "metadata": {
        "colab": {
          "base_uri": "https://localhost:8080/",
          "height": 34
        },
        "colab_type": "code",
        "id": "OnC0Y7rhvL9C",
        "outputId": "5ba723fa-25c5-458e-fe86-4aa58d16dcad"
      },
      "outputs": [
        {
          "name": "stdout",
          "output_type": "stream",
          "text": [
            "Hello World!\n"
          ]
        }
      ],
      "source": [
        "print(\"Hello World!\")"
      ]
    },
    {
      "cell_type": "markdown",
      "metadata": {
        "colab_type": "text",
        "id": "MkQeHCmU2uBs"
      },
      "source": [
        "**Assigning Multiple Values to a Variable**"
      ]
    },
    {
      "cell_type": "code",
      "execution_count": null,
      "metadata": {
        "colab": {
          "base_uri": "https://localhost:8080/",
          "height": 51
        },
        "colab_type": "code",
        "id": "wVxWfZksvoko",
        "outputId": "a795b68a-ab14-4d03-d5ed-394e14d9e69c"
      },
      "outputs": [
        {
          "name": "stdout",
          "output_type": "stream",
          "text": [
            "25\n",
            "30\n"
          ]
        }
      ],
      "source": [
        "a=b=c=30\n",
        "x,y,z=10,25,30\n",
        "print (y)\n",
        "print (a)\n"
      ]
    },
    {
      "cell_type": "markdown",
      "metadata": {
        "colab_type": "text",
        "id": "PqflVMg920lB"
      },
      "source": [
        "**String Literals Example**"
      ]
    },
    {
      "cell_type": "code",
      "execution_count": null,
      "metadata": {
        "colab": {
          "base_uri": "https://localhost:8080/",
          "height": 102
        },
        "colab_type": "code",
        "id": "8rVjot5yvwIw",
        "outputId": "d7392afe-7416-4877-cb62-e527abfc9679"
      },
      "outputs": [
        {
          "name": "stdout",
          "output_type": "stream",
          "text": [
            "Anirudh\n",
            "Intellipaat\n",
            "st1\n",
            "...st2\n",
            "...st3\n"
          ]
        }
      ],
      "source": [
        "name1='Anirudh'\n",
        "name2='Intellipaat'\n",
        "print(name1)\n",
        "print(name2)\n",
        "text1='hello\\World'\n",
        "multiline='''st1\n",
        "...st2\n",
        "...st3'''\n",
        "print(multiline)\n"
      ]
    },
    {
      "cell_type": "markdown",
      "metadata": {
        "colab_type": "text",
        "id": "yz-qWaoZ25to"
      },
      "source": [
        "**Number Datatype**"
      ]
    },
    {
      "cell_type": "code",
      "execution_count": null,
      "metadata": {
        "colab": {
          "base_uri": "https://localhost:8080/",
          "height": 85
        },
        "colab_type": "code",
        "id": "qynbvE6svy8v",
        "outputId": "0df7864b-4b4e-4d18-bd29-72198aa5a930"
      },
      "outputs": [
        {
          "name": "stdout",
          "output_type": "stream",
          "text": [
            "<class 'int'>\n",
            "<class 'float'>\n",
            "(8+3j)\n",
            "True\n"
          ]
        }
      ],
      "source": [
        "a = 5\n",
        "# Output: <class 'int’>\n",
        "print(type(a))\n",
        "# Output: <class 'float’>\n",
        "print(type(5.0))\n",
        "# Output: (8+3j)\n",
        "c = 5 + 3j\n",
        "print(c + 3)\n",
        "# Output: True\n",
        "print(isinstance(c, complex))\n"
      ]
    },
    {
      "cell_type": "markdown",
      "metadata": {
        "colab_type": "text",
        "id": "NEcYIf0K29dB"
      },
      "source": [
        "**Special Literals** "
      ]
    },
    {
      "cell_type": "code",
      "execution_count": null,
      "metadata": {
        "colab": {
          "base_uri": "https://localhost:8080/",
          "height": 51
        },
        "colab_type": "code",
        "id": "JAwal4EKv5Bf",
        "outputId": "414fa229-49a6-42c0-9c54-710203d79e0f"
      },
      "outputs": [
        {
          "name": "stdout",
          "output_type": "stream",
          "text": [
            "10\n",
            "None\n"
          ]
        }
      ],
      "source": [
        "val1=10\n",
        "val2=None\n",
        "print(val1)\n",
        "print(val2)\n"
      ]
    },
    {
      "cell_type": "markdown",
      "metadata": {
        "colab_type": "text",
        "id": "gB7gS_cm3CUg"
      },
      "source": [
        "**Assignment Operators**"
      ]
    },
    {
      "cell_type": "code",
      "execution_count": null,
      "metadata": {
        "colab": {
          "base_uri": "https://localhost:8080/",
          "height": 51
        },
        "colab_type": "code",
        "id": "F6m_h4VXwaHX",
        "outputId": "f79b09dc-ef21-409c-dca8-b704bea46520"
      },
      "outputs": [
        {
          "name": "stdout",
          "output_type": "stream",
          "text": [
            "1000\n",
            "5000\n"
          ]
        }
      ],
      "source": [
        "a=10\n",
        "a*=100\n",
        "b=a*5\n",
        "print(a)\n",
        "print(b)\n"
      ]
    },
    {
      "cell_type": "markdown",
      "metadata": {
        "colab_type": "text",
        "id": "llefEdCP3IXX"
      },
      "source": [
        "**Comparison Operators**"
      ]
    },
    {
      "cell_type": "code",
      "execution_count": null,
      "metadata": {
        "colab": {
          "base_uri": "https://localhost:8080/",
          "height": 34
        },
        "colab_type": "code",
        "id": "Us5l9UjGwdQG",
        "outputId": "81fea661-5415-4a70-b4d0-3e14d963a5b0"
      },
      "outputs": [
        {
          "name": "stdout",
          "output_type": "stream",
          "text": [
            "b is lesser\n"
          ]
        }
      ],
      "source": [
        "a=14\n",
        "b=11\n",
        "if a < b:\n",
        "  print('a is lesser')\n",
        "print('b is lesser')"
      ]
    },
    {
      "cell_type": "markdown",
      "metadata": {
        "colab_type": "text",
        "id": "f19tpRAJ3Pef"
      },
      "source": [
        "**Logical Operators**"
      ]
    },
    {
      "cell_type": "code",
      "execution_count": null,
      "metadata": {
        "colab": {
          "base_uri": "https://localhost:8080/",
          "height": 34
        },
        "colab_type": "code",
        "id": "SaK4Af04z8VB",
        "outputId": "03b60c5c-a328-4a3e-b19f-5d42fcc744a1"
      },
      "outputs": [
        {
          "name": "stdout",
          "output_type": "stream",
          "text": [
            "Not a holiday!\n"
          ]
        }
      ],
      "source": [
        "isSunday = True\n",
        "isHoliday = False\n",
        "\n",
        "if isHoliday and isSunday:\n",
        "    print('Sunday is a fun day!!')\n",
        "else:\n",
        "    print('Not a holiday!')\n"
      ]
    },
    {
      "cell_type": "markdown",
      "metadata": {
        "colab_type": "text",
        "id": "VJCNx2M63UJR"
      },
      "source": [
        "**Numbers in Python**"
      ]
    },
    {
      "cell_type": "code",
      "execution_count": null,
      "metadata": {
        "colab": {
          "base_uri": "https://localhost:8080/",
          "height": 68
        },
        "colab_type": "code",
        "id": "muxTFFJ_0D8P",
        "outputId": "653b1614-86fd-4425-a971-a596e1bb7528"
      },
      "outputs": [
        {
          "name": "stdout",
          "output_type": "stream",
          "text": [
            "<class 'str'>\n",
            "<class 'int'>\n",
            "<class 'float'>\n"
          ]
        }
      ],
      "source": [
        "message = 'Hello World'\n",
        "num = 1234\n",
        "rate = 13.6\n",
        "print(type(message)) #return a string\n",
        "print(type(num)) #return an integer\n",
        "print(type(rate)) #return a float\n"
      ]
    },
    {
      "cell_type": "markdown",
      "metadata": {
        "colab_type": "text",
        "id": "aXlZ4L_S3Z3A"
      },
      "source": [
        "**Strings - An Example**"
      ]
    },
    {
      "cell_type": "code",
      "execution_count": null,
      "metadata": {
        "colab": {
          "base_uri": "https://localhost:8080/",
          "height": 51
        },
        "colab_type": "code",
        "id": "S2qgZtBx0G4X",
        "outputId": "f82ecc75-59d1-4786-8ad7-8d13cba75e7d"
      },
      "outputs": [
        {
          "name": "stdout",
          "output_type": "stream",
          "text": [
            "l\n",
            "Python\n"
          ]
        }
      ],
      "source": [
        "var1 = 'Hello-World!'\n",
        "var2 = 'PythonTutorial'\n",
        "\n",
        "print(var1[2]) # prints the first character in the string `H`\n",
        "print(var2[0:6]) # prints the substring ‘ytho`\n"
      ]
    },
    {
      "cell_type": "markdown",
      "metadata": {
        "colab_type": "text",
        "id": "dFATSkNq3hAt"
      },
      "source": [
        "**For Construct in Python**"
      ]
    },
    {
      "cell_type": "code",
      "execution_count": null,
      "metadata": {
        "colab": {
          "base_uri": "https://localhost:8080/",
          "height": 85
        },
        "colab_type": "code",
        "id": "q7Q7vYaz0WHu",
        "outputId": "dc4a2c24-7eec-460a-9b91-8eddd1c6a7c0"
      },
      "outputs": [
        {
          "name": "stdout",
          "output_type": "stream",
          "text": [
            "apple\n",
            "banana\n",
            "cherry\n",
            "Watermelon\n"
          ]
        }
      ],
      "source": [
        "fruits = [\"apple\", \"banana\", \"cherry\", \"Watermelon\"]\n",
        "for z in fruits:\n",
        "    print(z)\n"
      ]
    },
    {
      "cell_type": "markdown",
      "metadata": {
        "colab_type": "text",
        "id": "lZXvzf0z3jvI"
      },
      "source": [
        "**While Construct in Python**"
      ]
    },
    {
      "cell_type": "code",
      "execution_count": null,
      "metadata": {
        "colab": {
          "base_uri": "https://localhost:8080/",
          "height": 68
        },
        "colab_type": "code",
        "id": "mc5ytDh50YY4",
        "outputId": "e2a24aaa-ad76-45f4-c5a9-f1aa01486143"
      },
      "outputs": [
        {
          "name": "stdout",
          "output_type": "stream",
          "text": [
            "1\n",
            "3\n",
            "5\n"
          ]
        }
      ],
      "source": [
        "i = 1\n",
        "while i < 6:\n",
        "  print(i)\n",
        "  i += 2\n"
      ]
    },
    {
      "cell_type": "markdown",
      "metadata": {
        "colab_type": "text",
        "id": "sVhrUJ_b3nV4"
      },
      "source": [
        "**While with Break statement**"
      ]
    },
    {
      "cell_type": "code",
      "execution_count": null,
      "metadata": {
        "colab": {
          "base_uri": "https://localhost:8080/",
          "height": 102
        },
        "colab_type": "code",
        "id": "IgrZKSnI0buo",
        "outputId": "81d69d44-4749-414e-9a6f-5368ba3b986a"
      },
      "outputs": [
        {
          "name": "stdout",
          "output_type": "stream",
          "text": [
            "1\n",
            "2\n",
            "3\n",
            "4\n",
            "Broke out of the loop!\n"
          ]
        }
      ],
      "source": [
        "i = 1\n",
        "while i < 6:\n",
        "  print(i)\n",
        "  if i == 4:\n",
        "    break\n",
        "  i += 1\n",
        "print('Broke out of the loop!')"
      ]
    },
    {
      "cell_type": "markdown",
      "metadata": {
        "colab_type": "text",
        "id": "de1iv8l13rUY"
      },
      "source": [
        "**While with Continue Statement**"
      ]
    },
    {
      "cell_type": "code",
      "execution_count": null,
      "metadata": {
        "colab": {
          "base_uri": "https://localhost:8080/",
          "height": 102
        },
        "colab_type": "code",
        "id": "vv80Krpt0enQ",
        "outputId": "9d475246-4416-47aa-f238-3af6f278ff69"
      },
      "outputs": [
        {
          "name": "stdout",
          "output_type": "stream",
          "text": [
            "1\n",
            "2\n",
            "4\n",
            "5\n",
            "6\n"
          ]
        }
      ],
      "source": [
        "i = 0\n",
        "while i < 6:\n",
        "  i += 1\n",
        "  if i == 3:\n",
        "    continue\n",
        "  print(i)\n"
      ]
    },
    {
      "cell_type": "markdown",
      "metadata": {
        "colab_type": "text",
        "id": "avn6GZGzF-jq"
      },
      "source": [
        "**Python Strings - Slicing**"
      ]
    },
    {
      "cell_type": "code",
      "execution_count": null,
      "metadata": {
        "colab": {
          "base_uri": "https://localhost:8080/",
          "height": 34
        },
        "colab_type": "code",
        "id": "n20rqp5r1BSu",
        "outputId": "17c62592-1f62-4e78-956b-03fb6e0e5776"
      },
      "outputs": [
        {
          "name": "stdout",
          "output_type": "stream",
          "text": [
            "ello,\n"
          ]
        }
      ],
      "source": [
        "b = \"Hello, World!\"\n",
        "print(b[1:6])\n"
      ]
    },
    {
      "cell_type": "code",
      "execution_count": null,
      "metadata": {
        "colab": {
          "base_uri": "https://localhost:8080/",
          "height": 34
        },
        "colab_type": "code",
        "id": "Ka0LBgwC1DrQ",
        "outputId": "f9540653-e916-459a-b7bc-db20c8af4671"
      },
      "outputs": [
        {
          "name": "stdout",
          "output_type": "stream",
          "text": [
            "orl\n"
          ]
        }
      ],
      "source": [
        "b = \"Hello, World!\"\n",
        "print(b[-5:-2])\n"
      ]
    },
    {
      "cell_type": "markdown",
      "metadata": {
        "colab_type": "text",
        "id": "FxHXb5zpN-uN"
      },
      "source": [
        "**String Lower**"
      ]
    },
    {
      "cell_type": "code",
      "execution_count": null,
      "metadata": {
        "colab": {
          "base_uri": "https://localhost:8080/",
          "height": 34
        },
        "colab_type": "code",
        "id": "poT8a--11OTk",
        "outputId": "1f2fc109-b89a-4b1b-92c5-0f47e9dc952e"
      },
      "outputs": [
        {
          "name": "stdout",
          "output_type": "stream",
          "text": [
            "hello intellipaat!\n"
          ]
        }
      ],
      "source": [
        "a = \"Hello Intellipaat!\"\n",
        "print(a.lower())\n"
      ]
    },
    {
      "cell_type": "markdown",
      "metadata": {
        "colab_type": "text",
        "id": "OTTue5SWOfeb"
      },
      "source": [
        "**String Upper**"
      ]
    },
    {
      "cell_type": "code",
      "execution_count": null,
      "metadata": {
        "colab": {
          "base_uri": "https://localhost:8080/",
          "height": 34
        },
        "colab_type": "code",
        "id": "-5Ty_uFf1sT4",
        "outputId": "3845d091-c309-4d88-86ae-0c1574116670"
      },
      "outputs": [
        {
          "name": "stdout",
          "output_type": "stream",
          "text": [
            "HELLO INTELLIPAAT!\n"
          ]
        }
      ],
      "source": [
        "a = \"Hello Intellipaat!\"\n",
        "print(a.upper())\n"
      ]
    },
    {
      "cell_type": "markdown",
      "metadata": {
        "colab_type": "text",
        "id": "XHhuLV_1OhI3"
      },
      "source": [
        "**String Replace**"
      ]
    },
    {
      "cell_type": "code",
      "execution_count": null,
      "metadata": {
        "colab": {
          "base_uri": "https://localhost:8080/",
          "height": 51
        },
        "colab_type": "code",
        "id": "aUQgx9T_1yVf",
        "outputId": "da1dd56c-a8cb-4ea1-8957-4eb1787860ba"
      },
      "outputs": [
        {
          "name": "stdout",
          "output_type": "stream",
          "text": [
            "Jello Intellipaat!!!\n",
            "Hello Intellipaat!!!\n"
          ]
        }
      ],
      "source": [
        "a = \"Jello Intellipaat!!!\"\n",
        "print(a)\n",
        "print(a.replace(\"J\", \"H\"))\n"
      ]
    },
    {
      "cell_type": "markdown",
      "metadata": {
        "colab_type": "text",
        "id": "ioO8s0z-OkGd"
      },
      "source": [
        "**String Concatenation**"
      ]
    },
    {
      "cell_type": "code",
      "execution_count": null,
      "metadata": {
        "colab": {
          "base_uri": "https://localhost:8080/",
          "height": 34
        },
        "colab_type": "code",
        "id": "mFwI3rO62Yha",
        "outputId": "c27c2511-50b8-4944-c497-1322966cc9d1"
      },
      "outputs": [
        {
          "name": "stdout",
          "output_type": "stream",
          "text": [
            "HelloWorld\n"
          ]
        }
      ],
      "source": [
        "a = \"Hello\"\n",
        "b = \"World\"\n",
        "c = a + b\n",
        "print(c)\n"
      ]
    },
    {
      "cell_type": "code",
      "execution_count": null,
      "metadata": {
        "colab": {
          "base_uri": "https://localhost:8080/",
          "height": 34
        },
        "colab_type": "code",
        "id": "xO562cLu2aSY",
        "outputId": "808bcec3-134e-4bfc-f06a-c573e9d33d16"
      },
      "outputs": [
        {
          "name": "stdout",
          "output_type": "stream",
          "text": [
            "Hello World\n"
          ]
        }
      ],
      "source": [
        "a = \"Hello\"\n",
        "b = \"World\"\n",
        "c = a + \" \" + b\n",
        "print(c)\n"
      ]
    },
    {
      "cell_type": "markdown",
      "metadata": {
        "colab_type": "text",
        "id": "c7eAESyKOoLW"
      },
      "source": [
        "**Tuples**\n",
        "\n",
        "Creation of a tuple"
      ]
    },
    {
      "cell_type": "code",
      "execution_count": null,
      "metadata": {
        "colab": {
          "base_uri": "https://localhost:8080/",
          "height": 34
        },
        "colab_type": "code",
        "id": "Re9-GzN8OqC9",
        "outputId": "f1a2052f-cb25-460e-a533-a23aecf9008b"
      },
      "outputs": [
        {
          "name": "stdout",
          "output_type": "stream",
          "text": [
            "('Python', 'Java', 'R')\n"
          ]
        }
      ],
      "source": [
        "ani = (\"Python\", \"Java\", \"R\")\n",
        "print(ani)\n"
      ]
    },
    {
      "cell_type": "markdown",
      "metadata": {
        "colab_type": "text",
        "id": "YrvAAkLJRg7z"
      },
      "source": [
        "**Access Tuple element**"
      ]
    },
    {
      "cell_type": "code",
      "execution_count": null,
      "metadata": {
        "colab": {
          "base_uri": "https://localhost:8080/",
          "height": 34
        },
        "colab_type": "code",
        "id": "sA-2ecl4OuH6",
        "outputId": "2c2e2ce1-b14a-46a2-e0e3-a1fbcc5cbd7a"
      },
      "outputs": [
        {
          "name": "stdout",
          "output_type": "stream",
          "text": [
            "Scala\n"
          ]
        }
      ],
      "source": [
        "thistuple = (\"Python\", \"Scala\", \"R\")\n",
        "print(thistuple[1])\n"
      ]
    },
    {
      "cell_type": "markdown",
      "metadata": {
        "colab_type": "text",
        "id": "7VKavLfBRmHM"
      },
      "source": [
        "Check item presence"
      ]
    },
    {
      "cell_type": "code",
      "execution_count": null,
      "metadata": {
        "colab": {
          "base_uri": "https://localhost:8080/",
          "height": 34
        },
        "colab_type": "code",
        "id": "8wxf8xWnOx1o",
        "outputId": "580fafee-804b-432a-a016-2f38ffacbdea"
      },
      "outputs": [
        {
          "name": "stdout",
          "output_type": "stream",
          "text": [
            "Yes, 'apple' is in the fruits tuple\n"
          ]
        }
      ],
      "source": [
        "thistuple = (\"apple\", \"banana\", \"cherry\")\n",
        "if \"apple\" in thistuple:\n",
        "  print(\"Yes, 'apple' is in the fruits tuple\")\n",
        "else:\n",
        "  print(\"Element not found!!!\")\n"
      ]
    },
    {
      "cell_type": "markdown",
      "metadata": {
        "colab_type": "text",
        "id": "Wnp6M3K3O08y"
      },
      "source": [
        "**Lists**\n",
        "\n",
        "Creation of a list"
      ]
    },
    {
      "cell_type": "code",
      "execution_count": null,
      "metadata": {
        "colab": {
          "base_uri": "https://localhost:8080/",
          "height": 34
        },
        "colab_type": "code",
        "id": "lKXwnXalO2Q_",
        "outputId": "5f08b918-b933-4b12-9f3b-74d737a24812"
      },
      "outputs": [
        {
          "name": "stdout",
          "output_type": "stream",
          "text": [
            "['Python', 'Java', 'R']\n"
          ]
        }
      ],
      "source": [
        "thislist = [\"Python\", \"Java\", \"R\"]\n",
        "print(thislist)\n"
      ]
    },
    {
      "cell_type": "markdown",
      "metadata": {
        "colab_type": "text",
        "id": "bLC3BU3WPPB5"
      },
      "source": [
        "**Accessing Items in a List**"
      ]
    },
    {
      "cell_type": "code",
      "execution_count": null,
      "metadata": {
        "colab": {
          "base_uri": "https://localhost:8080/",
          "height": 34
        },
        "colab_type": "code",
        "id": "LEZXcF_PO4td",
        "outputId": "685edcc2-5374-403b-c8ac-8da94ee8b57e"
      },
      "outputs": [
        {
          "name": "stdout",
          "output_type": "stream",
          "text": [
            "Python\n"
          ]
        }
      ],
      "source": [
        "thislist = [\"Python\", \"Java\", \"R\"]\n",
        "print(thislist[0])\n"
      ]
    },
    {
      "cell_type": "markdown",
      "metadata": {
        "colab_type": "text",
        "id": "ARLzOvmePQps"
      },
      "source": [
        "**Changing the item value**"
      ]
    },
    {
      "cell_type": "code",
      "execution_count": null,
      "metadata": {
        "colab": {
          "base_uri": "https://localhost:8080/",
          "height": 34
        },
        "colab_type": "code",
        "id": "0RRRlMArO586",
        "outputId": "b2c745ef-ada5-46c6-a351-7a14ab556a61"
      },
      "outputs": [
        {
          "name": "stdout",
          "output_type": "stream",
          "text": [
            "['Python', 'Scala', 'R']\n"
          ]
        }
      ],
      "source": [
        "thislist = [\"Python\", \"Java\", \"R\"]\n",
        "thislist[1] = \"Scala\"\n",
        "print(thislist)\n"
      ]
    },
    {
      "cell_type": "markdown",
      "metadata": {
        "colab_type": "text",
        "id": "AvV0hpg-PTWg"
      },
      "source": [
        "**Loop through the list**"
      ]
    },
    {
      "cell_type": "code",
      "execution_count": null,
      "metadata": {
        "colab": {
          "base_uri": "https://localhost:8080/",
          "height": 85
        },
        "colab_type": "code",
        "id": "kebG3m9MO7az",
        "outputId": "6a94e8af-64ca-43ff-9633-47b2df676e8d"
      },
      "outputs": [
        {
          "name": "stdout",
          "output_type": "stream",
          "text": [
            "Python\n",
            "Java\n",
            "R\n",
            "Scala\n"
          ]
        }
      ],
      "source": [
        "thislist = [\"Python\", \"Java\", \"R\", \"Scala\"]\n",
        "for x in thislist:\n",
        "  print(x)\n"
      ]
    },
    {
      "cell_type": "markdown",
      "metadata": {
        "colab_type": "text",
        "id": "Q14Mi-DYPVCh"
      },
      "source": [
        "**Check Item existance**"
      ]
    },
    {
      "cell_type": "code",
      "execution_count": null,
      "metadata": {
        "colab": {
          "base_uri": "https://localhost:8080/",
          "height": 34
        },
        "colab_type": "code",
        "id": "t35o4Gf2O86S",
        "outputId": "51e675bd-cd0c-4061-bb6d-072cda3c1ba7"
      },
      "outputs": [
        {
          "name": "stdout",
          "output_type": "stream",
          "text": [
            "Element not present!!\n"
          ]
        }
      ],
      "source": [
        "thislist = [\"Python\", \"Java\", \"R\"]\n",
        "if \"Scala\" in thislist:\n",
        "  print(\"Yes, 'Python' is in the list\")\n",
        "else:\n",
        "  print(\"Element not present!!\")\n"
      ]
    },
    {
      "cell_type": "markdown",
      "metadata": {
        "colab_type": "text",
        "id": "7K8G1vYUPaPw"
      },
      "source": [
        "**List Length**"
      ]
    },
    {
      "cell_type": "code",
      "execution_count": null,
      "metadata": {
        "colab": {
          "base_uri": "https://localhost:8080/",
          "height": 34
        },
        "colab_type": "code",
        "id": "_Jf2MCc4O_np",
        "outputId": "43101c6a-1f8c-45f0-b646-33b1f8c7bb6f"
      },
      "outputs": [
        {
          "name": "stdout",
          "output_type": "stream",
          "text": [
            "4\n"
          ]
        }
      ],
      "source": [
        "thislist = [\"Python\", \"Java\", \"R\", \"Scala\"]\n",
        "print(len(thislist))\n"
      ]
    },
    {
      "cell_type": "markdown",
      "metadata": {
        "colab_type": "text",
        "id": "5fWJlOOZPZSH"
      },
      "source": [
        "**Appending items to the list**"
      ]
    },
    {
      "cell_type": "code",
      "execution_count": null,
      "metadata": {
        "colab": {
          "base_uri": "https://localhost:8080/",
          "height": 34
        },
        "colab_type": "code",
        "id": "0V_dmLtPPA2p",
        "outputId": "2668d7b5-d353-46a2-eabb-a527a25678af"
      },
      "outputs": [
        {
          "name": "stdout",
          "output_type": "stream",
          "text": [
            "['Python', 'Java', 'R', 'ReactJS']\n"
          ]
        }
      ],
      "source": [
        "thislist = [\"Python\", \"Java\", \"R\"]\n",
        "thislist.append(\"ReactJS\")\n",
        "print(thislist)\n"
      ]
    },
    {
      "cell_type": "markdown",
      "metadata": {
        "colab_type": "text",
        "id": "5OPPlcFlPfAz"
      },
      "source": [
        "**Adding using insert method**"
      ]
    },
    {
      "cell_type": "code",
      "execution_count": null,
      "metadata": {
        "colab": {
          "base_uri": "https://localhost:8080/",
          "height": 34
        },
        "colab_type": "code",
        "id": "zSiCUdMvPCY2",
        "outputId": "3e22cdd9-faa4-4648-e026-8c45b8d1120a"
      },
      "outputs": [
        {
          "name": "stdout",
          "output_type": "stream",
          "text": [
            "['apple', 'orange', 'banana', 'cherry']\n"
          ]
        }
      ],
      "source": [
        "thislist = [\"apple\", \"banana\", \"cherry\"]\n",
        "thislist.insert(1, \"orange\")\n",
        "print(thislist)\n"
      ]
    },
    {
      "cell_type": "markdown",
      "metadata": {
        "colab_type": "text",
        "id": "LtXqf0LSPhjE"
      },
      "source": [
        "**Removing an item from a list**"
      ]
    },
    {
      "cell_type": "code",
      "execution_count": null,
      "metadata": {
        "colab": {
          "base_uri": "https://localhost:8080/",
          "height": 34
        },
        "colab_type": "code",
        "id": "a44JLV6yPEWA",
        "outputId": "fc253f2c-bebe-4684-8b70-0833c59c7833"
      },
      "outputs": [
        {
          "name": "stdout",
          "output_type": "stream",
          "text": [
            "['Python', 'R']\n"
          ]
        }
      ],
      "source": [
        "thislist = [\"Python\", \"Java\", \"R\"]\n",
        "thislist.remove(\"Java\")\n",
        "print(thislist)\n"
      ]
    },
    {
      "cell_type": "markdown",
      "metadata": {
        "colab_type": "text",
        "id": "N9DX3KoXPkmy"
      },
      "source": [
        "**Removing element using pop**"
      ]
    },
    {
      "cell_type": "code",
      "execution_count": null,
      "metadata": {
        "colab": {
          "base_uri": "https://localhost:8080/",
          "height": 34
        },
        "colab_type": "code",
        "id": "sOVFGxL5PGtx",
        "outputId": "b8d56a56-96d5-48fa-9f6b-bb905ee04db4"
      },
      "outputs": [
        {
          "name": "stdout",
          "output_type": "stream",
          "text": [
            "['Python', 'Java']\n"
          ]
        }
      ],
      "source": [
        "thislist = [\"Python\", \"Java\", \"R\"]\n",
        "thislist.pop()\n",
        "print(thislist)\n"
      ]
    },
    {
      "cell_type": "markdown",
      "metadata": {
        "colab_type": "text",
        "id": "aRjTjCWkPpZk"
      },
      "source": [
        "**Copying a list**"
      ]
    },
    {
      "cell_type": "code",
      "execution_count": null,
      "metadata": {
        "colab": {
          "base_uri": "https://localhost:8080/",
          "height": 34
        },
        "colab_type": "code",
        "id": "5PPIIUykPIcy",
        "outputId": "d573214b-1c90-4426-e34f-8a63d1f22c5c"
      },
      "outputs": [
        {
          "name": "stdout",
          "output_type": "stream",
          "text": [
            "['Python', 'Java', 'R']\n"
          ]
        }
      ],
      "source": [
        "thislist = [\"Python\", \"Java\", \"R\"]\n",
        "mylist = thislist.copy()\n",
        "print(mylist)\n"
      ]
    },
    {
      "cell_type": "markdown",
      "metadata": {
        "colab_type": "text",
        "id": "dziIeEGAPrad"
      },
      "source": [
        "**Copying list using list method**"
      ]
    },
    {
      "cell_type": "code",
      "execution_count": 3,
      "metadata": {
        "colab": {
          "base_uri": "https://localhost:8080/",
          "height": 34
        },
        "colab_type": "code",
        "id": "fssHD-ccPJkR",
        "outputId": "8eeccfad-5e45-45c6-c1a1-ae63eb84aaa0"
      },
      "outputs": [
        {
          "name": "stdout",
          "output_type": "stream",
          "text": [
            "['Python', 'Java', 'R']\n"
          ]
        }
      ],
      "source": [
        "thislist = [\"Python\", \"Java\", \"R\"]\n",
        "mylist = [*thislist]\n",
        "# mylist = list(thislist)\n",
        "print(mylist)\n"
      ]
    },
    {
      "cell_type": "markdown",
      "metadata": {
        "colab_type": "text",
        "id": "_3SrA7C0PvLV"
      },
      "source": [
        "**Dictionary in Python**\n",
        "\n",
        "Creating a dictionary"
      ]
    },
    {
      "cell_type": "code",
      "execution_count": null,
      "metadata": {
        "colab": {
          "base_uri": "https://localhost:8080/",
          "height": 34
        },
        "colab_type": "code",
        "id": "XnGQ9dnVP0eq",
        "outputId": "69ad06f3-aa74-4429-f206-2e0654e3bb19"
      },
      "outputs": [
        {
          "name": "stdout",
          "output_type": "stream",
          "text": [
            "{'brand': 'Ford', 'model': 'Mustang', 'year': 1964}\n"
          ]
        }
      ],
      "source": [
        "thisdict =\t{\n",
        "  \"brand\": \"Ford\",\n",
        "  \"model\": \"Mustang\",\n",
        "  \"year\": 1964\n",
        "}\n",
        "print(thisdict)\n"
      ]
    },
    {
      "cell_type": "markdown",
      "metadata": {
        "colab_type": "text",
        "id": "ZGnFLuEYQEhA"
      },
      "source": [
        "**Change values in dictionary**"
      ]
    },
    {
      "cell_type": "code",
      "execution_count": null,
      "metadata": {
        "colab": {
          "base_uri": "https://localhost:8080/",
          "height": 34
        },
        "colab_type": "code",
        "id": "vVBo4P-HP3Tj",
        "outputId": "b68195a9-1144-4663-b9c7-1832ca081323"
      },
      "outputs": [
        {
          "name": "stdout",
          "output_type": "stream",
          "text": [
            "{'brand': 'Ford', 'model': 'Mustang', 'year': 2020}\n"
          ]
        }
      ],
      "source": [
        "thisdict =\t{\n",
        "  \"brand\": \"Ford\",\n",
        "  \"model\": \"Mustang\",\n",
        "  \"year\": 1964\n",
        "}\n",
        "thisdict[\"year\"] = 2020\n",
        "print(thisdict)\n"
      ]
    },
    {
      "cell_type": "markdown",
      "metadata": {
        "colab_type": "text",
        "id": "X1_icID_QJuA"
      },
      "source": [
        "**Print values**"
      ]
    },
    {
      "cell_type": "code",
      "execution_count": null,
      "metadata": {
        "colab": {
          "base_uri": "https://localhost:8080/",
          "height": 68
        },
        "colab_type": "code",
        "id": "E7nrKESmP-1p",
        "outputId": "bce04337-1c3e-4735-e448-b532f800bc37"
      },
      "outputs": [
        {
          "name": "stdout",
          "output_type": "stream",
          "text": [
            "Ford\n",
            "Mustang\n",
            "2020\n"
          ]
        }
      ],
      "source": [
        "for x in thisdict.values():\n",
        "  print(x)\n"
      ]
    },
    {
      "cell_type": "markdown",
      "metadata": {
        "colab_type": "text",
        "id": "qY_MeJp6QN8o"
      },
      "source": [
        "**Check key presence**"
      ]
    },
    {
      "cell_type": "code",
      "execution_count": null,
      "metadata": {
        "colab": {},
        "colab_type": "code",
        "id": "n3pEyiUPQRBH"
      },
      "outputs": [],
      "source": [
        "thisdict =\t{\n",
        "  \"brand\": \"Ford\",\n",
        "  \"model\": \"Mustang\",\n",
        "  \"year\": 1964\n",
        "}\n",
        "if \"models\" in thisdict:\n",
        "  print(\"Yes, 'model' is one of the keys in the thisdict dictionary\")\n"
      ]
    },
    {
      "cell_type": "markdown",
      "metadata": {
        "colab_type": "text",
        "id": "DDX0VxpPQSvp"
      },
      "source": [
        "**Print length**"
      ]
    },
    {
      "cell_type": "code",
      "execution_count": null,
      "metadata": {
        "colab": {
          "base_uri": "https://localhost:8080/",
          "height": 34
        },
        "colab_type": "code",
        "id": "KCK6RYTrQT3h",
        "outputId": "7b748c3c-2b39-4aa9-f1bf-3236052b8acf"
      },
      "outputs": [
        {
          "name": "stdout",
          "output_type": "stream",
          "text": [
            "3\n"
          ]
        }
      ],
      "source": [
        "print(len(thisdict))\n"
      ]
    },
    {
      "cell_type": "markdown",
      "metadata": {
        "colab_type": "text",
        "id": "6c8yifZFQWSJ"
      },
      "source": [
        "**Adding items**"
      ]
    },
    {
      "cell_type": "code",
      "execution_count": null,
      "metadata": {
        "colab": {
          "base_uri": "https://localhost:8080/",
          "height": 34
        },
        "colab_type": "code",
        "id": "ama8CGZmQZn5",
        "outputId": "8848d473-d06d-4316-bc6d-7d217af9cb78"
      },
      "outputs": [
        {
          "name": "stdout",
          "output_type": "stream",
          "text": [
            "{'brand': 'Ford', 'model': 'Mustang', 'year': 1964, 'color': 'red'}\n"
          ]
        }
      ],
      "source": [
        "thisdict =\t{\n",
        "  \"brand\": \"Ford\",\n",
        "  \"model\": \"Mustang\",\n",
        "  \"year\": 1964\n",
        "}\n",
        "thisdict[\"color\"] = \"red\"\n",
        "print(thisdict)\n"
      ]
    },
    {
      "cell_type": "markdown",
      "metadata": {
        "colab_type": "text",
        "id": "8z7dyWBbQcF2"
      },
      "source": [
        "**Removing items**"
      ]
    },
    {
      "cell_type": "code",
      "execution_count": null,
      "metadata": {
        "colab": {
          "base_uri": "https://localhost:8080/",
          "height": 34
        },
        "colab_type": "code",
        "id": "ehz5QH52Qc6u",
        "outputId": "897cac83-b710-4ae7-a524-5f3268f49a74"
      },
      "outputs": [
        {
          "name": "stdout",
          "output_type": "stream",
          "text": [
            "{'brand': 'Ford', 'year': 1964}\n"
          ]
        }
      ],
      "source": [
        "thisdict =\t{\n",
        "  \"brand\": \"Ford\",\n",
        "  \"model\": \"Mustang\",\n",
        "  \"year\": 1964\n",
        "}\n",
        "thisdict.pop(\"model\")\n",
        "print(thisdict)\n"
      ]
    },
    {
      "cell_type": "markdown",
      "metadata": {
        "colab_type": "text",
        "id": "k2qSXkSPQfGF"
      },
      "source": [
        "**Nested Dictionaries**"
      ]
    },
    {
      "cell_type": "code",
      "execution_count": null,
      "metadata": {
        "colab": {
          "base_uri": "https://localhost:8080/",
          "height": 34
        },
        "colab_type": "code",
        "id": "rihQpfyWQg5d",
        "outputId": "7dd88ef7-0fef-4aed-ea11-10fef5610e07"
      },
      "outputs": [
        {
          "name": "stdout",
          "output_type": "stream",
          "text": [
            "{'child1': {'name': 'Emil', 'year': 2004}, 'child2': {'name': 'Tobias', 'year': 2007}, 'child3': {'name': 'Linus', 'year': 2011}}\n"
          ]
        }
      ],
      "source": [
        "myparent = {\n",
        "  \"child1\" : {\n",
        "    \"name\" : \"Emil\",\n",
        "    \"year\" : 2004\n",
        "  },\n",
        "  \"child2\" : {\n",
        "    \"name\" : \"Tobias\",\n",
        "    \"year\" : 2007\n",
        "  },\n",
        "  \"child3\" : {\n",
        "    \"name\" : \"Linus\",\n",
        "    \"year\" : 2011\n",
        "  }\n",
        "}\n",
        "print(myparent)\n"
      ]
    },
    {
      "cell_type": "markdown",
      "metadata": {
        "colab_type": "text",
        "id": "1yrVBi8XQi4i"
      },
      "source": [
        "**Sets in Python**\n",
        "\n",
        "Create a set"
      ]
    },
    {
      "cell_type": "code",
      "execution_count": null,
      "metadata": {
        "colab": {
          "base_uri": "https://localhost:8080/",
          "height": 34
        },
        "colab_type": "code",
        "id": "yXHQW1hKQlgj",
        "outputId": "f822d41b-9a26-4558-e1b6-000074f49324"
      },
      "outputs": [
        {
          "name": "stdout",
          "output_type": "stream",
          "text": [
            "{'banana', 'apple', 'cherry'}\n"
          ]
        }
      ],
      "source": [
        "thisset = {\"apple\", \"banana\", \"cherry\"}\n",
        "print(thisset)\n"
      ]
    },
    {
      "cell_type": "markdown",
      "metadata": {
        "colab_type": "text",
        "id": "qRFeLq_0QoIh"
      },
      "source": [
        "**Access Items in the set**"
      ]
    },
    {
      "cell_type": "code",
      "execution_count": null,
      "metadata": {
        "colab": {
          "base_uri": "https://localhost:8080/",
          "height": 34
        },
        "colab_type": "code",
        "id": "0kWK3wbRQpOa",
        "outputId": "17a496ae-df83-4f0b-8394-6e99c5c59dd3"
      },
      "outputs": [
        {
          "name": "stdout",
          "output_type": "stream",
          "text": [
            "{'banana', 'apple', 'cherry'}\n"
          ]
        }
      ],
      "source": [
        "thisset = {\"apple\", \"banana\", \"cherry\"}\n",
        "print(thisset)\n"
      ]
    },
    {
      "cell_type": "markdown",
      "metadata": {
        "colab_type": "text",
        "id": "tEK5biLrQrKN"
      },
      "source": [
        "**Check item presence**"
      ]
    },
    {
      "cell_type": "code",
      "execution_count": null,
      "metadata": {
        "colab": {
          "base_uri": "https://localhost:8080/",
          "height": 34
        },
        "colab_type": "code",
        "id": "EaRbP9E_QsXZ",
        "outputId": "e09b981d-0bc9-4c1f-dc10-0ae062e7b181"
      },
      "outputs": [
        {
          "name": "stdout",
          "output_type": "stream",
          "text": [
            "True\n"
          ]
        }
      ],
      "source": [
        "thisset = {\"apple\", \"banana\", \"cherry\"}\n",
        "\n",
        "print(\"banana\" in thisset)\n"
      ]
    },
    {
      "cell_type": "markdown",
      "metadata": {
        "colab_type": "text",
        "id": "7DU_N7eBQvB8"
      },
      "source": [
        "**Add items to set**"
      ]
    },
    {
      "cell_type": "code",
      "execution_count": null,
      "metadata": {
        "colab": {
          "base_uri": "https://localhost:8080/",
          "height": 34
        },
        "colab_type": "code",
        "id": "eLdUH6YeQwGk",
        "outputId": "47d8d7cb-2ac7-4b40-e50b-13aa18e53ef1"
      },
      "outputs": [
        {
          "name": "stdout",
          "output_type": "stream",
          "text": [
            "{'banana', 'orange', 'apple', 'cherry'}\n"
          ]
        }
      ],
      "source": [
        "thisset = {\"apple\", \"banana\", \"cherry\"}\n",
        "\n",
        "thisset.add(\"orange\")\n",
        "\n",
        "print(thisset)\n"
      ]
    },
    {
      "cell_type": "markdown",
      "metadata": {
        "colab_type": "text",
        "id": "YEl_Fn_eQyD-"
      },
      "source": [
        "**Length of the set**"
      ]
    },
    {
      "cell_type": "code",
      "execution_count": null,
      "metadata": {
        "colab": {
          "base_uri": "https://localhost:8080/",
          "height": 34
        },
        "colab_type": "code",
        "id": "b_ABNx6wQy_8",
        "outputId": "4f33eadf-b2dc-44f7-b1f2-12c87ab8572f"
      },
      "outputs": [
        {
          "name": "stdout",
          "output_type": "stream",
          "text": [
            "4\n"
          ]
        }
      ],
      "source": [
        "thisset = {\"apple\", \"banana\", \"cherry\",\"Watermelon\"}\n",
        "\n",
        "print(len(thisset))\n"
      ]
    },
    {
      "cell_type": "markdown",
      "metadata": {
        "colab_type": "text",
        "id": "2pzb4LHuQ0Dy"
      },
      "source": [
        "**Remove an item**"
      ]
    },
    {
      "cell_type": "code",
      "execution_count": null,
      "metadata": {
        "colab": {
          "base_uri": "https://localhost:8080/",
          "height": 34
        },
        "colab_type": "code",
        "id": "NDUuPYZWQ1wR",
        "outputId": "fd09bf6f-a2c3-4847-d1f7-1d4e6135fcef"
      },
      "outputs": [
        {
          "name": "stdout",
          "output_type": "stream",
          "text": [
            "{'apple', 'cherry'}\n"
          ]
        }
      ],
      "source": [
        "thisset = {\"apple\", \"banana\", \"cherry\"}\n",
        "\n",
        "thisset.remove(\"banana\")\n",
        "\n",
        "print(thisset)\n"
      ]
    }
  ],
  "metadata": {
    "colab": {
      "collapsed_sections": [],
      "name": "PySpark Module 2 Hands-on.ipynb",
      "provenance": []
    },
    "kernelspec": {
      "display_name": "Python 3",
      "name": "python3"
    },
    "language_info": {
      "codemirror_mode": {
        "name": "ipython",
        "version": 3
      },
      "file_extension": ".py",
      "mimetype": "text/x-python",
      "name": "python",
      "nbconvert_exporter": "python",
      "pygments_lexer": "ipython3",
      "version": "3.11.3"
    }
  },
  "nbformat": 4,
  "nbformat_minor": 0
}
