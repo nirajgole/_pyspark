{
 "cells": [
  {
   "cell_type": "code",
   "execution_count": null,
   "id": "048988da-fcd6-4e4c-8984-667243049b1c",
   "metadata": {},
   "outputs": [],
   "source": [
    "import findspark\n",
    "findspark.init()"
   ]
  },
  {
   "cell_type": "code",
   "execution_count": null,
   "id": "a957c300-c9ec-487a-9e65-be65a927f088",
   "metadata": {},
   "outputs": [],
   "source": [
    "from pyspark.sql import SparkSession"
   ]
  },
  {
   "cell_type": "code",
   "execution_count": null,
   "id": "4022a809-f595-4fc0-b016-1304f4a47ad4",
   "metadata": {},
   "outputs": [],
   "source": [
    "spark = SparkSession.builder\\\n",
    "                   .appName(\"DF Operations\")\\\n",
    "                   .master(\"local[2]\")\\\n",
    "                   .getOrCreate()"
   ]
  },
  {
   "cell_type": "code",
   "execution_count": null,
   "id": "0c85d7e1-05ae-41dc-bf47-6e9f0608d8f0",
   "metadata": {},
   "outputs": [],
   "source": [
    "from pyspark.sql.types import StructType,StructField,StringType,IntegerType,FloatType,DateType,TimestampType,ArrayType"
   ]
  },
  {
   "cell_type": "code",
   "execution_count": null,
   "id": "8145d781-116b-4be2-905b-1f13835ad00f",
   "metadata": {},
   "outputs": [],
   "source": [
    "txnSchema = StructType([\n",
    "                        StructField(\"txn_id\",IntegerType()),\n",
    "                        StructField(\"txn_date\",DateType()),\n",
    "                        StructField(\"cid\",StringType()),\n",
    "                        StructField(\"amount\",FloatType()),\n",
    "                        StructField(\"prod_cat\",StringType()), \n",
    "                        StructField(\"prod\",StringType()),\n",
    "                        StructField(\"city\",StringType()),\n",
    "                        StructField(\"state\",StringType()),\n",
    "                        StructField(\"mode\",StringType())\n",
    "                      ])"
   ]
  },
  {
   "cell_type": "code",
   "execution_count": null,
   "id": "e24be91e-cc03-44d8-8635-f1e8517e66ff",
   "metadata": {},
   "outputs": [],
   "source": [
    "txnDF = spark.read\\\n",
    "          .option(\"header\",True)\\\n",
    "          .schema(txnSchema)\\\n",
    "          .option(\"mode\",\"PERMISSIVE\")\\\n",
    "          .option(\"dateFormat\",\"M-dd-y\")\\\n",
    "          .csv(\"d:\\\\data\\\\txn_with_header.txt\")"
   ]
  },
  {
   "cell_type": "code",
   "execution_count": 9,
   "id": "f5e009c5-55ce-4ac9-88dc-d8e8c5dba907",
   "metadata": {},
   "outputs": [
    {
     "name": "stdout",
     "output_type": "stream",
     "text": [
      "+------+----------+-------+------+------------------+--------------------+----------+----------+------+\n",
      "|txn_id|  txn_date|    cid|amount|          prod_cat|                prod|      city|     state|  mode|\n",
      "+------+----------+-------+------+------------------+--------------------+----------+----------+------+\n",
      "|     1|2011-05-26|4006742| 98.44|Exercise & Fitness|Weightlifting Gloves|Long Beach|California|credit|\n",
      "|     2|2011-06-01|4009775|  5.58|Exercise & Fitness|Weightlifting Mac...|   Anaheim|California|credit|\n",
      "|     3|2011-06-05|4002199|198.19|        Gymnastics|    Gymnastics Rings| Milwaukee| Wisconsin|credit|\n",
      "|     4|2011-12-17|4002613| 98.81|       Team Sports|        Field Hockey| Nashville| Tennessee|credit|\n",
      "|     5|2011-02-14|4007591|193.63|Outdoor Recreation|Camping & Backpac...|   Chicago|  Illinois|credit|\n",
      "+------+----------+-------+------+------------------+--------------------+----------+----------+------+\n",
      "only showing top 5 rows\n",
      "\n"
     ]
    }
   ],
   "source": [
    "txnDF.show(5)"
   ]
  },
  {
   "cell_type": "code",
   "execution_count": 10,
   "id": "9fd2d4c7-bceb-4bd1-94f8-ca8f0ead8188",
   "metadata": {},
   "outputs": [],
   "source": [
    "#1 rename col prod -> Product\n",
    "#2 change type of txn_id to String\n",
    "#3 Add new column as year \n",
    "#4 Add new col - trans_Cate\n",
    "        # t1 = if amount < 20\n",
    "        # t2 = if ampount < 50\n",
    "        # t3 = else\n"
   ]
  },
  {
   "cell_type": "code",
   "execution_count": 42,
   "id": "3af895f3-e022-48ef-92e1-c02fbc364bd6",
   "metadata": {},
   "outputs": [
    {
     "ename": "ImportError",
     "evalue": "cannot import name 'make_date' from 'pyspark.sql.functions' (D:\\spark-2.4.7-bin-hadoop2.7\\python\\pyspark\\sql\\functions.py)",
     "output_type": "error",
     "traceback": [
      "\u001b[1;31m---------------------------------------------------------------------------\u001b[0m",
      "\u001b[1;31mImportError\u001b[0m                               Traceback (most recent call last)",
      "\u001b[1;32m~\\AppData\\Local\\Temp/ipykernel_9908/275548961.py\u001b[0m in \u001b[0;36m<module>\u001b[1;34m\u001b[0m\n\u001b[1;32m----> 1\u001b[1;33m \u001b[1;32mfrom\u001b[0m \u001b[0mpyspark\u001b[0m\u001b[1;33m.\u001b[0m\u001b[0msql\u001b[0m\u001b[1;33m.\u001b[0m\u001b[0mfunctions\u001b[0m \u001b[1;32mimport\u001b[0m \u001b[0mcol\u001b[0m\u001b[1;33m,\u001b[0m\u001b[0myear\u001b[0m\u001b[1;33m,\u001b[0m\u001b[0mmonth\u001b[0m\u001b[1;33m,\u001b[0m\u001b[0mwhen\u001b[0m\u001b[1;33m,\u001b[0m\u001b[0mlit\u001b[0m\u001b[1;33m,\u001b[0m\u001b[0mconcat\u001b[0m\u001b[1;33m,\u001b[0m\u001b[0mto_date\u001b[0m\u001b[1;33m,\u001b[0m\u001b[0mmake_date\u001b[0m\u001b[1;33m\u001b[0m\u001b[1;33m\u001b[0m\u001b[0m\n\u001b[0m",
      "\u001b[1;31mImportError\u001b[0m: cannot import name 'make_date' from 'pyspark.sql.functions' (D:\\spark-2.4.7-bin-hadoop2.7\\python\\pyspark\\sql\\functions.py)"
     ]
    }
   ],
   "source": [
    "from pyspark.sql.functions import col,year,month,when,lit,concat,to_date"
   ]
  },
  {
   "cell_type": "code",
   "execution_count": 27,
   "id": "e64e0972-1003-4f41-ad6b-a2a2bed59865",
   "metadata": {},
   "outputs": [],
   "source": [
    "txnDFnew = txnDF.withColumnRenamed(\"prod\",\"Product\")\\\n",
    "     .withColumn(\"txn_id\",col(\"txn_id\").cast(StringType()))\\\n",
    "     .withColumn(\"Year\",year(col(\"txn_date\")))\\\n",
    "     .withColumn(\"Month\",month(col(\"txn_date\")))\\\n",
    "     .withColumn(\"Trans_Category\", when(col(\"amount\") < 20,\"T1\")\n",
    "                                    .when(col(\"amount\") < 50,\"T2\")\n",
    "                                    .otherwise(\"T3\"))\n",
    "\n",
    "# Month Wise sale"
   ]
  },
  {
   "cell_type": "code",
   "execution_count": 28,
   "id": "f2419d45-0790-4e70-8858-1da1793c9f95",
   "metadata": {},
   "outputs": [
    {
     "name": "stdout",
     "output_type": "stream",
     "text": [
      "root\n",
      " |-- txn_id: string (nullable = true)\n",
      " |-- txn_date: date (nullable = true)\n",
      " |-- cid: string (nullable = true)\n",
      " |-- amount: float (nullable = true)\n",
      " |-- prod_cat: string (nullable = true)\n",
      " |-- Product: string (nullable = true)\n",
      " |-- city: string (nullable = true)\n",
      " |-- state: string (nullable = true)\n",
      " |-- mode: string (nullable = true)\n",
      " |-- Year: integer (nullable = true)\n",
      " |-- Month: integer (nullable = true)\n",
      " |-- Trans_Category: string (nullable = false)\n",
      "\n"
     ]
    }
   ],
   "source": [
    "txnDFnew.printSchema()"
   ]
  },
  {
   "cell_type": "code",
   "execution_count": 29,
   "id": "cc67271f-d22c-4ca1-aaaf-5f5894dce50c",
   "metadata": {},
   "outputs": [
    {
     "name": "stdout",
     "output_type": "stream",
     "text": [
      "+------+----------+-------+------+------------------+--------------------+----------+----------+------+----+-----+--------------+\n",
      "|txn_id|  txn_date|    cid|amount|          prod_cat|             Product|      city|     state|  mode|Year|Month|Trans_Category|\n",
      "+------+----------+-------+------+------------------+--------------------+----------+----------+------+----+-----+--------------+\n",
      "|     1|2011-05-26|4006742| 98.44|Exercise & Fitness|Weightlifting Gloves|Long Beach|California|credit|2011|    5|            T3|\n",
      "|     2|2011-06-01|4009775|  5.58|Exercise & Fitness|Weightlifting Mac...|   Anaheim|California|credit|2011|    6|            T1|\n",
      "+------+----------+-------+------+------------------+--------------------+----------+----------+------+----+-----+--------------+\n",
      "only showing top 2 rows\n",
      "\n"
     ]
    }
   ],
   "source": [
    "txnDFnew.show(2)"
   ]
  },
  {
   "cell_type": "code",
   "execution_count": 31,
   "id": "51e10ef2-75b0-40d5-990e-a4f735d74ea9",
   "metadata": {},
   "outputs": [
    {
     "name": "stdout",
     "output_type": "stream",
     "text": [
      "root\n",
      " |-- name: string (nullable = true)\n",
      " |-- day: string (nullable = true)\n",
      " |-- month: string (nullable = true)\n",
      " |-- year: string (nullable = true)\n",
      "\n"
     ]
    }
   ],
   "source": [
    "# Exercise\n",
    "# Create a dataFrame :\n",
    "data = [(\"Sagar\",\"12\",\"3\",\"2002\"),\n",
    "    (\"Abdul\",\"23\",\"5\",\"81\"),\n",
    "    (\"John\",\"12\",\"12\",\"6\"),\n",
    "    (\"Rosy\",\"7\",\"8\",\"63\"),\n",
    "    (\"Abdul\",\"23\",\"5\",\"81\"),\n",
    "    (\"Vijay\",\"2\",\"5\",\"21\")]\n",
    "\n",
    "df = spark.createDataFrame(data).toDF(\"name\",\"day\",\"month\",\"year\")\n",
    "\n",
    "df.printSchema()"
   ]
  },
  {
   "cell_type": "code",
   "execution_count": 44,
   "id": "43f2278d-43d4-4597-8654-ae1434c1de00",
   "metadata": {},
   "outputs": [
    {
     "name": "stdout",
     "output_type": "stream",
     "text": [
      "+-----+----------+\n",
      "| name|       doj|\n",
      "+-----+----------+\n",
      "| Rosy|1963-08-07|\n",
      "|Abdul|1981-05-23|\n",
      "|Vijay|2021-05-02|\n",
      "| John|2006-12-12|\n",
      "|Sagar|2002-03-12|\n",
      "+-----+----------+\n",
      "\n"
     ]
    }
   ],
   "source": [
    "df_new = df.withColumn(\"year\",col(\"year\").cast(IntegerType()))\\\n",
    "  .withColumn(\"year\",when(col(\"year\")< 24 , col(\"year\")+2000)\n",
    "                     .when(col(\"year\")< 100 , col(\"year\")+1900)\n",
    "                      .otherwise(col(\"year\")))\\\n",
    "  .withColumn(\"doj\",concat(col(\"day\"),lit(\"/\"),col(\"month\"),lit(\"/\"),col(\"year\")))\\\n",
    "  .withColumn(\"doj\",to_date(col(\"doj\"),'d/M/y'))\\\n",
    "  .drop(\"day\",\"month\",\"year\")\\\n",
    "  .dropDuplicates()"
   ]
  },
  {
   "cell_type": "code",
   "execution_count": null,
   "id": "e4804781-03d9-44aa-8199-7f0d0a1d2f6d",
   "metadata": {},
   "outputs": [],
   "source": [
    "df.withColumn(\"year\",col(\"year\").cast(IntegerType()))\\\n",
    "  .withColumn(\"year\",when(col(\"year\")< 24 , col(\"year\")+2000)\n",
    "                     .when(col(\"year\")< 100 , col(\"year\")+1900)\n",
    "                      .otherwise(col(\"year\")))\\\n",
    "  .withColumn(\"doj\",make_date(col(\"year\"),col(\"month\"),col(\"day\")))\\\n",
    "  .show()"
   ]
  }
 ],
 "metadata": {
  "kernelspec": {
   "display_name": "Python 3 (ipykernel)",
   "language": "python",
   "name": "python3"
  },
  "language_info": {
   "codemirror_mode": {
    "name": "ipython",
    "version": 3
   },
   "file_extension": ".py",
   "mimetype": "text/x-python",
   "name": "python",
   "nbconvert_exporter": "python",
   "pygments_lexer": "ipython3",
   "version": "3.7.10"
  }
 },
 "nbformat": 4,
 "nbformat_minor": 5
}
