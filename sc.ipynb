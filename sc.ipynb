{
 "cells": [
  {
   "cell_type": "code",
   "execution_count": 1,
   "metadata": {},
   "outputs": [
    {
     "data": {
      "text/plain": [
       "'C:\\\\Program Files\\\\spark\\\\spark-3.4.1-bin-hadoop3'"
      ]
     },
     "execution_count": 1,
     "metadata": {},
     "output_type": "execute_result"
    }
   ],
   "source": [
    "import findspark\n",
    "findspark.init()\n",
    "findspark.find()"
   ]
  },
  {
   "cell_type": "code",
   "execution_count": 20,
   "metadata": {},
   "outputs": [],
   "source": [
    "from pyspark import SparkContext\n",
    "sc=SparkContext(appName=\"RDD\").getOrCreate()\n",
    "#Entry point for spark core application"
   ]
  },
  {
   "cell_type": "code",
   "execution_count": 25,
   "metadata": {},
   "outputs": [],
   "source": [
    "# in case need to stop spark context\n",
    "# cannot run multiple context at a time\n",
    "sc.stop()"
   ]
  },
  {
   "cell_type": "code",
   "execution_count": 21,
   "metadata": {},
   "outputs": [
    {
     "data": {
      "text/html": [
       "\n",
       "        <div>\n",
       "            <p><b>SparkContext</b></p>\n",
       "\n",
       "            <p><a href=\"http://N7:4041\">Spark UI</a></p>\n",
       "\n",
       "            <dl>\n",
       "              <dt>Version</dt>\n",
       "                <dd><code>v3.4.1</code></dd>\n",
       "              <dt>Master</dt>\n",
       "                <dd><code>local[*]</code></dd>\n",
       "              <dt>AppName</dt>\n",
       "                <dd><code>RDD</code></dd>\n",
       "            </dl>\n",
       "        </div>\n",
       "        "
      ],
      "text/plain": [
       "<SparkContext master=local[*] appName=RDD>"
      ]
     },
     "execution_count": 21,
     "metadata": {},
     "output_type": "execute_result"
    }
   ],
   "source": [
    "sc"
   ]
  },
  {
   "cell_type": "code",
   "execution_count": 22,
   "metadata": {},
   "outputs": [],
   "source": [
    "rdd=sc.textFile('./data/custs_without_header.txt')"
   ]
  },
  {
   "cell_type": "code",
   "execution_count": 23,
   "metadata": {},
   "outputs": [
    {
     "data": {
      "text/plain": [
       "2"
      ]
     },
     "execution_count": 23,
     "metadata": {},
     "output_type": "execute_result"
    }
   ],
   "source": [
    "rdd.getNumPartitions()"
   ]
  },
  {
   "cell_type": "code",
   "execution_count": 9,
   "metadata": {},
   "outputs": [
    {
     "name": "stdout",
     "output_type": "stream",
     "text": [
      "Help on function getNumPartitions in module pyspark.rdd:\n",
      "\n",
      "getNumPartitions(self) -> int\n",
      "    Returns the number of partitions in RDD\n",
      "    \n",
      "    .. versionadded:: 1.1.0\n",
      "    \n",
      "    Returns\n",
      "    -------\n",
      "    int\n",
      "        number of partitions\n",
      "    \n",
      "    Examples\n",
      "    --------\n",
      "    >>> rdd = sc.parallelize([1, 2, 3, 4], 2)\n",
      "    >>> rdd.getNumPartitions()\n",
      "    2\n",
      "\n"
     ]
    }
   ],
   "source": [
    "import pyspark\n",
    "help(pyspark.RDD.getNumPartitions)"
   ]
  },
  {
   "cell_type": "code",
   "execution_count": 24,
   "metadata": {},
   "outputs": [
    {
     "data": {
      "text/plain": [
       "['4000001', 'Kristina', 'Chung', '55', 'Pilot']"
      ]
     },
     "execution_count": 24,
     "metadata": {},
     "output_type": "execute_result"
    }
   ],
   "source": [
    "#Get all the records where age > 40\n",
    "rdd1= rdd.map(lambda str:str.split(\",\"))\n",
    "rdd1.first()"
   ]
  },
  {
   "cell_type": "code",
   "execution_count": null,
   "metadata": {},
   "outputs": [],
   "source": [
    "#Get all the records where dsg is missing\n",
    "rdd2=rdd1.filter(lambda lst:int(lst[3])>60)\n",
    "rdd2.first()"
   ]
  },
  {
   "cell_type": "code",
   "execution_count": null,
   "metadata": {},
   "outputs": [],
   "source": [
    "rdd3=rdd1.filter(lambda lst:int(lst[3])>60 and lst[4]=='Pilot')\n",
    "rdd3.first()"
   ]
  },
  {
   "cell_type": "code",
   "execution_count": null,
   "metadata": {},
   "outputs": [],
   "source": [
    "rdd4=rdd1.filter(lambda lst:lst[1][0]=='S')\n",
    "rdd4.first()"
   ]
  },
  {
   "cell_type": "code",
   "execution_count": null,
   "metadata": {},
   "outputs": [],
   "source": [
    "rdd5=rdd1.filter(lambda lst:lst[4] in ('Teacher','Pilot','Lawyer'))\n",
    "rdd5.take(10)"
   ]
  },
  {
   "cell_type": "code",
   "execution_count": null,
   "metadata": {},
   "outputs": [],
   "source": [
    "# rdd6=rdd1.map(lambda lst:(lst[1][0],1)).reduceByKey(lambda a,b:(a+b)).takeOrdered(10,lambda a:-a[1])\n",
    "rdd6=rdd1.map(lambda lst:(lst[1][0],1)).reduceByKey(lambda a,b:(a+b)).sortBy(lambda a:a[1],False).collect()\n",
    "rdd6"
   ]
  },
  {
   "cell_type": "code",
   "execution_count": null,
   "metadata": {},
   "outputs": [],
   "source": [
    "rddWordCount = sc.textFile('../data/words.txt')\\\n",
    "                .flatMap(lambda x:x.split(' '))\\\n",
    "                .map(lambda c:(c,1))\\\n",
    "                .reduceByKey(lambda a,b:(a+b))\\\n",
    "                .take(2)\n",
    "rddWordCount"
   ]
  },
  {
   "cell_type": "markdown",
   "metadata": {},
   "source": [
    "### Join\n"
   ]
  },
  {
   "cell_type": "code",
   "execution_count": null,
   "metadata": {},
   "outputs": [],
   "source": [
    "rddCust = sc.textFile('../data/custs_without_header.txt')\\\n",
    "    .map(lambda y:y.split(','))\\\n",
    "    .map(lambda x:(x[0],x[1]))\n",
    "\n",
    "rddTrans = sc.textFile('../data/custs_txn.txt')\\\n",
    "    .map(lambda y:y.split(','))\\\n",
    "    .map(lambda x:(x[2],x[3]))\n",
    "    \n"
   ]
  },
  {
   "cell_type": "code",
   "execution_count": null,
   "metadata": {},
   "outputs": [],
   "source": [
    "custTxns=rddCust.join(rddTrans)\\\n",
    "    .map(lambda x:[x[0],x[0][0],x[0][1]])\\\n",
    "\n"
   ]
  },
  {
   "cell_type": "code",
   "execution_count": null,
   "metadata": {},
   "outputs": [],
   "source": [
    "custTxns.cache().take(2)"
   ]
  }
 ],
 "metadata": {
  "kernelspec": {
   "display_name": "Python 3",
   "language": "python",
   "name": "python3"
  },
  "language_info": {
   "codemirror_mode": {
    "name": "ipython",
    "version": 3
   },
   "file_extension": ".py",
   "mimetype": "text/x-python",
   "name": "python",
   "nbconvert_exporter": "python",
   "pygments_lexer": "ipython3",
   "version": "3.11.3"
  },
  "orig_nbformat": 4
 },
 "nbformat": 4,
 "nbformat_minor": 2
}
