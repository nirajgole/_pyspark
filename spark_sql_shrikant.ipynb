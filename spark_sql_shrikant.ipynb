{
 "cells": [
  {
   "cell_type": "markdown",
   "metadata": {},
   "source": [
    "### SparkSession\n"
   ]
  },
  {
   "cell_type": "code",
   "execution_count": null,
   "metadata": {},
   "outputs": [],
   "source": [
    "import findspark as fs\n",
    "fs.init()\n",
    "# fs.find()"
   ]
  },
  {
   "cell_type": "code",
   "execution_count": null,
   "metadata": {},
   "outputs": [],
   "source": [
    "from pyspark.sql import SparkSession"
   ]
  },
  {
   "cell_type": "code",
   "execution_count": null,
   "metadata": {},
   "outputs": [],
   "source": [
    "spark = SparkSession\\\n",
    ".builder\\\n",
    ".appName('MyApp')\\\n",
    ".master('local[2]')\\\n",
    ".getOrCreate()"
   ]
  },
  {
   "cell_type": "code",
   "execution_count": 40,
   "metadata": {},
   "outputs": [],
   "source": [
    "spark.stop()"
   ]
  },
  {
   "cell_type": "code",
   "execution_count": null,
   "metadata": {},
   "outputs": [],
   "source": [
    "df=spark.read.option(\"header\",True).csv('./data/custs_with_header.csv')\n"
   ]
  },
  {
   "cell_type": "code",
   "execution_count": null,
   "metadata": {},
   "outputs": [],
   "source": [
    "df.show()"
   ]
  },
  {
   "cell_type": "code",
   "execution_count": null,
   "metadata": {},
   "outputs": [],
   "source": [
    "#get all the records where age>40\n",
    "df.where('age > 40').show(5)"
   ]
  },
  {
   "cell_type": "code",
   "execution_count": null,
   "metadata": {},
   "outputs": [],
   "source": [
    "#get all records where fname starts with 'S'\n",
    "df.where('fname like \"S%\"').show(5)"
   ]
  },
  {
   "cell_type": "code",
   "execution_count": null,
   "metadata": {},
   "outputs": [],
   "source": [
    "#get all the records where desig is (\"Teacher\",\"Pilot\",\"Lawyer\")\n",
    "df.where('desig in (\"Teacher\",\"Pilot\",\"Lawyer\")').show(5)"
   ]
  },
  {
   "cell_type": "code",
   "execution_count": null,
   "metadata": {},
   "outputs": [],
   "source": [
    "#get all the records where age>50 and desig is \"Pilot\"\n",
    "df.where('desig = \"Pilot\" and age > 50' ).show(5)"
   ]
  },
  {
   "cell_type": "code",
   "execution_count": null,
   "metadata": {},
   "outputs": [],
   "source": [
    "#get all the records where age is between 40 and 50\n",
    "df.where('age between 40 and 50').show(5)"
   ]
  },
  {
   "cell_type": "code",
   "execution_count": null,
   "metadata": {},
   "outputs": [],
   "source": [
    "#get designation wise count\n",
    "df.groupBy('desig').count().show(5)"
   ]
  },
  {
   "cell_type": "code",
   "execution_count": null,
   "metadata": {},
   "outputs": [],
   "source": [
    "#get top 10 designations count wise\n",
    "from pyspark.sql.functions import desc\n",
    "df.groupBy('desig').count().orderBy(desc(\"count\")).show(10)"
   ]
  },
  {
   "cell_type": "markdown",
   "metadata": {},
   "source": [
    "### Column Based Expression\n"
   ]
  },
  {
   "cell_type": "code",
   "execution_count": 21,
   "metadata": {},
   "outputs": [],
   "source": [
    "# from pyspark.sql.functions import col\n",
    "from pyspark.sql.functions import column"
   ]
  },
  {
   "cell_type": "code",
   "execution_count": 24,
   "metadata": {},
   "outputs": [
    {
     "name": "stdout",
     "output_type": "stream",
     "text": [
      "+-------+---------+-------+---+--------------------+\n",
      "|    cid|    fname|  lname|age|               desig|\n",
      "+-------+---------+-------+---+--------------------+\n",
      "|4000003|   Sherri| Melton| 34|         Firefighter|\n",
      "|4000012|    Sandy| Raynor| 26|              Writer|\n",
      "|4000030|Stephanie|Hawkins| 50|Human resources a...|\n",
      "|4000035|  Shelley|  Weeks| 25|            Reporter|\n",
      "|4000052|  Shirley|Merritt| 21|            Reporter|\n",
      "+-------+---------+-------+---+--------------------+\n",
      "only showing top 5 rows\n",
      "\n"
     ]
    }
   ],
   "source": [
    "\n",
    "#get all records where fname starts with 'S'\n",
    "df.where(column(\"fname\").startswith(\"S\")).show(5)"
   ]
  },
  {
   "cell_type": "code",
   "execution_count": 26,
   "metadata": {},
   "outputs": [
    {
     "name": "stdout",
     "output_type": "stream",
     "text": [
      "+-------+--------+--------+---+-------+\n",
      "|    cid|   fname|   lname|age|  desig|\n",
      "+-------+--------+--------+---+-------+\n",
      "|4000001|Kristina|   Chung| 55|  Pilot|\n",
      "|4000002|   Paige|    Chen| 74|Teacher|\n",
      "|4000005|   Karen| Puckett| 74| Lawyer|\n",
      "|4000007|   Elsie|Hamilton| 43|  Pilot|\n",
      "|4000026|  Marian| Solomon| 27| Lawyer|\n",
      "+-------+--------+--------+---+-------+\n",
      "only showing top 5 rows\n",
      "\n"
     ]
    }
   ],
   "source": [
    "#get all the records where desig is (\"Teacher\",\"Pilot\",\"Lawyer\")\n",
    "df.where(column(\"desig\").isin(\"Teacher\",\"Pilot\",\"Lawyer\")).show(5)"
   ]
  },
  {
   "cell_type": "code",
   "execution_count": 38,
   "metadata": {},
   "outputs": [
    {
     "name": "stdout",
     "output_type": "stream",
     "text": [
      "+-------+--------+-------+---+-----+\n",
      "|    cid|   fname|  lname|age|desig|\n",
      "+-------+--------+-------+---+-----+\n",
      "|4000001|Kristina|  Chung| 55|Pilot|\n",
      "|4000229|    Faye| Norman| 64|Pilot|\n",
      "|4000251|  Jeremy|  House| 61|Pilot|\n",
      "|4000271|   Alice|  Nance| 59|Pilot|\n",
      "|4000336|  Steven|Ballard| 62|Pilot|\n",
      "+-------+--------+-------+---+-----+\n",
      "only showing top 5 rows\n",
      "\n"
     ]
    }
   ],
   "source": [
    "#get all the records where age>50 and desig is \"Pilot\"\n",
    "df.where((column(\"desig\")=='Pilot') & (column(\"age\")>50)).show(5)"
   ]
  },
  {
   "cell_type": "code",
   "execution_count": 35,
   "metadata": {},
   "outputs": [
    {
     "name": "stdout",
     "output_type": "stream",
     "text": [
      "+-------+-------+--------+---+------------+\n",
      "|    cid|  fname|   lname|age|       desig|\n",
      "+-------+-------+--------+---+------------+\n",
      "|4000006|Patrick|    Song| 42|Veterinarian|\n",
      "|4000007|  Elsie|Hamilton| 43|       Pilot|\n",
      "|4000011|Francis|McNamara| 47|   Therapist|\n",
      "|4000013| Marion|    Moon| 41|   Carpenter|\n",
      "|4000015|  Julia|   Desai| 49|    Musician|\n",
      "+-------+-------+--------+---+------------+\n",
      "only showing top 5 rows\n",
      "\n"
     ]
    }
   ],
   "source": [
    "#get all the records where age is between 40 and 50\n",
    "df.where(column(\"age\").between(40,50)).show(5)"
   ]
  },
  {
   "cell_type": "code",
   "execution_count": 39,
   "metadata": {},
   "outputs": [
    {
     "name": "stdout",
     "output_type": "stream",
     "text": [
      "+-------+-------+---------+---+-----+\n",
      "|    cid|  fname|    lname|age|desig|\n",
      "+-------+-------+---------+---+-----+\n",
      "|4000014|   Beth|  Woodard| 65| null|\n",
      "|4000046|  Louis|Rosenthal| 31| null|\n",
      "|4000257| Monica|   Dodson| 58| null|\n",
      "|4000327|Heather|   Dawson| 43| null|\n",
      "|4000411| Joanna|   Hoover| 50| null|\n",
      "|4000463|  Wayne|   Weiner| 70| null|\n",
      "|4000494|Stephen|   Waller| 75| null|\n",
      "|4000679|Herbert| Jernigan| 59| null|\n",
      "|4000695|  Chris| Anderson| 52| null|\n",
      "|4000890| Hannah|    Casey| 30| null|\n",
      "+-------+-------+---------+---+-----+\n",
      "only showing top 10 rows\n",
      "\n"
     ]
    }
   ],
   "source": [
    "#get all the records where dsig is null\n",
    "df.where(column(\"desig\").isNull()).show(10)"
   ]
  }
 ],
 "metadata": {
  "kernelspec": {
   "display_name": "Python 3",
   "language": "python",
   "name": "python3"
  },
  "language_info": {
   "codemirror_mode": {
    "name": "ipython",
    "version": 3
   },
   "file_extension": ".py",
   "mimetype": "text/x-python",
   "name": "python",
   "nbconvert_exporter": "python",
   "pygments_lexer": "ipython3",
   "version": "3.11.3"
  },
  "orig_nbformat": 4
 },
 "nbformat": 4,
 "nbformat_minor": 2
}
