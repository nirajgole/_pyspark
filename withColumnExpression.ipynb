{
 "cells": [
  {
   "cell_type": "code",
   "execution_count": 2,
   "metadata": {},
   "outputs": [
    {
     "data": {
      "text/plain": [
       "'C:\\\\Program Files\\\\spark\\\\spark-3.4.1-bin-hadoop3'"
      ]
     },
     "execution_count": 2,
     "metadata": {},
     "output_type": "execute_result"
    }
   ],
   "source": [
    "import findspark\n",
    "findspark.init()\n",
    "findspark.find()"
   ]
  },
  {
   "cell_type": "code",
   "execution_count": 3,
   "metadata": {},
   "outputs": [],
   "source": [
    "from pyspark.sql import SparkSession\n",
    "spark = SparkSession.builder.appName(\"WithColumn\").master(\"local[2]\").getOrCreate()"
   ]
  },
  {
   "cell_type": "code",
   "execution_count": 4,
   "metadata": {},
   "outputs": [],
   "source": [
    "data=[\n",
    "    ('Sagar','12','3','2'),\n",
    "    ('Shiva','13','4','3'),\n",
    "    ('Shekhar','10','6','4'),\n",
    "    ('Samruddhi','1','12','23'),\n",
    "    ('Sanjana','23','3','97'),\n",
    "    ('Sagar','12','3','2'),\n",
    "    ]"
   ]
  },
  {
   "cell_type": "code",
   "execution_count": 5,
   "metadata": {},
   "outputs": [
    {
     "name": "stdout",
     "output_type": "stream",
     "text": [
      "root\n",
      " |-- name: string (nullable = true)\n",
      " |-- day: string (nullable = true)\n",
      " |-- month: string (nullable = true)\n",
      " |-- year: string (nullable = true)\n",
      "\n"
     ]
    }
   ],
   "source": [
    "df=spark.createDataFrame(data).toDF('name','day','month','year')\n",
    "df.printSchema()"
   ]
  },
  {
   "cell_type": "code",
   "execution_count": 6,
   "metadata": {},
   "outputs": [],
   "source": [
    "from pyspark.sql.functions import make_date,col,when\n",
    "from pyspark.sql.types import IntegerType\n",
    "\n",
    "rdd=df\\\n",
    "    .withColumn('year',col('year')\\\n",
    "    .cast(IntegerType()))\\\n",
    "    .withColumn('year',when(col('year')<24,col('year')+2000)\\\n",
    "    .when(col('year')<100,col('year')+1900)\\\n",
    "    .otherwise((col('year'))))\\\n",
    "    .withColumn('doj',make_date(col('year'), col('month'), col('day')))\\\n",
    "    .drop('year','month','day')\\\n",
    "    .dropDuplicates()\n",
    "\n"
   ]
  },
  {
   "cell_type": "code",
   "execution_count": 7,
   "metadata": {},
   "outputs": [
    {
     "name": "stdout",
     "output_type": "stream",
     "text": [
      "+---------+----------+\n",
      "|     name|       doj|\n",
      "+---------+----------+\n",
      "|  Shekhar|2004-06-10|\n",
      "|    Shiva|2003-04-13|\n",
      "|    Sagar|2002-03-12|\n",
      "|Samruddhi|2023-12-01|\n",
      "|  Sanjana|1997-03-23|\n",
      "+---------+----------+\n",
      "\n"
     ]
    }
   ],
   "source": [
    "rdd.show()"
   ]
  },
  {
   "cell_type": "code",
   "execution_count": 8,
   "metadata": {},
   "outputs": [
    {
     "name": "stdout",
     "output_type": "stream",
     "text": [
      "root\n",
      " |-- name: string (nullable = true)\n",
      " |-- doj: date (nullable = true)\n",
      "\n"
     ]
    }
   ],
   "source": [
    "rdd.printSchema()"
   ]
  }
 ],
 "metadata": {
  "kernelspec": {
   "display_name": "Python 3",
   "language": "python",
   "name": "python3"
  },
  "language_info": {
   "codemirror_mode": {
    "name": "ipython",
    "version": 3
   },
   "file_extension": ".py",
   "mimetype": "text/x-python",
   "name": "python",
   "nbconvert_exporter": "python",
   "pygments_lexer": "ipython3",
   "version": "3.11.3"
  },
  "orig_nbformat": 4
 },
 "nbformat": 4,
 "nbformat_minor": 2
}
