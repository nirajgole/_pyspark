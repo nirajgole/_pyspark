{
 "cells": [
  {
   "cell_type": "markdown",
   "metadata": {},
   "source": [
    "### Aggregation (SQL)\n",
    "\n",
    "1. Min\n",
    "2. Max\n",
    "3. Avg\n",
    "4. Sum\n"
   ]
  },
  {
   "cell_type": "code",
   "execution_count": 1,
   "metadata": {},
   "outputs": [
    {
     "data": {
      "text/plain": [
       "'C:\\\\Program Files\\\\spark\\\\spark-3.4.1-bin-hadoop3'"
      ]
     },
     "execution_count": 1,
     "metadata": {},
     "output_type": "execute_result"
    }
   ],
   "source": [
    "import findspark\n",
    "findspark.init()\n",
    "findspark.find()"
   ]
  },
  {
   "cell_type": "code",
   "execution_count": 2,
   "metadata": {},
   "outputs": [],
   "source": [
    "from pyspark.sql import SparkSession, functions as fs\n",
    "spark=SparkSession.builder.appName('Aggregation').master('local[2]').getOrCreate()"
   ]
  },
  {
   "cell_type": "code",
   "execution_count": 3,
   "metadata": {},
   "outputs": [],
   "source": [
    "from pyspark.sql.types import StructType,StructField,StringType,IntegerType\n",
    "\n",
    "schema=StructType([\n",
    "    StructField(\"cid\", StringType(), True),\n",
    "    StructField(\"fname\", StringType(), True),\n",
    "    StructField(\"lname\", StringType(), True),\n",
    "    StructField(\"age\", IntegerType(), True),\n",
    "    StructField(\"desig\", StringType(), True),\n",
    "])"
   ]
  },
  {
   "cell_type": "code",
   "execution_count": 4,
   "metadata": {},
   "outputs": [
    {
     "name": "stdout",
     "output_type": "stream",
     "text": [
      "+-------+--------+----------+---+--------------------+\n",
      "|    cid|   fname|     lname|age|               desig|\n",
      "+-------+--------+----------+---+--------------------+\n",
      "|4000001|Kristina|     Chung| 55|               Pilot|\n",
      "|4000002|   Paige|      Chen| 74|             Teacher|\n",
      "|4000003|  Sherri|    Melton| 34|         Firefighter|\n",
      "|4000004|Gretchen|      Hill| 66|Computer hardware...|\n",
      "|4000005|   Karen|   Puckett| 74|              Lawyer|\n",
      "|4000006| Patrick|      Song| 42|        Veterinarian|\n",
      "|4000007|   Elsie|  Hamilton| 43|               Pilot|\n",
      "|4000008|   Hazel|    Bender| 63|           Carpenter|\n",
      "|4000009| Malcolm|    Wagner| 39|              Artist|\n",
      "|4000010| Dolores|McLaughlin| 60|              Writer|\n",
      "+-------+--------+----------+---+--------------------+\n",
      "only showing top 10 rows\n",
      "\n"
     ]
    }
   ],
   "source": [
    "#permissive mode\n",
    "df=spark.read\\\n",
    "    .option('mode','permissive')\\\n",
    "        .option('header',True)\\\n",
    "        .schema(schema)\\\n",
    "        .csv('../data/custs_with_header.csv')\n",
    "\n",
    "df.show(10) #default show 20 records"
   ]
  },
  {
   "cell_type": "code",
   "execution_count": 5,
   "metadata": {},
   "outputs": [
    {
     "name": "stdout",
     "output_type": "stream",
     "text": [
      "+-----------------+--------+--------+--------+\n",
      "|         avg(age)|sum(age)|min(age)|max(age)|\n",
      "+-----------------+--------+--------+--------+\n",
      "|48.56805680568057|  485632|      21|      75|\n",
      "+-----------------+--------+--------+--------+\n",
      "\n"
     ]
    }
   ],
   "source": [
    "df.select(fs.avg('age'),fs.sum('age'),fs.min('age'),fs.max('age')).show()"
   ]
  },
  {
   "cell_type": "markdown",
   "metadata": {},
   "source": [
    "### Multiple Aggregation\n"
   ]
  },
  {
   "cell_type": "code",
   "execution_count": 17,
   "metadata": {},
   "outputs": [
    {
     "name": "stdout",
     "output_type": "stream",
     "text": [
      "+--------------------+-----+\n",
      "|               desig|count|\n",
      "+--------------------+-----+\n",
      "|          Politician|  227|\n",
      "|        Photographer|  222|\n",
      "|Computer support ...|  222|\n",
      "|        Loan officer|  221|\n",
      "|           Librarian|  218|\n",
      "|         Firefighter|  217|\n",
      "|Computer software...|  216|\n",
      "|          Pharmacist|  213|\n",
      "|Human resources a...|  212|\n",
      "|       Social worker|  212|\n",
      "|Recreation and fi...|  210|\n",
      "|      Police officer|  209|\n",
      "|               Pilot|  209|\n",
      "|        Veterinarian|  208|\n",
      "|    Childcare worker|  207|\n",
      "|             Chemist|  206|\n",
      "|            Musician|  204|\n",
      "|            Designer|  204|\n",
      "|Computer hardware...|  204|\n",
      "|Engineering techn...|  204|\n",
      "+--------------------+-----+\n",
      "only showing top 20 rows\n",
      "\n"
     ]
    }
   ],
   "source": [
    "df.groupby('desig').count().orderBy(\"count\",ascending=False).show()"
   ]
  },
  {
   "cell_type": "code",
   "execution_count": 22,
   "metadata": {},
   "outputs": [
    {
     "name": "stdout",
     "output_type": "stream",
     "text": [
      "+--------------------+---------+-----------+--------+--------+\n",
      "|               desig|Total Age|average_age|min(age)|max(age)|\n",
      "+--------------------+---------+-----------+--------+--------+\n",
      "|               Coach|     9048|       45.0|      21|      75|\n",
      "|          Pharmacist|     9850|       46.0|      21|      75|\n",
      "|              Lawyer|     9532|       47.0|      21|      75|\n",
      "|                null|     3919|       47.0|      21|      75|\n",
      "|           Secretary|     9398|       47.0|      21|      75|\n",
      "|              Artist|     8170|       47.0|      21|      75|\n",
      "|      Civil engineer|     9136|       47.0|      21|      75|\n",
      "|        Psychologist|     9199|       47.0|      21|      75|\n",
      "|           Librarian|    10450|       48.0|      21|      75|\n",
      "|    Childcare worker|     9983|       48.0|      22|      75|\n",
      "|        Photographer|    10606|       48.0|      21|      75|\n",
      "|           Carpenter|     8692|       48.0|      21|      75|\n",
      "|               Pilot|     9989|       48.0|      21|      75|\n",
      "|      Police officer|    10027|       48.0|      21|      75|\n",
      "|Recreation and fi...|     9989|       48.0|      21|      75|\n",
      "|               Nurse|     9260|       48.0|      21|      75|\n",
      "|Agricultural and ...|     9411|       48.0|      21|      74|\n",
      "|         Electrician|     9386|       48.0|      22|      75|\n",
      "|Computer support ...|    10609|       48.0|      21|      74|\n",
      "|Engineering techn...|     9888|       48.0|      21|      75|\n",
      "+--------------------+---------+-----------+--------+--------+\n",
      "only showing top 20 rows\n",
      "\n"
     ]
    }
   ],
   "source": [
    "average_age= fs.round(fs.avg('age')).alias('average_age')\n",
    "df.groupBy('desig')\\\n",
    "    .agg(\n",
    "        fs.sum('age').alias('Total Age'),\n",
    "       average_age,\n",
    "        fs.min('age'),\n",
    "        fs.max('age')\n",
    "    )\\\n",
    "        .orderBy('average_age')\\\n",
    "        .show()"
   ]
  }
 ],
 "metadata": {
  "kernelspec": {
   "display_name": "Python 3",
   "language": "python",
   "name": "python3"
  },
  "language_info": {
   "codemirror_mode": {
    "name": "ipython",
    "version": 3
   },
   "file_extension": ".py",
   "mimetype": "text/x-python",
   "name": "python",
   "nbconvert_exporter": "python",
   "pygments_lexer": "ipython3",
   "version": "3.11.3"
  },
  "orig_nbformat": 4
 },
 "nbformat": 4,
 "nbformat_minor": 2
}
