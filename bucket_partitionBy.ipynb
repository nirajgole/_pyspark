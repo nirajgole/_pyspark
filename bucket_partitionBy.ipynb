{
 "cells": [
  {
   "cell_type": "code",
   "execution_count": null,
   "id": "17f57daf-6481-42e0-9e21-ccfbcb4e15a4",
   "metadata": {},
   "outputs": [],
   "source": [
    "import findspark"
   ]
  },
  {
   "cell_type": "code",
   "execution_count": null,
   "id": "16537973-60db-466a-91fc-037d3405dbc7",
   "metadata": {},
   "outputs": [],
   "source": [
    "findspark.init(\"D:\\\\spark3\")"
   ]
  },
  {
   "cell_type": "code",
   "execution_count": 27,
   "id": "5e6c854f-1eb7-4ef4-b903-06aa6ca1c651",
   "metadata": {},
   "outputs": [
    {
     "data": {
      "text/plain": [
       "'D:\\\\spark3'"
      ]
     },
     "execution_count": 27,
     "metadata": {},
     "output_type": "execute_result"
    }
   ],
   "source": [
    "findspark.find()"
   ]
  },
  {
   "cell_type": "code",
   "execution_count": null,
   "id": "09da3c05-adf2-4b9d-9b1e-ac60e3b8a3da",
   "metadata": {},
   "outputs": [],
   "source": [
    "from pyspark.sql import SparkSession"
   ]
  },
  {
   "cell_type": "code",
   "execution_count": null,
   "id": "f2c40e11-2894-4f13-8740-3cc838aa2dc5",
   "metadata": {},
   "outputs": [],
   "source": [
    "spark = SparkSession.builder\\\n",
    "                   .appName(\"DF Operations\")\\\n",
    "                   .master(\"local[2]\")\\\n",
    "                   .enableHiveSupport()\\\n",
    "                   .getOrCreate()"
   ]
  },
  {
   "cell_type": "code",
   "execution_count": null,
   "id": "3d14701c-18b1-4ac6-9425-dfcc007a0bfe",
   "metadata": {},
   "outputs": [],
   "source": [
    "spark"
   ]
  },
  {
   "cell_type": "code",
   "execution_count": null,
   "id": "5c31cc6a-e469-4e7a-b872-35e33074285a",
   "metadata": {},
   "outputs": [],
   "source": [
    "from pyspark.sql.types import StructType,StructField,StringType,IntegerType,FloatType,DateType,TimestampType,ArrayType"
   ]
  },
  {
   "cell_type": "code",
   "execution_count": null,
   "id": "09dd6f34-3244-409d-9d08-f799b4d32d33",
   "metadata": {},
   "outputs": [],
   "source": [
    "custSchema = StructType([\n",
    "                        StructField(\"cid\",IntegerType()),\n",
    "                        StructField(\"fname\",StringType()),\n",
    "                        StructField(\"lname\",StringType()),\n",
    "                        StructField(\"age\",IntegerType()),\n",
    "                        StructField(\"desig\",StringType()) \n",
    "                      ])"
   ]
  },
  {
   "cell_type": "code",
   "execution_count": null,
   "id": "51b34cc8-406b-4111-8d29-4c02945b8e1b",
   "metadata": {},
   "outputs": [],
   "source": [
    "custDF = spark.read\\\n",
    "          .option(\"header\",True)\\\n",
    "          .schema(custSchema)\\\n",
    "          .csv(\"d:\\\\data\\\\custs.txt\")\n",
    "custDF.show()"
   ]
  },
  {
   "cell_type": "code",
   "execution_count": 25,
   "id": "03478a3b-d325-4394-8c53-8ffd50543d2a",
   "metadata": {},
   "outputs": [
    {
     "data": {
      "text/plain": [
       "DataFrame[]"
      ]
     },
     "execution_count": 25,
     "metadata": {},
     "output_type": "execute_result"
    }
   ],
   "source": [
    "spark.sql(\"CREATE DATABASE IF NOT EXISTS mydb\")\n",
    "spark.sql(\"USE mydb\")"
   ]
  },
  {
   "cell_type": "code",
   "execution_count": 26,
   "id": "1be8198b-7836-498d-b319-de6dc0c4496b",
   "metadata": {},
   "outputs": [],
   "source": [
    "custDF.write\\\n",
    "      .partitionBy(\"desig\")\\\n",
    "      .format(\"json\")\\\n",
    "      .saveAsTable(\"custTable\")\n",
    "\n",
    "# spark.sql(\"drop table custTable\")"
   ]
  },
  {
   "cell_type": "code",
   "execution_count": null,
   "id": "a706075d-353c-4949-a3da-dc4750bee947",
   "metadata": {},
   "outputs": [],
   "source": [
    "spark.read.table(\"custTable\").where(\"age > 70\").show()"
   ]
  },
  {
   "cell_type": "code",
   "execution_count": 24,
   "id": "0d4af22e-55ee-4611-a514-0ac2fd06a3e5",
   "metadata": {},
   "outputs": [],
   "source": [
    "custDF.write\\\n",
    "      .bucketBy(5,\"desig\")\\\n",
    "      .format(\"json\")\\\n",
    "      .saveAsTable(\"custTableNew\")"
   ]
  },
  {
   "cell_type": "code",
   "execution_count": null,
   "id": "2a537499-56b9-48e6-bd5e-8737b72d6872",
   "metadata": {},
   "outputs": [],
   "source": []
  }
 ],
 "metadata": {
  "kernelspec": {
   "display_name": "Python 3 (ipykernel)",
   "language": "python",
   "name": "python3"
  },
  "language_info": {
   "codemirror_mode": {
    "name": "ipython",
    "version": 3
   },
   "file_extension": ".py",
   "mimetype": "text/x-python",
   "name": "python",
   "nbconvert_exporter": "python",
   "pygments_lexer": "ipython3",
   "version": "3.7.10"
  }
 },
 "nbformat": 4,
 "nbformat_minor": 5
}
